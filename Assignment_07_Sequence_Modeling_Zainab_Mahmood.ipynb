{
  "nbformat": 4,
  "nbformat_minor": 0,
  "metadata": {
    "colab": {
      "name": "Assignment 07: Sequence Modeling - Zainab Mahmood",
      "provenance": [],
      "collapsed_sections": [],
      "toc_visible": true,
      "include_colab_link": true
    },
    "kernelspec": {
      "name": "python3",
      "display_name": "Python 3"
    },
    "language_info": {
      "name": "python"
    },
    "accelerator": "GPU"
  },
  "cells": [
    {
      "cell_type": "markdown",
      "metadata": {
        "id": "view-in-github",
        "colab_type": "text"
      },
      "source": [
        "<a href=\"https://colab.research.google.com/github/zainab9271/AI-Dojo_Machine_learning_bootcamp/blob/main/Assignment_07_Sequence_Modeling_Zainab_Mahmood.ipynb\" target=\"_parent\"><img src=\"https://colab.research.google.com/assets/colab-badge.svg\" alt=\"Open In Colab\"/></a>"
      ]
    },
    {
      "cell_type": "markdown",
      "source": [
        "#Assignment 07: Sequence Modeling\n",
        "\n",
        "This Week's assignment is to train sequence models on the `Emoji Data` to classify the sentences emotion. You'll be creating models that takes in a sentence and predicts the appropriate emoji that describes the sentiment.\n",
        "\n",
        "Before starting copy this file and work on your own copy by following the below steps: <br>\n",
        "`File > Save Copy in Drive`. Then add your name to the file (e.g., Assignment 07: Sequence Modeling - Zahraa Dhafer).\n",
        "\n",
        "**DATASET**\n",
        "The dataset consists of two csv files, a training file with 16k rows and a testing file with 2k rows, each row has 3 columns, the sentence, the emotion as text (meant to provide description to the emoji and not to be used in training/testing) and the emoji symbol (e.g. 😄, 😡, 😍).<br><br>\n",
        "**Submission Deadline: Thursday, 3/3/2022 at 3:00 PM**\n",
        "\n",
        "**Requirements:**\n",
        "1. Set TensorFlow's random seed to 42.\n",
        "2. Import all necessary libraries for the sequence modeling project.\n",
        "3. Download the dataset (the link is provided below).\n",
        "4. Read data from CSV files and split it into inputs and targets (no need to do train_test_split as the data is already split).\n",
        "**Note**: Read both Train and Test files\n",
        "5. Tokenize and pad the text, use a vocabulary size of 10,000 and maximum sequence length of 64.\n",
        "6. Do the appropriate operations on the targets to prepare them for training.\n",
        "7. Define the sequential models, make sure to use RNN,LSTM,GRU and DNN with Embedding layers using Bidirectional LSTM if necessary. The training and validation accuracy should be at least 94% and 88% respectively.\n",
        "8. Use Adam optimizer and the appropriate loss function and metrics to compile the model.\n",
        "9. Use ModelCheckpoint callback to save the models at the epoch with the best validation accuracy, each model file should have your name (e.g. for Zahraa Dhafer, the model's file name would be \"LSTM_Zahraa_D.h5). Make sure to download the model file as it will be a part of your assignment submission. <br>[ModelCheckpoint documentation](https://www.tensorflow.org/api_docs/python/tf/keras/callbacks/ModelCheckpoint)\n",
        "10. Plot the models metrics.\n",
        "\n",
        "\n",
        "\n",
        "\n",
        "**HINTS:**\n",
        "Set the new hyperparameters like vocabulary size, input length (i.e. max sequence length) in a separate cell after the import cell in your notebook (failing to do so will affect your style score)\n",
        "\n",
        "**Note:** To get the best performance from the model, manually tune the hyperparameters of each model. \n",
        "\n",
        "Find relevant links below:<br>\n",
        "\n",
        "[Assignment Colab File](https://colab.research.google.com/drive/129V6jlMgzfOWi033t7xIgdn0ZKRvnjP-?usp=sharing)<br>\n",
        "[Dataset](https://drive.google.com/drive/folders/1i7LmIH7sJHSARAMXgznBqXZ82tzMhYiL?usp=sharing)\n",
        "\n",
        "[Submission Form](https://docs.google.com/forms/d/e/1FAIpQLSff0OH5akQLPw7LArOYwXwVvJVHtQSgKGnfxlpI8OL-NBUrcg/viewform?usp=pp_url)<br>\n",
        "\n",
        "\n",
        "Good luck and feel free to ask any questions in the or on the Questions channel."
      ],
      "metadata": {
        "id": "AU78WMPocdFw"
      }
    },
    {
      "cell_type": "code",
      "source": [
        "from google.colab import drive\n",
        "drive.mount('/content/drive')"
      ],
      "metadata": {
        "colab": {
          "base_uri": "https://localhost:8080/"
        },
        "id": "ySNe6g6r8BaK",
        "outputId": "bde4d487-8263-4e7d-d8a9-04f06c018668"
      },
      "execution_count": null,
      "outputs": [
        {
          "output_type": "stream",
          "name": "stdout",
          "text": [
            "Mounted at /content/drive\n"
          ]
        }
      ]
    },
    {
      "cell_type": "markdown",
      "source": [
        "# 1- Import all necessary libraries for the sequence modeling project"
      ],
      "metadata": {
        "id": "NY3o4kreqOLG"
      }
    },
    {
      "cell_type": "code",
      "source": [
        "# write your code below\n",
        "\n",
        "import tensorflow as tf\n",
        "import pandas as pd\n",
        "import numpy as np\n",
        "import matplotlib.pyplot as plt\n",
        "import re\n",
        "import seaborn as sn\n",
        "from sklearn import metrics\n",
        "import nltk\n",
        "nltk.download('stopwords')\n",
        "from nltk.corpus import stopwords"
      ],
      "metadata": {
        "id": "0nYUDKQBic7L",
        "colab": {
          "base_uri": "https://localhost:8080/"
        },
        "outputId": "b422e855-95f5-4cdb-c53a-96d1f5192685"
      },
      "execution_count": null,
      "outputs": [
        {
          "output_type": "stream",
          "name": "stdout",
          "text": [
            "[nltk_data] Downloading package stopwords to /root/nltk_data...\n",
            "[nltk_data]   Unzipping corpora/stopwords.zip.\n"
          ]
        }
      ]
    },
    {
      "cell_type": "code",
      "source": [
        "tf.random.set_seed(42)"
      ],
      "metadata": {
        "id": "Zk6P1w8YMR8Y"
      },
      "execution_count": null,
      "outputs": []
    },
    {
      "cell_type": "markdown",
      "source": [
        "# 2- Download the dataset"
      ],
      "metadata": {
        "id": "dG-8I4sUqatO"
      }
    },
    {
      "cell_type": "code",
      "source": [
        "# write your code below\n",
        "\n",
        "!gdown --id \"1v3xPVj9d9DmuusXFWFUtKiMPtIX6ffLt\"\n",
        "!gdown --id \"1peqmLNHwf5NUgBl_qibVixNHxxwQ69jk\""
      ],
      "metadata": {
        "id": "TPmmLNyHaq8a",
        "colab": {
          "base_uri": "https://localhost:8080/"
        },
        "outputId": "6d855907-230d-452c-a7da-9f351070612f"
      },
      "execution_count": null,
      "outputs": [
        {
          "output_type": "stream",
          "name": "stdout",
          "text": [
            "Downloading...\n",
            "From: https://drive.google.com/uc?id=1v3xPVj9d9DmuusXFWFUtKiMPtIX6ffLt\n",
            "To: /content/test.csv\n",
            "100% 217k/217k [00:00<00:00, 80.2MB/s]\n",
            "Downloading...\n",
            "From: https://drive.google.com/uc?id=1peqmLNHwf5NUgBl_qibVixNHxxwQ69jk\n",
            "To: /content/train.csv\n",
            "100% 1.74M/1.74M [00:00<00:00, 146MB/s]\n"
          ]
        }
      ]
    },
    {
      "cell_type": "markdown",
      "source": [
        "# 3- Read data from CSV files and split it into inputs and targets \n",
        "\n",
        "**Note**: no need to do train_test_split as the data is already split"
      ],
      "metadata": {
        "id": "MLA4G5gFqjOz"
      }
    },
    {
      "cell_type": "code",
      "source": [
        "# write your code below\n",
        "\n",
        "train_df = pd.read_csv('/content/train.csv')\n",
        "train_df.drop(['emotion'], axis=1, inplace=True)\n",
        "train_df"
      ],
      "metadata": {
        "id": "U5jS8nESqtmf",
        "colab": {
          "base_uri": "https://localhost:8080/",
          "height": 423
        },
        "outputId": "6f70aa51-a512-4926-86fe-b32e23c98ea4"
      },
      "execution_count": null,
      "outputs": [
        {
          "output_type": "execute_result",
          "data": {
            "text/html": [
              "\n",
              "  <div id=\"df-2afa9f84-5b84-48b1-b68f-d1dc83ce8ad5\">\n",
              "    <div class=\"colab-df-container\">\n",
              "      <div>\n",
              "<style scoped>\n",
              "    .dataframe tbody tr th:only-of-type {\n",
              "        vertical-align: middle;\n",
              "    }\n",
              "\n",
              "    .dataframe tbody tr th {\n",
              "        vertical-align: top;\n",
              "    }\n",
              "\n",
              "    .dataframe thead th {\n",
              "        text-align: right;\n",
              "    }\n",
              "</style>\n",
              "<table border=\"1\" class=\"dataframe\">\n",
              "  <thead>\n",
              "    <tr style=\"text-align: right;\">\n",
              "      <th></th>\n",
              "      <th>text</th>\n",
              "      <th>emoji</th>\n",
              "    </tr>\n",
              "  </thead>\n",
              "  <tbody>\n",
              "    <tr>\n",
              "      <th>0</th>\n",
              "      <td>i didnt feel humiliated</td>\n",
              "      <td>😢</td>\n",
              "    </tr>\n",
              "    <tr>\n",
              "      <th>1</th>\n",
              "      <td>i can go from feeling so hopeless to so damned...</td>\n",
              "      <td>😢</td>\n",
              "    </tr>\n",
              "    <tr>\n",
              "      <th>2</th>\n",
              "      <td>im grabbing a minute to post i feel greedy wrong</td>\n",
              "      <td>😡</td>\n",
              "    </tr>\n",
              "    <tr>\n",
              "      <th>3</th>\n",
              "      <td>i am ever feeling nostalgic about the fireplac...</td>\n",
              "      <td>😍</td>\n",
              "    </tr>\n",
              "    <tr>\n",
              "      <th>4</th>\n",
              "      <td>i am feeling grouchy</td>\n",
              "      <td>😡</td>\n",
              "    </tr>\n",
              "    <tr>\n",
              "      <th>...</th>\n",
              "      <td>...</td>\n",
              "      <td>...</td>\n",
              "    </tr>\n",
              "    <tr>\n",
              "      <th>15995</th>\n",
              "      <td>i just had a very brief time in the beanbag an...</td>\n",
              "      <td>😢</td>\n",
              "    </tr>\n",
              "    <tr>\n",
              "      <th>15996</th>\n",
              "      <td>i am now turning and i feel pathetic that i am...</td>\n",
              "      <td>😢</td>\n",
              "    </tr>\n",
              "    <tr>\n",
              "      <th>15997</th>\n",
              "      <td>i feel strong and good overall</td>\n",
              "      <td>😄</td>\n",
              "    </tr>\n",
              "    <tr>\n",
              "      <th>15998</th>\n",
              "      <td>i feel like this was such a rude comment and i...</td>\n",
              "      <td>😡</td>\n",
              "    </tr>\n",
              "    <tr>\n",
              "      <th>15999</th>\n",
              "      <td>i know a lot but i feel so stupid because i ca...</td>\n",
              "      <td>😢</td>\n",
              "    </tr>\n",
              "  </tbody>\n",
              "</table>\n",
              "<p>16000 rows × 2 columns</p>\n",
              "</div>\n",
              "      <button class=\"colab-df-convert\" onclick=\"convertToInteractive('df-2afa9f84-5b84-48b1-b68f-d1dc83ce8ad5')\"\n",
              "              title=\"Convert this dataframe to an interactive table.\"\n",
              "              style=\"display:none;\">\n",
              "        \n",
              "  <svg xmlns=\"http://www.w3.org/2000/svg\" height=\"24px\"viewBox=\"0 0 24 24\"\n",
              "       width=\"24px\">\n",
              "    <path d=\"M0 0h24v24H0V0z\" fill=\"none\"/>\n",
              "    <path d=\"M18.56 5.44l.94 2.06.94-2.06 2.06-.94-2.06-.94-.94-2.06-.94 2.06-2.06.94zm-11 1L8.5 8.5l.94-2.06 2.06-.94-2.06-.94L8.5 2.5l-.94 2.06-2.06.94zm10 10l.94 2.06.94-2.06 2.06-.94-2.06-.94-.94-2.06-.94 2.06-2.06.94z\"/><path d=\"M17.41 7.96l-1.37-1.37c-.4-.4-.92-.59-1.43-.59-.52 0-1.04.2-1.43.59L10.3 9.45l-7.72 7.72c-.78.78-.78 2.05 0 2.83L4 21.41c.39.39.9.59 1.41.59.51 0 1.02-.2 1.41-.59l7.78-7.78 2.81-2.81c.8-.78.8-2.07 0-2.86zM5.41 20L4 18.59l7.72-7.72 1.47 1.35L5.41 20z\"/>\n",
              "  </svg>\n",
              "      </button>\n",
              "      \n",
              "  <style>\n",
              "    .colab-df-container {\n",
              "      display:flex;\n",
              "      flex-wrap:wrap;\n",
              "      gap: 12px;\n",
              "    }\n",
              "\n",
              "    .colab-df-convert {\n",
              "      background-color: #E8F0FE;\n",
              "      border: none;\n",
              "      border-radius: 50%;\n",
              "      cursor: pointer;\n",
              "      display: none;\n",
              "      fill: #1967D2;\n",
              "      height: 32px;\n",
              "      padding: 0 0 0 0;\n",
              "      width: 32px;\n",
              "    }\n",
              "\n",
              "    .colab-df-convert:hover {\n",
              "      background-color: #E2EBFA;\n",
              "      box-shadow: 0px 1px 2px rgba(60, 64, 67, 0.3), 0px 1px 3px 1px rgba(60, 64, 67, 0.15);\n",
              "      fill: #174EA6;\n",
              "    }\n",
              "\n",
              "    [theme=dark] .colab-df-convert {\n",
              "      background-color: #3B4455;\n",
              "      fill: #D2E3FC;\n",
              "    }\n",
              "\n",
              "    [theme=dark] .colab-df-convert:hover {\n",
              "      background-color: #434B5C;\n",
              "      box-shadow: 0px 1px 3px 1px rgba(0, 0, 0, 0.15);\n",
              "      filter: drop-shadow(0px 1px 2px rgba(0, 0, 0, 0.3));\n",
              "      fill: #FFFFFF;\n",
              "    }\n",
              "  </style>\n",
              "\n",
              "      <script>\n",
              "        const buttonEl =\n",
              "          document.querySelector('#df-2afa9f84-5b84-48b1-b68f-d1dc83ce8ad5 button.colab-df-convert');\n",
              "        buttonEl.style.display =\n",
              "          google.colab.kernel.accessAllowed ? 'block' : 'none';\n",
              "\n",
              "        async function convertToInteractive(key) {\n",
              "          const element = document.querySelector('#df-2afa9f84-5b84-48b1-b68f-d1dc83ce8ad5');\n",
              "          const dataTable =\n",
              "            await google.colab.kernel.invokeFunction('convertToInteractive',\n",
              "                                                     [key], {});\n",
              "          if (!dataTable) return;\n",
              "\n",
              "          const docLinkHtml = 'Like what you see? Visit the ' +\n",
              "            '<a target=\"_blank\" href=https://colab.research.google.com/notebooks/data_table.ipynb>data table notebook</a>'\n",
              "            + ' to learn more about interactive tables.';\n",
              "          element.innerHTML = '';\n",
              "          dataTable['output_type'] = 'display_data';\n",
              "          await google.colab.output.renderOutput(dataTable, element);\n",
              "          const docLink = document.createElement('div');\n",
              "          docLink.innerHTML = docLinkHtml;\n",
              "          element.appendChild(docLink);\n",
              "        }\n",
              "      </script>\n",
              "    </div>\n",
              "  </div>\n",
              "  "
            ],
            "text/plain": [
              "                                                    text emoji\n",
              "0                                i didnt feel humiliated     😢\n",
              "1      i can go from feeling so hopeless to so damned...     😢\n",
              "2       im grabbing a minute to post i feel greedy wrong     😡\n",
              "3      i am ever feeling nostalgic about the fireplac...     😍\n",
              "4                                   i am feeling grouchy     😡\n",
              "...                                                  ...   ...\n",
              "15995  i just had a very brief time in the beanbag an...     😢\n",
              "15996  i am now turning and i feel pathetic that i am...     😢\n",
              "15997                     i feel strong and good overall     😄\n",
              "15998  i feel like this was such a rude comment and i...     😡\n",
              "15999  i know a lot but i feel so stupid because i ca...     😢\n",
              "\n",
              "[16000 rows x 2 columns]"
            ]
          },
          "metadata": {},
          "execution_count": 5
        }
      ]
    },
    {
      "cell_type": "code",
      "source": [
        "train_input = train_df.text\n",
        "train_output = train_df.emoji\n",
        "print(train_input)\n",
        "print(train_output)"
      ],
      "metadata": {
        "colab": {
          "base_uri": "https://localhost:8080/"
        },
        "id": "Gpmmc4GiG0_a",
        "outputId": "8ff7a013-72d5-4445-b6b0-e2879a975f74"
      },
      "execution_count": null,
      "outputs": [
        {
          "output_type": "stream",
          "name": "stdout",
          "text": [
            "0                                  i didnt feel humiliated\n",
            "1        i can go from feeling so hopeless to so damned...\n",
            "2         im grabbing a minute to post i feel greedy wrong\n",
            "3        i am ever feeling nostalgic about the fireplac...\n",
            "4                                     i am feeling grouchy\n",
            "                               ...                        \n",
            "15995    i just had a very brief time in the beanbag an...\n",
            "15996    i am now turning and i feel pathetic that i am...\n",
            "15997                       i feel strong and good overall\n",
            "15998    i feel like this was such a rude comment and i...\n",
            "15999    i know a lot but i feel so stupid because i ca...\n",
            "Name: text, Length: 16000, dtype: object\n",
            "0        😢\n",
            "1        😢\n",
            "2        😡\n",
            "3        😍\n",
            "4        😡\n",
            "        ..\n",
            "15995    😢\n",
            "15996    😢\n",
            "15997    😄\n",
            "15998    😡\n",
            "15999    😢\n",
            "Name: emoji, Length: 16000, dtype: object\n"
          ]
        }
      ]
    },
    {
      "cell_type": "code",
      "source": [
        "test_df = pd.read_csv('/content/test.csv')\n",
        "test_df.drop(['emotion'], axis=1, inplace=True)\n",
        "test_df"
      ],
      "metadata": {
        "colab": {
          "base_uri": "https://localhost:8080/",
          "height": 423
        },
        "id": "u6V3W9iIEydp",
        "outputId": "3c9d6f17-5da1-4192-cbd9-e3f24c19c439"
      },
      "execution_count": null,
      "outputs": [
        {
          "output_type": "execute_result",
          "data": {
            "text/html": [
              "\n",
              "  <div id=\"df-2ff58297-f41a-4d51-bf0e-e79e90c5a82c\">\n",
              "    <div class=\"colab-df-container\">\n",
              "      <div>\n",
              "<style scoped>\n",
              "    .dataframe tbody tr th:only-of-type {\n",
              "        vertical-align: middle;\n",
              "    }\n",
              "\n",
              "    .dataframe tbody tr th {\n",
              "        vertical-align: top;\n",
              "    }\n",
              "\n",
              "    .dataframe thead th {\n",
              "        text-align: right;\n",
              "    }\n",
              "</style>\n",
              "<table border=\"1\" class=\"dataframe\">\n",
              "  <thead>\n",
              "    <tr style=\"text-align: right;\">\n",
              "      <th></th>\n",
              "      <th>text</th>\n",
              "      <th>emoji</th>\n",
              "    </tr>\n",
              "  </thead>\n",
              "  <tbody>\n",
              "    <tr>\n",
              "      <th>0</th>\n",
              "      <td>im feeling rather rotten so im not very ambiti...</td>\n",
              "      <td>😢</td>\n",
              "    </tr>\n",
              "    <tr>\n",
              "      <th>1</th>\n",
              "      <td>im updating my blog because i feel shitty</td>\n",
              "      <td>😢</td>\n",
              "    </tr>\n",
              "    <tr>\n",
              "      <th>2</th>\n",
              "      <td>i never make her separate from me because i do...</td>\n",
              "      <td>😢</td>\n",
              "    </tr>\n",
              "    <tr>\n",
              "      <th>3</th>\n",
              "      <td>i left with my bouquet of red and yellow tulip...</td>\n",
              "      <td>😄</td>\n",
              "    </tr>\n",
              "    <tr>\n",
              "      <th>4</th>\n",
              "      <td>i was feeling a little vain when i did this one</td>\n",
              "      <td>😢</td>\n",
              "    </tr>\n",
              "    <tr>\n",
              "      <th>...</th>\n",
              "      <td>...</td>\n",
              "      <td>...</td>\n",
              "    </tr>\n",
              "    <tr>\n",
              "      <th>1995</th>\n",
              "      <td>i just keep feeling like someone is being unki...</td>\n",
              "      <td>😡</td>\n",
              "    </tr>\n",
              "    <tr>\n",
              "      <th>1996</th>\n",
              "      <td>im feeling a little cranky negative after this...</td>\n",
              "      <td>😡</td>\n",
              "    </tr>\n",
              "    <tr>\n",
              "      <th>1997</th>\n",
              "      <td>i feel that i am useful to my people and that ...</td>\n",
              "      <td>😄</td>\n",
              "    </tr>\n",
              "    <tr>\n",
              "      <th>1998</th>\n",
              "      <td>im feeling more comfortable with derby i feel ...</td>\n",
              "      <td>😄</td>\n",
              "    </tr>\n",
              "    <tr>\n",
              "      <th>1999</th>\n",
              "      <td>i feel all weird when i have to meet w people ...</td>\n",
              "      <td>😨</td>\n",
              "    </tr>\n",
              "  </tbody>\n",
              "</table>\n",
              "<p>2000 rows × 2 columns</p>\n",
              "</div>\n",
              "      <button class=\"colab-df-convert\" onclick=\"convertToInteractive('df-2ff58297-f41a-4d51-bf0e-e79e90c5a82c')\"\n",
              "              title=\"Convert this dataframe to an interactive table.\"\n",
              "              style=\"display:none;\">\n",
              "        \n",
              "  <svg xmlns=\"http://www.w3.org/2000/svg\" height=\"24px\"viewBox=\"0 0 24 24\"\n",
              "       width=\"24px\">\n",
              "    <path d=\"M0 0h24v24H0V0z\" fill=\"none\"/>\n",
              "    <path d=\"M18.56 5.44l.94 2.06.94-2.06 2.06-.94-2.06-.94-.94-2.06-.94 2.06-2.06.94zm-11 1L8.5 8.5l.94-2.06 2.06-.94-2.06-.94L8.5 2.5l-.94 2.06-2.06.94zm10 10l.94 2.06.94-2.06 2.06-.94-2.06-.94-.94-2.06-.94 2.06-2.06.94z\"/><path d=\"M17.41 7.96l-1.37-1.37c-.4-.4-.92-.59-1.43-.59-.52 0-1.04.2-1.43.59L10.3 9.45l-7.72 7.72c-.78.78-.78 2.05 0 2.83L4 21.41c.39.39.9.59 1.41.59.51 0 1.02-.2 1.41-.59l7.78-7.78 2.81-2.81c.8-.78.8-2.07 0-2.86zM5.41 20L4 18.59l7.72-7.72 1.47 1.35L5.41 20z\"/>\n",
              "  </svg>\n",
              "      </button>\n",
              "      \n",
              "  <style>\n",
              "    .colab-df-container {\n",
              "      display:flex;\n",
              "      flex-wrap:wrap;\n",
              "      gap: 12px;\n",
              "    }\n",
              "\n",
              "    .colab-df-convert {\n",
              "      background-color: #E8F0FE;\n",
              "      border: none;\n",
              "      border-radius: 50%;\n",
              "      cursor: pointer;\n",
              "      display: none;\n",
              "      fill: #1967D2;\n",
              "      height: 32px;\n",
              "      padding: 0 0 0 0;\n",
              "      width: 32px;\n",
              "    }\n",
              "\n",
              "    .colab-df-convert:hover {\n",
              "      background-color: #E2EBFA;\n",
              "      box-shadow: 0px 1px 2px rgba(60, 64, 67, 0.3), 0px 1px 3px 1px rgba(60, 64, 67, 0.15);\n",
              "      fill: #174EA6;\n",
              "    }\n",
              "\n",
              "    [theme=dark] .colab-df-convert {\n",
              "      background-color: #3B4455;\n",
              "      fill: #D2E3FC;\n",
              "    }\n",
              "\n",
              "    [theme=dark] .colab-df-convert:hover {\n",
              "      background-color: #434B5C;\n",
              "      box-shadow: 0px 1px 3px 1px rgba(0, 0, 0, 0.15);\n",
              "      filter: drop-shadow(0px 1px 2px rgba(0, 0, 0, 0.3));\n",
              "      fill: #FFFFFF;\n",
              "    }\n",
              "  </style>\n",
              "\n",
              "      <script>\n",
              "        const buttonEl =\n",
              "          document.querySelector('#df-2ff58297-f41a-4d51-bf0e-e79e90c5a82c button.colab-df-convert');\n",
              "        buttonEl.style.display =\n",
              "          google.colab.kernel.accessAllowed ? 'block' : 'none';\n",
              "\n",
              "        async function convertToInteractive(key) {\n",
              "          const element = document.querySelector('#df-2ff58297-f41a-4d51-bf0e-e79e90c5a82c');\n",
              "          const dataTable =\n",
              "            await google.colab.kernel.invokeFunction('convertToInteractive',\n",
              "                                                     [key], {});\n",
              "          if (!dataTable) return;\n",
              "\n",
              "          const docLinkHtml = 'Like what you see? Visit the ' +\n",
              "            '<a target=\"_blank\" href=https://colab.research.google.com/notebooks/data_table.ipynb>data table notebook</a>'\n",
              "            + ' to learn more about interactive tables.';\n",
              "          element.innerHTML = '';\n",
              "          dataTable['output_type'] = 'display_data';\n",
              "          await google.colab.output.renderOutput(dataTable, element);\n",
              "          const docLink = document.createElement('div');\n",
              "          docLink.innerHTML = docLinkHtml;\n",
              "          element.appendChild(docLink);\n",
              "        }\n",
              "      </script>\n",
              "    </div>\n",
              "  </div>\n",
              "  "
            ],
            "text/plain": [
              "                                                   text emoji\n",
              "0     im feeling rather rotten so im not very ambiti...     😢\n",
              "1             im updating my blog because i feel shitty     😢\n",
              "2     i never make her separate from me because i do...     😢\n",
              "3     i left with my bouquet of red and yellow tulip...     😄\n",
              "4       i was feeling a little vain when i did this one     😢\n",
              "...                                                 ...   ...\n",
              "1995  i just keep feeling like someone is being unki...     😡\n",
              "1996  im feeling a little cranky negative after this...     😡\n",
              "1997  i feel that i am useful to my people and that ...     😄\n",
              "1998  im feeling more comfortable with derby i feel ...     😄\n",
              "1999  i feel all weird when i have to meet w people ...     😨\n",
              "\n",
              "[2000 rows x 2 columns]"
            ]
          },
          "metadata": {},
          "execution_count": 7
        }
      ]
    },
    {
      "cell_type": "code",
      "source": [
        "test_input = test_df.text\n",
        "test_output = test_df.emoji\n",
        "print(test_input)\n",
        "print(test_output)"
      ],
      "metadata": {
        "colab": {
          "base_uri": "https://localhost:8080/"
        },
        "id": "hJ8mkamkHTHI",
        "outputId": "9601b40f-48c2-4b2f-ebe2-f5679913be9c"
      },
      "execution_count": null,
      "outputs": [
        {
          "output_type": "stream",
          "name": "stdout",
          "text": [
            "0       im feeling rather rotten so im not very ambiti...\n",
            "1               im updating my blog because i feel shitty\n",
            "2       i never make her separate from me because i do...\n",
            "3       i left with my bouquet of red and yellow tulip...\n",
            "4         i was feeling a little vain when i did this one\n",
            "                              ...                        \n",
            "1995    i just keep feeling like someone is being unki...\n",
            "1996    im feeling a little cranky negative after this...\n",
            "1997    i feel that i am useful to my people and that ...\n",
            "1998    im feeling more comfortable with derby i feel ...\n",
            "1999    i feel all weird when i have to meet w people ...\n",
            "Name: text, Length: 2000, dtype: object\n",
            "0       😢\n",
            "1       😢\n",
            "2       😢\n",
            "3       😄\n",
            "4       😢\n",
            "       ..\n",
            "1995    😡\n",
            "1996    😡\n",
            "1997    😄\n",
            "1998    😄\n",
            "1999    😨\n",
            "Name: emoji, Length: 2000, dtype: object\n"
          ]
        }
      ]
    },
    {
      "cell_type": "markdown",
      "source": [
        "#4- Tokenize and pad the text, use a vocabulary size of 10,000 and maximum sequence length of 64"
      ],
      "metadata": {
        "id": "MbkGa2lwrZ-A"
      }
    },
    {
      "cell_type": "code",
      "source": [
        "vocab_size = 10000\n",
        "max_sequence = 64\n",
        "embedding_dim = 100"
      ],
      "metadata": {
        "id": "Rf6lCzO5zzhx"
      },
      "execution_count": null,
      "outputs": []
    },
    {
      "cell_type": "code",
      "source": [
        "train_input[0]"
      ],
      "metadata": {
        "colab": {
          "base_uri": "https://localhost:8080/",
          "height": 35
        },
        "id": "_KgQCpybLBi0",
        "outputId": "3850fe1e-0564-461a-8673-9b7b7cd4cd9a"
      },
      "execution_count": null,
      "outputs": [
        {
          "output_type": "execute_result",
          "data": {
            "application/vnd.google.colaboratory.intrinsic+json": {
              "type": "string"
            },
            "text/plain": [
              "'i didnt feel humiliated'"
            ]
          },
          "metadata": {},
          "execution_count": 10
        }
      ]
    },
    {
      "cell_type": "code",
      "source": [
        "test_input[0]"
      ],
      "metadata": {
        "colab": {
          "base_uri": "https://localhost:8080/",
          "height": 35
        },
        "id": "N0x_38yULO5P",
        "outputId": "329c8713-927f-49f5-b9bc-c4ed9db64dcf"
      },
      "execution_count": null,
      "outputs": [
        {
          "output_type": "execute_result",
          "data": {
            "application/vnd.google.colaboratory.intrinsic+json": {
              "type": "string"
            },
            "text/plain": [
              "'im feeling rather rotten so im not very ambitious right now'"
            ]
          },
          "metadata": {},
          "execution_count": 11
        }
      ]
    },
    {
      "cell_type": "code",
      "source": [
        "# write your code below\n",
        "\n",
        "def clean_text(text):\n",
        "    '''Make text lowercase, remove text in square brackets,remove links,remove punctuation\n",
        "    and remove words containing numbers.'''\n",
        "    text = text.lower()\n",
        "    text = re.sub('-',' ',text)\n",
        "    text = re.sub('\"',' ',text)\n",
        "    text = re.sub('\\[.*?\\]', '', text)\n",
        "    text = re.sub('https?://\\S+|www\\.\\S+', '', text)\n",
        "    text = re.sub('<.*?>+', '', text)\n",
        "    text = re.sub('\\n', '', text)\n",
        "    text = re.sub('\\w*\\d\\w*', '', text)\n",
        "    text = \" \".join(filter(lambda x:x[0]!=\"@\", text.split()))\n",
        "    return text\n",
        "\n",
        "train_input = train_input.apply(clean_text)\n",
        "test_input = test_input.apply(clean_text)"
      ],
      "metadata": {
        "id": "WVj4OxmprE7W"
      },
      "execution_count": null,
      "outputs": []
    },
    {
      "cell_type": "code",
      "source": [
        "train_input[0]"
      ],
      "metadata": {
        "colab": {
          "base_uri": "https://localhost:8080/",
          "height": 35
        },
        "id": "lTQHu75yLVC7",
        "outputId": "ac38c1d3-1b34-4ff0-fad9-111ca7cf88b5"
      },
      "execution_count": null,
      "outputs": [
        {
          "output_type": "execute_result",
          "data": {
            "application/vnd.google.colaboratory.intrinsic+json": {
              "type": "string"
            },
            "text/plain": [
              "'i didnt feel humiliated'"
            ]
          },
          "metadata": {},
          "execution_count": 13
        }
      ]
    },
    {
      "cell_type": "code",
      "source": [
        "test_input[100]"
      ],
      "metadata": {
        "colab": {
          "base_uri": "https://localhost:8080/",
          "height": 35
        },
        "id": "zeO8WOWELpe4",
        "outputId": "0743bd76-4c9b-4dd3-bc8c-5fd82869af59"
      },
      "execution_count": null,
      "outputs": [
        {
          "output_type": "execute_result",
          "data": {
            "application/vnd.google.colaboratory.intrinsic+json": {
              "type": "string"
            },
            "text/plain": [
              "'i feel needy but comfortable with it i feel vulnerable but secure i feel the urge to cum hard but i get no relief'"
            ]
          },
          "metadata": {},
          "execution_count": 14
        }
      ]
    },
    {
      "cell_type": "code",
      "source": [
        "print(stopwords.words('english'))"
      ],
      "metadata": {
        "colab": {
          "base_uri": "https://localhost:8080/"
        },
        "id": "BaJqfUSnQ2Nw",
        "outputId": "a8a5c990-4269-4e97-87c7-193d25806e94"
      },
      "execution_count": null,
      "outputs": [
        {
          "output_type": "stream",
          "name": "stdout",
          "text": [
            "['i', 'me', 'my', 'myself', 'we', 'our', 'ours', 'ourselves', 'you', \"you're\", \"you've\", \"you'll\", \"you'd\", 'your', 'yours', 'yourself', 'yourselves', 'he', 'him', 'his', 'himself', 'she', \"she's\", 'her', 'hers', 'herself', 'it', \"it's\", 'its', 'itself', 'they', 'them', 'their', 'theirs', 'themselves', 'what', 'which', 'who', 'whom', 'this', 'that', \"that'll\", 'these', 'those', 'am', 'is', 'are', 'was', 'were', 'be', 'been', 'being', 'have', 'has', 'had', 'having', 'do', 'does', 'did', 'doing', 'a', 'an', 'the', 'and', 'but', 'if', 'or', 'because', 'as', 'until', 'while', 'of', 'at', 'by', 'for', 'with', 'about', 'against', 'between', 'into', 'through', 'during', 'before', 'after', 'above', 'below', 'to', 'from', 'up', 'down', 'in', 'out', 'on', 'off', 'over', 'under', 'again', 'further', 'then', 'once', 'here', 'there', 'when', 'where', 'why', 'how', 'all', 'any', 'both', 'each', 'few', 'more', 'most', 'other', 'some', 'such', 'no', 'nor', 'not', 'only', 'own', 'same', 'so', 'than', 'too', 'very', 's', 't', 'can', 'will', 'just', 'don', \"don't\", 'should', \"should've\", 'now', 'd', 'll', 'm', 'o', 're', 've', 'y', 'ain', 'aren', \"aren't\", 'couldn', \"couldn't\", 'didn', \"didn't\", 'doesn', \"doesn't\", 'hadn', \"hadn't\", 'hasn', \"hasn't\", 'haven', \"haven't\", 'isn', \"isn't\", 'ma', 'mightn', \"mightn't\", 'mustn', \"mustn't\", 'needn', \"needn't\", 'shan', \"shan't\", 'shouldn', \"shouldn't\", 'wasn', \"wasn't\", 'weren', \"weren't\", 'won', \"won't\", 'wouldn', \"wouldn't\"]\n"
          ]
        }
      ]
    },
    {
      "cell_type": "code",
      "source": [
        "stopwords_list = stopwords.words('english')\n",
        "for index, word in enumerate(stopwords_list):\n",
        "    stopwords_list[index] = re.sub(\"'\", '', word)\n",
        "stopwords_list.append('im')\n",
        "print(sorted(stopwords_list))"
      ],
      "metadata": {
        "colab": {
          "base_uri": "https://localhost:8080/"
        },
        "id": "ECPRd2ZaL94m",
        "outputId": "5e2e6a68-64bc-4f48-dbbf-4312ef00ddf2"
      },
      "execution_count": null,
      "outputs": [
        {
          "output_type": "stream",
          "name": "stdout",
          "text": [
            "['a', 'about', 'above', 'after', 'again', 'against', 'ain', 'all', 'am', 'an', 'and', 'any', 'are', 'aren', 'arent', 'as', 'at', 'be', 'because', 'been', 'before', 'being', 'below', 'between', 'both', 'but', 'by', 'can', 'couldn', 'couldnt', 'd', 'did', 'didn', 'didnt', 'do', 'does', 'doesn', 'doesnt', 'doing', 'don', 'dont', 'down', 'during', 'each', 'few', 'for', 'from', 'further', 'had', 'hadn', 'hadnt', 'has', 'hasn', 'hasnt', 'have', 'haven', 'havent', 'having', 'he', 'her', 'here', 'hers', 'herself', 'him', 'himself', 'his', 'how', 'i', 'if', 'im', 'in', 'into', 'is', 'isn', 'isnt', 'it', 'its', 'its', 'itself', 'just', 'll', 'm', 'ma', 'me', 'mightn', 'mightnt', 'more', 'most', 'mustn', 'mustnt', 'my', 'myself', 'needn', 'neednt', 'no', 'nor', 'not', 'now', 'o', 'of', 'off', 'on', 'once', 'only', 'or', 'other', 'our', 'ours', 'ourselves', 'out', 'over', 'own', 're', 's', 'same', 'shan', 'shant', 'she', 'shes', 'should', 'shouldn', 'shouldnt', 'shouldve', 'so', 'some', 'such', 't', 'than', 'that', 'thatll', 'the', 'their', 'theirs', 'them', 'themselves', 'then', 'there', 'these', 'they', 'this', 'those', 'through', 'to', 'too', 'under', 'until', 'up', 've', 'very', 'was', 'wasn', 'wasnt', 'we', 'were', 'weren', 'werent', 'what', 'when', 'where', 'which', 'while', 'who', 'whom', 'why', 'will', 'with', 'won', 'wont', 'wouldn', 'wouldnt', 'y', 'you', 'youd', 'youll', 'your', 'youre', 'yours', 'yourself', 'yourselves', 'youve']\n"
          ]
        }
      ]
    },
    {
      "cell_type": "code",
      "source": [
        "def remove_stopwords(text):\n",
        "    text = text.split()\n",
        "    text = [word for word in text if not word in stopwords_list]\n",
        "    text = ' '.join(text)\n",
        "    return text"
      ],
      "metadata": {
        "id": "DI7BkKkAR_vu"
      },
      "execution_count": null,
      "outputs": []
    },
    {
      "cell_type": "code",
      "source": [
        "train_input = train_input.apply(remove_stopwords)\n",
        "test_input = test_input.apply(remove_stopwords)"
      ],
      "metadata": {
        "id": "mjn72BuQRyUw"
      },
      "execution_count": null,
      "outputs": []
    },
    {
      "cell_type": "code",
      "source": [
        "train_input[0]"
      ],
      "metadata": {
        "colab": {
          "base_uri": "https://localhost:8080/",
          "height": 35
        },
        "id": "3HFmyLfzShB7",
        "outputId": "867951c5-7689-41dd-fe37-92fbe8b3f762"
      },
      "execution_count": null,
      "outputs": [
        {
          "output_type": "execute_result",
          "data": {
            "application/vnd.google.colaboratory.intrinsic+json": {
              "type": "string"
            },
            "text/plain": [
              "'feel humiliated'"
            ]
          },
          "metadata": {},
          "execution_count": 19
        }
      ]
    },
    {
      "cell_type": "code",
      "source": [
        "test_input[0]"
      ],
      "metadata": {
        "colab": {
          "base_uri": "https://localhost:8080/",
          "height": 35
        },
        "id": "cHCPDMz_UJow",
        "outputId": "55172c2a-2f6a-4c22-e11c-14eaea362050"
      },
      "execution_count": null,
      "outputs": [
        {
          "output_type": "execute_result",
          "data": {
            "application/vnd.google.colaboratory.intrinsic+json": {
              "type": "string"
            },
            "text/plain": [
              "'feeling rather rotten ambitious right'"
            ]
          },
          "metadata": {},
          "execution_count": 20
        }
      ]
    },
    {
      "cell_type": "code",
      "source": [
        "tokenizer = tf.keras.preprocessing.text.Tokenizer(\n",
        "    num_words=vocab_size,\n",
        "    oov_token='<OOV>'\n",
        ")\n",
        "\n",
        "tokenizer.fit_on_texts(train_input)"
      ],
      "metadata": {
        "id": "iLRqeURZUvF4"
      },
      "execution_count": null,
      "outputs": []
    },
    {
      "cell_type": "code",
      "source": [
        "train_input_tokenized = tokenizer.texts_to_sequences(train_input)\n",
        "test_input_tokenized = tokenizer.texts_to_sequences(test_input)"
      ],
      "metadata": {
        "id": "KgdjiC1oW_-g"
      },
      "execution_count": null,
      "outputs": []
    },
    {
      "cell_type": "code",
      "source": [
        "train_input_tokenized[0]"
      ],
      "metadata": {
        "colab": {
          "base_uri": "https://localhost:8080/"
        },
        "id": "9E4aBE-cXl8n",
        "outputId": "dfe6f562-fa2e-480b-f253-98707be682c3"
      },
      "execution_count": null,
      "outputs": [
        {
          "output_type": "execute_result",
          "data": {
            "text/plain": [
              "[2, 553]"
            ]
          },
          "metadata": {},
          "execution_count": 23
        }
      ]
    },
    {
      "cell_type": "code",
      "source": [
        "test_input_tokenized[0]"
      ],
      "metadata": {
        "colab": {
          "base_uri": "https://localhost:8080/"
        },
        "id": "1uYC1nJ-YFwU",
        "outputId": "95635b35-1103-447e-8d7d-9923fff51a45"
      },
      "execution_count": null,
      "outputs": [
        {
          "output_type": "execute_result",
          "data": {
            "text/plain": [
              "[3, 98, 589, 5431, 36]"
            ]
          },
          "metadata": {},
          "execution_count": 24
        }
      ]
    },
    {
      "cell_type": "code",
      "source": [
        "for token in test_input_tokenized[0]:\n",
        "    print(tokenizer.index_word[token], end=' ')"
      ],
      "metadata": {
        "colab": {
          "base_uri": "https://localhost:8080/"
        },
        "id": "S_HgegmoXtI7",
        "outputId": "34809e6c-bc31-4f32-ef3d-2806baef94e0"
      },
      "execution_count": null,
      "outputs": [
        {
          "output_type": "stream",
          "name": "stdout",
          "text": [
            "feeling rather rotten ambitious right "
          ]
        }
      ]
    },
    {
      "cell_type": "code",
      "source": [
        "train_padded = tf.keras.preprocessing.sequence.pad_sequences(\n",
        "    train_input_tokenized,\n",
        "    maxlen=max_sequence,\n",
        "    padding='post', \n",
        "    truncating='post'\n",
        ")\n",
        "\n",
        "test_padded = tf.keras.preprocessing.sequence.pad_sequences(\n",
        "    test_input_tokenized,\n",
        "    maxlen=max_sequence, \n",
        "    padding='post', \n",
        "    truncating='post'\n",
        ")"
      ],
      "metadata": {
        "id": "4gex5hs_YUpT"
      },
      "execution_count": null,
      "outputs": []
    },
    {
      "cell_type": "code",
      "source": [
        "train_padded[0]"
      ],
      "metadata": {
        "colab": {
          "base_uri": "https://localhost:8080/"
        },
        "id": "gQLLsR52ZEtD",
        "outputId": "57855354-6ef4-4861-ede9-20763ee4a085"
      },
      "execution_count": null,
      "outputs": [
        {
          "output_type": "execute_result",
          "data": {
            "text/plain": [
              "array([  2, 553,   0,   0,   0,   0,   0,   0,   0,   0,   0,   0,   0,\n",
              "         0,   0,   0,   0,   0,   0,   0,   0,   0,   0,   0,   0,   0,\n",
              "         0,   0,   0,   0,   0,   0,   0,   0,   0,   0,   0,   0,   0,\n",
              "         0,   0,   0,   0,   0,   0,   0,   0,   0,   0,   0,   0,   0,\n",
              "         0,   0,   0,   0,   0,   0,   0,   0,   0,   0,   0,   0],\n",
              "      dtype=int32)"
            ]
          },
          "metadata": {},
          "execution_count": 27
        }
      ]
    },
    {
      "cell_type": "code",
      "source": [
        "test_padded[0]"
      ],
      "metadata": {
        "colab": {
          "base_uri": "https://localhost:8080/"
        },
        "id": "A-gy7Wr7ZLge",
        "outputId": "1402e1d8-de85-4be8-9ecb-1a8b84a72307"
      },
      "execution_count": null,
      "outputs": [
        {
          "output_type": "execute_result",
          "data": {
            "text/plain": [
              "array([   3,   98,  589, 5431,   36,    0,    0,    0,    0,    0,    0,\n",
              "          0,    0,    0,    0,    0,    0,    0,    0,    0,    0,    0,\n",
              "          0,    0,    0,    0,    0,    0,    0,    0,    0,    0,    0,\n",
              "          0,    0,    0,    0,    0,    0,    0,    0,    0,    0,    0,\n",
              "          0,    0,    0,    0,    0,    0,    0,    0,    0,    0,    0,\n",
              "          0,    0,    0,    0,    0,    0,    0,    0,    0], dtype=int32)"
            ]
          },
          "metadata": {},
          "execution_count": 28
        }
      ]
    },
    {
      "cell_type": "markdown",
      "source": [
        "#5- Do the appropriate operations on the targets to prepare them for training"
      ],
      "metadata": {
        "id": "BUA5p-uwrlLL"
      }
    },
    {
      "cell_type": "code",
      "source": [
        "# write your code below\n",
        "emoji_word = {'😍': 'love', '😄': 'joy', '😢': 'sadness', '😲': 'surprise', '😨': 'fear', '😡': 'anger'}\n",
        "emojies = set(train_output)\n",
        "emojies_id = list(range(len(emojies)))\n",
        "print(emojies)\n",
        "print(emojies_id)\n",
        "emoji_index = dict(zip(emojies, emojies_id))\n",
        "print(emoji_index)\n",
        "index_emoji = dict(zip(emojies_id, emojies))\n",
        "print(index_emoji)"
      ],
      "metadata": {
        "id": "RUEF6dN_rFGD",
        "colab": {
          "base_uri": "https://localhost:8080/"
        },
        "outputId": "a907b8d1-f56e-47ff-ad8d-00dbea66cc25"
      },
      "execution_count": null,
      "outputs": [
        {
          "output_type": "stream",
          "name": "stdout",
          "text": [
            "{'😨', '😲', '😍', '😄', '😡', '😢'}\n",
            "[0, 1, 2, 3, 4, 5]\n",
            "{'😨': 0, '😲': 1, '😍': 2, '😄': 3, '😡': 4, '😢': 5}\n",
            "{0: '😨', 1: '😲', 2: '😍', 3: '😄', 4: '😡', 5: '😢'}\n"
          ]
        }
      ]
    },
    {
      "cell_type": "code",
      "source": [
        "train_output = train_output.map(emoji_index)\n",
        "train_output[0]"
      ],
      "metadata": {
        "colab": {
          "base_uri": "https://localhost:8080/"
        },
        "id": "upA_xYRrzErF",
        "outputId": "1f000048-d5ca-4065-e248-bc7885726d08"
      },
      "execution_count": null,
      "outputs": [
        {
          "output_type": "execute_result",
          "data": {
            "text/plain": [
              "5"
            ]
          },
          "metadata": {},
          "execution_count": 30
        }
      ]
    },
    {
      "cell_type": "code",
      "source": [
        "test_output = test_output.map(emoji_index)\n",
        "test_output[3]"
      ],
      "metadata": {
        "colab": {
          "base_uri": "https://localhost:8080/"
        },
        "id": "NLF3z8W_zi9Q",
        "outputId": "b2d429b1-64cd-48d0-a47f-9238f8223cd0"
      },
      "execution_count": null,
      "outputs": [
        {
          "output_type": "execute_result",
          "data": {
            "text/plain": [
              "3"
            ]
          },
          "metadata": {},
          "execution_count": 31
        }
      ]
    },
    {
      "cell_type": "markdown",
      "source": [
        "#6- Modeling:\n",
        "Define the sequential models, make sure to use RNN,LSTM,GRU and DNN with Embedding layers using Bidirectional LSTM if necessary. The training and validation accuracy should be at least 94% and 88% respectively"
      ],
      "metadata": {
        "id": "nOEo3I9grsab"
      }
    },
    {
      "cell_type": "markdown",
      "source": [
        "## Utility Functions"
      ],
      "metadata": {
        "id": "k9_EhVF40lBM"
      }
    },
    {
      "cell_type": "code",
      "source": [
        "func_round = lambda x: round(x,4)\n",
        "\n",
        "def model_details(model, model_name):\n",
        "    evaluation_list = model.evaluate(test_padded, test_output)\n",
        "    metrics_labels = ['val_loss', 'val_acc']\n",
        "    model_dict = dict(zip(metrics_labels, map(func_round, evaluation_list)))\n",
        "    model_dict['model'] = model_name\n",
        "    return model_dict\n",
        "\n",
        "def model_scores(pred, color):\n",
        "    print(f'accuracy_score: {metrics.accuracy_score(test_output, pred)}')\n",
        "    print(f\"precision_score: {metrics.precision_score(test_output, pred, average='micro')}\")\n",
        "    print(f\"recall_score: {metrics.recall_score(test_output, pred, average='micro')}\")\n",
        "    print(f\"f1_score: {metrics.f1_score(test_output, pred, average='micro')}\")\n",
        "    plt.figure(figsize=(10,10))\n",
        "    plt.rcParams['font.size'] = '12'\n",
        "    labels = [emoji_word[index_emoji[i]] for i in range(len(index_emoji.keys()))]\n",
        "    sn.heatmap(metrics.confusion_matrix(test_output, pred), cmap=color, annot=True, linewidths=2, yticklabels=labels, xticklabels=labels)\n",
        "\n",
        "list_model_details = []"
      ],
      "metadata": {
        "id": "iT3Ok5-G0kEp"
      },
      "execution_count": null,
      "outputs": []
    },
    {
      "cell_type": "markdown",
      "source": [
        "## Data Pipeline"
      ],
      "metadata": {
        "id": "3NIwwM1HgyS5"
      }
    },
    {
      "cell_type": "code",
      "source": [
        "def create_dataset(x, y):\n",
        "    data = tf.data.Dataset.from_tensor_slices((x, y))\n",
        "    data = data.shuffle(1024)\n",
        "    data = data.batch(64)\n",
        "    data = data.prefetch(tf.data.AUTOTUNE)\n",
        "    return data\n",
        "\n",
        "train_dataset = create_dataset(train_padded, train_output)\n",
        "test_dataset = create_dataset(test_padded, test_output)"
      ],
      "metadata": {
        "id": "G2Lbu2huyE-R"
      },
      "execution_count": null,
      "outputs": []
    },
    {
      "cell_type": "code",
      "source": [
        "for x, y in train_dataset.take(1):\n",
        "    print(x[0])\n",
        "    print(y[0])"
      ],
      "metadata": {
        "colab": {
          "base_uri": "https://localhost:8080/"
        },
        "id": "am8jSqa10HFu",
        "outputId": "acf666cf-9de4-4746-d23a-900c352a2c11"
      },
      "execution_count": null,
      "outputs": [
        {
          "output_type": "stream",
          "name": "stdout",
          "text": [
            "tf.Tensor(\n",
            "[   2  390 3357    0    0    0    0    0    0    0    0    0    0    0\n",
            "    0    0    0    0    0    0    0    0    0    0    0    0    0    0\n",
            "    0    0    0    0    0    0    0    0    0    0    0    0    0    0\n",
            "    0    0    0    0    0    0    0    0    0    0    0    0    0    0\n",
            "    0    0    0    0    0    0    0    0], shape=(64,), dtype=int32)\n",
            "tf.Tensor(0, shape=(), dtype=int64)\n"
          ]
        }
      ]
    },
    {
      "cell_type": "markdown",
      "source": [
        "## Embedded DNN Model"
      ],
      "metadata": {
        "id": "YQpkbrZThTqo"
      }
    },
    {
      "cell_type": "code",
      "source": [
        "# write your code below\n",
        "tf.keras.backend.clear_session()\n",
        "dnn_model = tf.keras.Sequential(\n",
        "    [\n",
        "     tf.keras.layers.Input(shape=(max_sequence,)),\n",
        "     tf.keras.layers.Embedding(input_dim=vocab_size+1, output_dim=embedding_dim, mask_zero=True),\n",
        "     tf.keras.layers.Flatten(),\n",
        "     tf.keras.layers.Dense(units=64, activation='leaky_relu'),\n",
        "     tf.keras.layers.Dropout(rate=0.2),\n",
        "     tf.keras.layers.Dense(units=6, activation='softmax')\n",
        "    ]\n",
        ")\n",
        "dnn_model.summary()"
      ],
      "metadata": {
        "id": "Fy6HA5ZIrFLJ",
        "colab": {
          "base_uri": "https://localhost:8080/"
        },
        "outputId": "0db35856-f917-44f5-a5e4-c4767fc78dd3"
      },
      "execution_count": null,
      "outputs": [
        {
          "output_type": "stream",
          "name": "stdout",
          "text": [
            "Model: \"sequential\"\n",
            "_________________________________________________________________\n",
            " Layer (type)                Output Shape              Param #   \n",
            "=================================================================\n",
            " embedding (Embedding)       (None, 64, 100)           1000100   \n",
            "                                                                 \n",
            " flatten (Flatten)           (None, 6400)              0         \n",
            "                                                                 \n",
            " dense (Dense)               (None, 64)                409664    \n",
            "                                                                 \n",
            " dropout (Dropout)           (None, 64)                0         \n",
            "                                                                 \n",
            " dense_1 (Dense)             (None, 6)                 390       \n",
            "                                                                 \n",
            "=================================================================\n",
            "Total params: 1,410,154\n",
            "Trainable params: 1,410,154\n",
            "Non-trainable params: 0\n",
            "_________________________________________________________________\n"
          ]
        }
      ]
    },
    {
      "cell_type": "code",
      "source": [
        "\n",
        "best_dnn_model = tf.keras.callbacks.ModelCheckpoint('/content/drive/MyDrive/saved_models/EmbdDNN_Zainab_Mahmood.h5', \n",
        "                                                    monitor='val_acc', \n",
        "                                                    save_best_only=True )\n",
        "dnn_model.compile(optimizer=tf.optimizers.Adam(), \n",
        "                  loss=tf.losses.SparseCategoricalCrossentropy(), \n",
        "                  metrics=['acc'])\n",
        "dnn_model.fit(train_dataset, epochs=6, validation_data=test_dataset, callbacks=[best_dnn_model])"
      ],
      "metadata": {
        "id": "yHHhdexB3VRQ",
        "colab": {
          "base_uri": "https://localhost:8080/"
        },
        "outputId": "515d5cb7-8563-4660-fdd7-da2eab678d20"
      },
      "execution_count": null,
      "outputs": [
        {
          "output_type": "stream",
          "name": "stdout",
          "text": [
            "Epoch 1/6\n",
            "250/250 [==============================] - 2s 8ms/step - loss: 1.2041 - acc: 0.5583 - val_loss: 0.5150 - val_acc: 0.8450\n",
            "Epoch 2/6\n",
            "250/250 [==============================] - 2s 8ms/step - loss: 0.2798 - acc: 0.9104 - val_loss: 0.3473 - val_acc: 0.8855\n",
            "Epoch 3/6\n",
            "250/250 [==============================] - 2s 6ms/step - loss: 0.0930 - acc: 0.9724 - val_loss: 0.3790 - val_acc: 0.8775\n",
            "Epoch 4/6\n",
            "250/250 [==============================] - 2s 6ms/step - loss: 0.0512 - acc: 0.9861 - val_loss: 0.3935 - val_acc: 0.8730\n",
            "Epoch 5/6\n",
            "250/250 [==============================] - 2s 6ms/step - loss: 0.0342 - acc: 0.9909 - val_loss: 0.4330 - val_acc: 0.8720\n",
            "Epoch 6/6\n",
            "250/250 [==============================] - 2s 6ms/step - loss: 0.0267 - acc: 0.9931 - val_loss: 0.4515 - val_acc: 0.8700\n"
          ]
        },
        {
          "output_type": "execute_result",
          "data": {
            "text/plain": [
              "<keras.callbacks.History at 0x7fe1f8eca7d0>"
            ]
          },
          "metadata": {},
          "execution_count": 42
        }
      ]
    },
    {
      "cell_type": "code",
      "source": [
        "best_dnn_model = tf.keras.models.load_model('/content/drive/MyDrive/saved_models/EmbdDNN_Zainab_Mahmood.h5')\n",
        "evaluation_dnn_model = model_details(model= best_dnn_model, model_name='DNN + Embedded')\n",
        "evaluation_dnn_model"
      ],
      "metadata": {
        "colab": {
          "base_uri": "https://localhost:8080/"
        },
        "id": "ZEAWJJB7-LvO",
        "outputId": "1ce2a639-13c4-423b-e7bc-9b5d717dc077"
      },
      "execution_count": null,
      "outputs": [
        {
          "output_type": "stream",
          "name": "stdout",
          "text": [
            "63/63 [==============================] - 1s 7ms/step - loss: 0.3473 - acc: 0.8855\n"
          ]
        },
        {
          "output_type": "execute_result",
          "data": {
            "text/plain": [
              "{'model': 'DNN + Embedded', 'val_acc': 0.8855, 'val_loss': 0.3473}"
            ]
          },
          "metadata": {},
          "execution_count": 43
        }
      ]
    },
    {
      "cell_type": "code",
      "source": [
        "list_model_details.append(evaluation_dnn_model)\n",
        "list_model_details"
      ],
      "metadata": {
        "colab": {
          "base_uri": "https://localhost:8080/"
        },
        "id": "OYHn2hT1RAK9",
        "outputId": "591fd408-52c5-4d26-a62c-e480d5b4b32e"
      },
      "execution_count": null,
      "outputs": [
        {
          "output_type": "execute_result",
          "data": {
            "text/plain": [
              "[{'model': 'DNN + Embedded', 'val_acc': 0.8855, 'val_loss': 0.3473}]"
            ]
          },
          "metadata": {},
          "execution_count": 65
        }
      ]
    },
    {
      "cell_type": "markdown",
      "source": [
        "### Plot the model metrics"
      ],
      "metadata": {
        "id": "6fBPOUGyDokc"
      }
    },
    {
      "cell_type": "code",
      "source": [
        "pd.DataFrame(dnn_model.history.history).plot()"
      ],
      "metadata": {
        "colab": {
          "base_uri": "https://localhost:8080/",
          "height": 283
        },
        "id": "-3bawQfcCBS4",
        "outputId": "60e38df4-ea6e-49c5-98d9-3e8d925ec402"
      },
      "execution_count": null,
      "outputs": [
        {
          "output_type": "execute_result",
          "data": {
            "text/plain": [
              "<matplotlib.axes._subplots.AxesSubplot at 0x7fe1f8b8ef50>"
            ]
          },
          "metadata": {},
          "execution_count": 44
        },
        {
          "output_type": "display_data",
          "data": {
            "image/png": "[encoded data removed]",
            "text/plain": [
              "<Figure size 432x288 with 1 Axes>"
            ]
          },
          "metadata": {
            "needs_background": "light"
          }
        }
      ]
    },
    {
      "cell_type": "code",
      "source": [
        "pred = np.argmax(best_dnn_model.predict(test_padded), -1)\n",
        "model_scores(pred, color='Reds')"
      ],
      "metadata": {
        "colab": {
          "base_uri": "https://localhost:8080/",
          "height": 668
        },
        "id": "0X2xvz0GDvo8",
        "outputId": "1ab41725-4cf5-4af2-c845-b13b3f96a298"
      },
      "execution_count": null,
      "outputs": [
        {
          "output_type": "stream",
          "name": "stdout",
          "text": [
            "accuracy_score: 0.8855\n",
            "precision_score: 0.8855\n",
            "recall_score: 0.8855\n",
            "f1_score: 0.8855\n"
          ]
        },
        {
          "output_type": "display_data",
          "data": {
            "image/png": "[encoded data removed]",
            "text/plain": [
              "<Figure size 720x720 with 2 Axes>"
            ]
          },
          "metadata": {
            "needs_background": "light"
          }
        }
      ]
    },
    {
      "cell_type": "markdown",
      "source": [
        "## RNN + Embeding"
      ],
      "metadata": {
        "id": "UPB9djjfT06-"
      }
    },
    {
      "cell_type": "markdown",
      "source": [
        "### version 1"
      ],
      "metadata": {
        "id": "UqtDgaiCT97w"
      }
    },
    {
      "cell_type": "code",
      "source": [
        "tf.keras.backend.clear_session()\n",
        "rnn_model = tf.keras.Sequential(\n",
        "    [\n",
        "     tf.keras.layers.Embedding(input_dim=vocab_size+1, output_dim=embedding_dim, mask_zero=True, input_length=max_sequence),\n",
        "     tf.keras.layers.SimpleRNN(128),\n",
        "     tf.keras.layers.Dense(units=6, activation='softmax')\n",
        "    ]\n",
        ")\n",
        "rnn_model.summary()"
      ],
      "metadata": {
        "colab": {
          "base_uri": "https://localhost:8080/"
        },
        "id": "ccPxAXf9TziB",
        "outputId": "22b7ed5c-2306-4632-eecb-4a291146c3a5"
      },
      "execution_count": null,
      "outputs": [
        {
          "output_type": "stream",
          "name": "stdout",
          "text": [
            "Model: \"sequential\"\n",
            "_________________________________________________________________\n",
            " Layer (type)                Output Shape              Param #   \n",
            "=================================================================\n",
            " embedding (Embedding)       (None, 64, 100)           1000100   \n",
            "                                                                 \n",
            " simple_rnn (SimpleRNN)      (None, 128)               29312     \n",
            "                                                                 \n",
            " dense (Dense)               (None, 6)                 774       \n",
            "                                                                 \n",
            "=================================================================\n",
            "Total params: 1,030,186\n",
            "Trainable params: 1,030,186\n",
            "Non-trainable params: 0\n",
            "_________________________________________________________________\n"
          ]
        }
      ]
    },
    {
      "cell_type": "code",
      "source": [
        "best_rnn_model = tf.keras.callbacks.ModelCheckpoint('/content/drive/MyDrive/saved_models/EmbdRNN_Zainab_Mahmood.h5', \n",
        "                                                    monitor='val_acc', \n",
        "                                                    save_best_only=True )\n",
        "rnn_model.compile(optimizer=tf.optimizers.Adam(), loss=tf.losses.SparseCategoricalCrossentropy(), metrics=['acc'])\n",
        "rnn_model.fit(train_dataset, epochs=6, validation_data=test_dataset, callbacks=[best_rnn_model])"
      ],
      "metadata": {
        "id": "QlrGAAEIUqi-",
        "colab": {
          "base_uri": "https://localhost:8080/"
        },
        "outputId": "3fbd36b0-303e-4987-a534-7f92a1bd4c68"
      },
      "execution_count": null,
      "outputs": [
        {
          "output_type": "stream",
          "name": "stdout",
          "text": [
            "Epoch 1/6\n",
            "250/250 [==============================] - 50s 190ms/step - loss: 1.1896 - acc: 0.5492 - val_loss: 0.5910 - val_acc: 0.8155\n",
            "Epoch 2/6\n",
            "250/250 [==============================] - 47s 189ms/step - loss: 0.3201 - acc: 0.8951 - val_loss: 0.4175 - val_acc: 0.8580\n",
            "Epoch 3/6\n",
            "250/250 [==============================] - 38s 153ms/step - loss: 0.1249 - acc: 0.9627 - val_loss: 0.4514 - val_acc: 0.8535\n",
            "Epoch 4/6\n",
            "250/250 [==============================] - 38s 152ms/step - loss: 0.0704 - acc: 0.9791 - val_loss: 0.4850 - val_acc: 0.8475\n",
            "Epoch 5/6\n",
            "250/250 [==============================] - 43s 173ms/step - loss: 0.0454 - acc: 0.9879 - val_loss: 0.5530 - val_acc: 0.8445\n",
            "Epoch 6/6\n",
            "250/250 [==============================] - 42s 168ms/step - loss: 0.0378 - acc: 0.9898 - val_loss: 0.6007 - val_acc: 0.8445\n"
          ]
        },
        {
          "output_type": "execute_result",
          "data": {
            "text/plain": [
              "<keras.callbacks.History at 0x7fe1f8774950>"
            ]
          },
          "metadata": {},
          "execution_count": 47
        }
      ]
    },
    {
      "cell_type": "code",
      "source": [
        "best_rnn_model = tf.keras.models.load_model('/content/drive/MyDrive/saved_models/EmbdRNN_Zainab_Mahmood.h5')\n",
        "evaluation_rnn_1_model = model_details(model= best_rnn_model, model_name='RNN1 + Embedded')\n",
        "evaluation_rnn_1_model"
      ],
      "metadata": {
        "colab": {
          "base_uri": "https://localhost:8080/"
        },
        "id": "8iw_y_Cguo4u",
        "outputId": "335780e6-22e3-432d-d99d-f587ecc81771"
      },
      "execution_count": null,
      "outputs": [
        {
          "output_type": "stream",
          "name": "stdout",
          "text": [
            "63/63 [==============================] - 1s 12ms/step - loss: 0.4175 - acc: 0.8580\n"
          ]
        },
        {
          "output_type": "execute_result",
          "data": {
            "text/plain": [
              "{'model': 'RNN1 + Embedded', 'val_acc': 0.858, 'val_loss': 0.4175}"
            ]
          },
          "metadata": {},
          "execution_count": 48
        }
      ]
    },
    {
      "cell_type": "code",
      "source": [
        "list_model_details.append(evaluation_rnn_1_model)\n",
        "list_model_details"
      ],
      "metadata": {
        "colab": {
          "base_uri": "https://localhost:8080/"
        },
        "id": "BWifHsYSRNBV",
        "outputId": "2608a49c-0c16-486f-b9ee-a6a58f7a5370"
      },
      "execution_count": null,
      "outputs": [
        {
          "output_type": "execute_result",
          "data": {
            "text/plain": [
              "[{'model': 'DNN + Embedded', 'val_acc': 0.8855, 'val_loss': 0.3473},\n",
              " {'model': 'RNN1 + Embedded', 'val_acc': 0.858, 'val_loss': 0.4175}]"
            ]
          },
          "metadata": {},
          "execution_count": 66
        }
      ]
    },
    {
      "cell_type": "markdown",
      "source": [
        "#### Plot the model metrics"
      ],
      "metadata": {
        "id": "asCEyJtCva3k"
      }
    },
    {
      "cell_type": "code",
      "source": [
        "pd.DataFrame(rnn_model.history.history).plot()"
      ],
      "metadata": {
        "colab": {
          "base_uri": "https://localhost:8080/",
          "height": 286
        },
        "id": "7u0pXSsLvecw",
        "outputId": "5de19bdf-53c6-4d81-f28c-1d838add07e0"
      },
      "execution_count": null,
      "outputs": [
        {
          "output_type": "execute_result",
          "data": {
            "text/plain": [
              "<matplotlib.axes._subplots.AxesSubplot at 0x7fe1f8198750>"
            ]
          },
          "metadata": {},
          "execution_count": 49
        },
        {
          "output_type": "display_data",
          "data": {
            "image/png": "[encoded data removed]",
            "text/plain": [
              "<Figure size 432x288 with 1 Axes>"
            ]
          },
          "metadata": {
            "needs_background": "light"
          }
        }
      ]
    },
    {
      "cell_type": "code",
      "source": [
        "pred = np.argmax(best_rnn_model.predict(test_padded), -1)\n",
        "model_scores(pred, color='BuGn')"
      ],
      "metadata": {
        "colab": {
          "base_uri": "https://localhost:8080/",
          "height": 668
        },
        "id": "TSX9dXQbvoH7",
        "outputId": "f276e294-3b81-4f02-8f3a-892af67ae01f"
      },
      "execution_count": null,
      "outputs": [
        {
          "output_type": "stream",
          "name": "stdout",
          "text": [
            "accuracy_score: 0.858\n",
            "precision_score: 0.858\n",
            "recall_score: 0.858\n",
            "f1_score: 0.858\n"
          ]
        },
        {
          "output_type": "display_data",
          "data": {
            "image/png": "[encoded data removed]",
            "text/plain": [
              "<Figure size 720x720 with 2 Axes>"
            ]
          },
          "metadata": {
            "needs_background": "light"
          }
        }
      ]
    },
    {
      "cell_type": "markdown",
      "source": [
        "### version 2"
      ],
      "metadata": {
        "id": "y-0ZC8l1xufe"
      }
    },
    {
      "cell_type": "code",
      "source": [
        "tf.keras.backend.clear_session()\n",
        "rnn_2_model = tf.keras.Sequential(\n",
        "    [\n",
        "     tf.keras.layers.Embedding(input_dim=vocab_size+1, output_dim=embedding_dim, mask_zero=True, input_length=max_sequence),\n",
        "     tf.keras.layers.SimpleRNN(128, return_sequences=True),\n",
        "     tf.keras.layers.SimpleRNN(128),\n",
        "     tf.keras.layers.Dense(units=6, activation='softmax')\n",
        "    ]\n",
        ")\n",
        "rnn_2_model.summary()"
      ],
      "metadata": {
        "colab": {
          "base_uri": "https://localhost:8080/"
        },
        "id": "5JRCfz4oxxuu",
        "outputId": "2a6381b4-18da-42c6-b1e2-fe72ece53dab"
      },
      "execution_count": null,
      "outputs": [
        {
          "output_type": "stream",
          "name": "stdout",
          "text": [
            "Model: \"sequential\"\n",
            "_________________________________________________________________\n",
            " Layer (type)                Output Shape              Param #   \n",
            "=================================================================\n",
            " embedding (Embedding)       (None, 64, 100)           1000100   \n",
            "                                                                 \n",
            " simple_rnn (SimpleRNN)      (None, 64, 128)           29312     \n",
            "                                                                 \n",
            " simple_rnn_1 (SimpleRNN)    (None, 128)               32896     \n",
            "                                                                 \n",
            " dense (Dense)               (None, 6)                 774       \n",
            "                                                                 \n",
            "=================================================================\n",
            "Total params: 1,063,082\n",
            "Trainable params: 1,063,082\n",
            "Non-trainable params: 0\n",
            "_________________________________________________________________\n"
          ]
        }
      ]
    },
    {
      "cell_type": "code",
      "source": [
        "best_rnn_2_model = tf.keras.callbacks.ModelCheckpoint('/content/drive/MyDrive/saved_models/EmbdRNN2_Zainab_Mahmood.h5', \n",
        "                                                    monitor='val_acc', \n",
        "                                                    save_best_only=True )\n",
        "rnn_2_model.compile(optimizer=tf.optimizers.Adam(), loss=tf.losses.SparseCategoricalCrossentropy(), metrics=['acc'])\n",
        "rnn_2_model.fit(train_dataset, epochs=6, validation_data=test_dataset, callbacks=[best_rnn_2_model])"
      ],
      "metadata": {
        "colab": {
          "base_uri": "https://localhost:8080/"
        },
        "id": "lz5lvFBIyOGg",
        "outputId": "059741c2-6148-479f-aa27-fde1a92e2fc0"
      },
      "execution_count": null,
      "outputs": [
        {
          "output_type": "stream",
          "name": "stdout",
          "text": [
            "Epoch 1/6\n",
            "250/250 [==============================] - 74s 287ms/step - loss: 1.1190 - acc: 0.5736 - val_loss: 0.5756 - val_acc: 0.7915\n",
            "Epoch 2/6\n",
            "250/250 [==============================] - 75s 300ms/step - loss: 0.2841 - acc: 0.9035 - val_loss: 0.4323 - val_acc: 0.8555\n",
            "Epoch 3/6\n",
            "250/250 [==============================] - 63s 250ms/step - loss: 0.1120 - acc: 0.9649 - val_loss: 0.4613 - val_acc: 0.8665\n",
            "Epoch 4/6\n",
            "250/250 [==============================] - 63s 253ms/step - loss: 0.0602 - acc: 0.9809 - val_loss: 0.5503 - val_acc: 0.8480\n",
            "Epoch 5/6\n",
            "250/250 [==============================] - 61s 244ms/step - loss: 0.0433 - acc: 0.9872 - val_loss: 0.6002 - val_acc: 0.8455\n",
            "Epoch 6/6\n",
            "250/250 [==============================] - 83s 330ms/step - loss: 0.0330 - acc: 0.9905 - val_loss: 0.6675 - val_acc: 0.8440\n"
          ]
        },
        {
          "output_type": "execute_result",
          "data": {
            "text/plain": [
              "<keras.callbacks.History at 0x7fe1f7f12d50>"
            ]
          },
          "metadata": {},
          "execution_count": 52
        }
      ]
    },
    {
      "cell_type": "code",
      "source": [
        "best_rnn_2_model = tf.keras.models.load_model('/content/drive/MyDrive/saved_models/EmbdRNN2_Zainab_Mahmood.h5')\n",
        "evaluation_rnn_2_model = model_details(model= best_rnn_2_model, model_name= 'RNN2 + Embedded')\n",
        "evaluation_rnn_2_model"
      ],
      "metadata": {
        "colab": {
          "base_uri": "https://localhost:8080/"
        },
        "id": "duvqRbg5yjXj",
        "outputId": "0c0fca76-8964-4319-c977-bf945ba361b4"
      },
      "execution_count": null,
      "outputs": [
        {
          "output_type": "stream",
          "name": "stdout",
          "text": [
            "63/63 [==============================] - 2s 19ms/step - loss: 0.4613 - acc: 0.8665\n"
          ]
        },
        {
          "output_type": "execute_result",
          "data": {
            "text/plain": [
              "{'model': 'RNN2 + Embedded', 'val_acc': 0.8665, 'val_loss': 0.4613}"
            ]
          },
          "metadata": {},
          "execution_count": 53
        }
      ]
    },
    {
      "cell_type": "code",
      "source": [
        "list_model_details.append(evaluation_rnn_2_model)\n",
        "list_model_details"
      ],
      "metadata": {
        "colab": {
          "base_uri": "https://localhost:8080/"
        },
        "id": "rT51eb8bRVDs",
        "outputId": "36abf3a5-d4ad-42b9-e152-afd754105a67"
      },
      "execution_count": null,
      "outputs": [
        {
          "output_type": "execute_result",
          "data": {
            "text/plain": [
              "[{'model': 'DNN + Embedded', 'val_acc': 0.8855, 'val_loss': 0.3473},\n",
              " {'model': 'RNN1 + Embedded', 'val_acc': 0.858, 'val_loss': 0.4175},\n",
              " {'model': 'RNN2 + Embedded', 'val_acc': 0.8665, 'val_loss': 0.4613}]"
            ]
          },
          "metadata": {},
          "execution_count": 67
        }
      ]
    },
    {
      "cell_type": "markdown",
      "source": [
        "#### Plot the model metrics"
      ],
      "metadata": {
        "id": "i92AUd0LzRFI"
      }
    },
    {
      "cell_type": "code",
      "source": [
        "pd.DataFrame(rnn_2_model.history.history).plot()"
      ],
      "metadata": {
        "colab": {
          "base_uri": "https://localhost:8080/",
          "height": 286
        },
        "id": "BvdOJoq46ynA",
        "outputId": "e9eeaa85-b387-42a6-c442-bfc34fdbdab4"
      },
      "execution_count": null,
      "outputs": [
        {
          "output_type": "execute_result",
          "data": {
            "text/plain": [
              "<matplotlib.axes._subplots.AxesSubplot at 0x7fe1f7117250>"
            ]
          },
          "metadata": {},
          "execution_count": 54
        },
        {
          "output_type": "display_data",
          "data": {
            "image/png": "[encoded data removed]",
            "text/plain": [
              "<Figure size 432x288 with 1 Axes>"
            ]
          },
          "metadata": {
            "needs_background": "light"
          }
        }
      ]
    },
    {
      "cell_type": "code",
      "source": [
        "pred = np.argmax(best_rnn_2_model.predict(test_padded), -1)\n",
        "model_scores(pred, color='PuRd')"
      ],
      "metadata": {
        "colab": {
          "base_uri": "https://localhost:8080/",
          "height": 668
        },
        "id": "je-akS3164y5",
        "outputId": "86f3959d-8f62-4687-845b-2ec598bda7c7"
      },
      "execution_count": null,
      "outputs": [
        {
          "output_type": "stream",
          "name": "stdout",
          "text": [
            "accuracy_score: 0.8665\n",
            "precision_score: 0.8665\n",
            "recall_score: 0.8665\n",
            "f1_score: 0.8665000000000002\n"
          ]
        },
        {
          "output_type": "display_data",
          "data": {
            "image/png": "[encoded data removed]",
            "text/plain": [
              "<Figure size 720x720 with 2 Axes>"
            ]
          },
          "metadata": {
            "needs_background": "light"
          }
        }
      ]
    },
    {
      "cell_type": "markdown",
      "source": [
        "## LSTM + Embedding"
      ],
      "metadata": {
        "id": "-PhRf-Fahc4z"
      }
    },
    {
      "cell_type": "markdown",
      "source": [
        "### version 1"
      ],
      "metadata": {
        "id": "sAFjVQF7hu1l"
      }
    },
    {
      "cell_type": "code",
      "source": [
        "tf.keras.backend.clear_session()\n",
        "embd_lstm_model = tf.keras.Sequential(\n",
        "    [\n",
        "     tf.keras.layers.Embedding(input_dim=vocab_size+1, output_dim=embedding_dim, mask_zero=True, input_length=max_sequence),\n",
        "     tf.keras.layers.LSTM(units=128, return_sequences= False),\n",
        "     tf.keras.layers.LayerNormalization(),\n",
        "     tf.keras.layers.Dense(units=6, activation='softmax')\n",
        "    ]\n",
        ")\n",
        "embd_lstm_model.summary()"
      ],
      "metadata": {
        "colab": {
          "base_uri": "https://localhost:8080/"
        },
        "id": "ahkprvRG4_6C",
        "outputId": "66a0da9c-710d-4c56-82d0-d49ff06b03ce"
      },
      "execution_count": null,
      "outputs": [
        {
          "output_type": "stream",
          "name": "stdout",
          "text": [
            "Model: \"sequential\"\n",
            "_________________________________________________________________\n",
            " Layer (type)                Output Shape              Param #   \n",
            "=================================================================\n",
            " embedding (Embedding)       (None, 64, 100)           1000100   \n",
            "                                                                 \n",
            " lstm (LSTM)                 (None, 128)               117248    \n",
            "                                                                 \n",
            " layer_normalization (LayerN  (None, 128)              256       \n",
            " ormalization)                                                   \n",
            "                                                                 \n",
            " dense (Dense)               (None, 6)                 774       \n",
            "                                                                 \n",
            "=================================================================\n",
            "Total params: 1,118,378\n",
            "Trainable params: 1,118,378\n",
            "Non-trainable params: 0\n",
            "_________________________________________________________________\n"
          ]
        }
      ]
    },
    {
      "cell_type": "code",
      "source": [
        "best_embd_lstm_model = tf.keras.callbacks.ModelCheckpoint('/content/drive/MyDrive/saved_models/EmbdLSTM1_Zainab_Mahmood.h5', \n",
        "                                                    monitor='val_acc', \n",
        "                                                    save_best_only=True )\n",
        "embd_lstm_model.compile(optimizer=tf.optimizers.Adam(), loss=tf.losses.SparseCategoricalCrossentropy(), metrics=['acc'])\n",
        "embd_lstm_model.fit(train_dataset, epochs=6, validation_data=test_dataset, callbacks=[best_embd_lstm_model])"
      ],
      "metadata": {
        "colab": {
          "base_uri": "https://localhost:8080/"
        },
        "id": "ZVjFW2VT74bD",
        "outputId": "a9de5f5c-f8d4-4f27-dc0b-933d9e6a531a"
      },
      "execution_count": null,
      "outputs": [
        {
          "output_type": "stream",
          "name": "stdout",
          "text": [
            "Epoch 1/6\n",
            "250/250 [==============================] - 13s 24ms/step - loss: 0.7305 - acc: 0.7452 - val_loss: 0.3639 - val_acc: 0.8735\n",
            "Epoch 2/6\n",
            "250/250 [==============================] - 5s 18ms/step - loss: 0.1439 - acc: 0.9499 - val_loss: 0.3720 - val_acc: 0.8800\n",
            "Epoch 3/6\n",
            "250/250 [==============================] - 5s 18ms/step - loss: 0.0718 - acc: 0.9752 - val_loss: 0.4092 - val_acc: 0.8755\n",
            "Epoch 4/6\n",
            "250/250 [==============================] - 5s 18ms/step - loss: 0.0560 - acc: 0.9820 - val_loss: 0.5242 - val_acc: 0.8605\n",
            "Epoch 5/6\n",
            "250/250 [==============================] - 5s 18ms/step - loss: 0.0477 - acc: 0.9831 - val_loss: 0.4808 - val_acc: 0.8730\n",
            "Epoch 6/6\n",
            "250/250 [==============================] - 5s 18ms/step - loss: 0.0353 - acc: 0.9870 - val_loss: 0.5216 - val_acc: 0.8730\n"
          ]
        },
        {
          "output_type": "execute_result",
          "data": {
            "text/plain": [
              "<keras.callbacks.History at 0x7fe1f54e1510>"
            ]
          },
          "metadata": {},
          "execution_count": 57
        }
      ]
    },
    {
      "cell_type": "code",
      "source": [
        "best_embd_lstm_model = tf.keras.models.load_model('/content/drive/MyDrive/saved_models/EmbdLSTM1_Zainab_Mahmood.h5')\n",
        "evaluation_embd_lstm_model = model_details(model= best_embd_lstm_model, model_name= 'LSTM1 + Embedded')\n",
        "evaluation_embd_lstm_model"
      ],
      "metadata": {
        "colab": {
          "base_uri": "https://localhost:8080/"
        },
        "id": "S8uvE1NN9p19",
        "outputId": "98ed2265-3979-4fc5-f0c0-b933ca1734af"
      },
      "execution_count": null,
      "outputs": [
        {
          "output_type": "stream",
          "name": "stdout",
          "text": [
            "63/63 [==============================] - 2s 6ms/step - loss: 0.3720 - acc: 0.8800\n"
          ]
        },
        {
          "output_type": "execute_result",
          "data": {
            "text/plain": [
              "{'model': 'LSTM1 + Embedded', 'val_acc': 0.88, 'val_loss': 0.372}"
            ]
          },
          "metadata": {},
          "execution_count": 58
        }
      ]
    },
    {
      "cell_type": "code",
      "source": [
        "list_model_details.append(evaluation_embd_lstm_model)\n",
        "list_model_details"
      ],
      "metadata": {
        "colab": {
          "base_uri": "https://localhost:8080/"
        },
        "id": "T-VdpcBGRiLF",
        "outputId": "69c91655-2787-4569-c1ab-09dd3cce3fba"
      },
      "execution_count": null,
      "outputs": [
        {
          "output_type": "execute_result",
          "data": {
            "text/plain": [
              "[{'model': 'DNN + Embedded', 'val_acc': 0.8855, 'val_loss': 0.3473},\n",
              " {'model': 'RNN1 + Embedded', 'val_acc': 0.858, 'val_loss': 0.4175},\n",
              " {'model': 'RNN2 + Embedded', 'val_acc': 0.8665, 'val_loss': 0.4613},\n",
              " {'model': 'LSTM1 + Embedded', 'val_acc': 0.88, 'val_loss': 0.372}]"
            ]
          },
          "metadata": {},
          "execution_count": 68
        }
      ]
    },
    {
      "cell_type": "markdown",
      "source": [
        "#### Plot the model metrics"
      ],
      "metadata": {
        "id": "DdBlzCyIEkyr"
      }
    },
    {
      "cell_type": "code",
      "source": [
        "pd.DataFrame(embd_lstm_model.history.history).plot()"
      ],
      "metadata": {
        "colab": {
          "base_uri": "https://localhost:8080/",
          "height": 286
        },
        "id": "8dJjGQCjBekz",
        "outputId": "40abb1cd-c911-4653-82af-46a3820b8682"
      },
      "execution_count": null,
      "outputs": [
        {
          "output_type": "execute_result",
          "data": {
            "text/plain": [
              "<matplotlib.axes._subplots.AxesSubplot at 0x7fe1f4a32b10>"
            ]
          },
          "metadata": {},
          "execution_count": 59
        },
        {
          "output_type": "display_data",
          "data": {
            "image/png": "[encoded data removed]",
            "text/plain": [
              "<Figure size 432x288 with 1 Axes>"
            ]
          },
          "metadata": {
            "needs_background": "light"
          }
        }
      ]
    },
    {
      "cell_type": "code",
      "source": [
        "pred = np.argmax(best_embd_lstm_model.predict(test_padded), -1)\n",
        "model_scores(pred, color='Purples')"
      ],
      "metadata": {
        "colab": {
          "base_uri": "https://localhost:8080/",
          "height": 668
        },
        "id": "rm2sQrqtZEx0",
        "outputId": "41c3bb3e-1c0c-4cc8-d2c8-629de3cef4bf"
      },
      "execution_count": null,
      "outputs": [
        {
          "output_type": "stream",
          "name": "stdout",
          "text": [
            "accuracy_score: 0.88\n",
            "precision_score: 0.88\n",
            "recall_score: 0.88\n",
            "f1_score: 0.88\n"
          ]
        },
        {
          "output_type": "display_data",
          "data": {
            "image/png": "[encoded data removed]",
            "text/plain": [
              "<Figure size 720x720 with 2 Axes>"
            ]
          },
          "metadata": {
            "needs_background": "light"
          }
        }
      ]
    },
    {
      "cell_type": "markdown",
      "source": [
        "### version 2"
      ],
      "metadata": {
        "id": "fkRdWPmCh1tt"
      }
    },
    {
      "cell_type": "code",
      "source": [
        "tf.keras.backend.clear_session()\n",
        "embd_lstm_2_model = tf.keras.Sequential(\n",
        "    [\n",
        "     tf.keras.layers.Embedding(input_dim=vocab_size+1, output_dim=embedding_dim, mask_zero=True, input_length=max_sequence),\n",
        "     tf.keras.layers.LSTM(units=128, return_sequences= True, dropout=0.3, recurrent_dropout=0.3),\n",
        "     tf.keras.layers.LayerNormalization(),\n",
        "     tf.keras.layers.LSTM(units=128, return_sequences= False, dropout=0.3, recurrent_dropout=0.3),\n",
        "     tf.keras.layers.LayerNormalization(),\n",
        "     tf.keras.layers.Dense(units=6, activation='softmax')\n",
        "    ]\n",
        ")\n",
        "embd_lstm_2_model.summary()"
      ],
      "metadata": {
        "colab": {
          "base_uri": "https://localhost:8080/"
        },
        "id": "CeqZ1tuviElT",
        "outputId": "4effef86-a5cd-4a46-f02a-4a33d93fa281"
      },
      "execution_count": null,
      "outputs": [
        {
          "output_type": "stream",
          "name": "stdout",
          "text": [
            "WARNING:tensorflow:Layer lstm will not use cuDNN kernels since it doesn't meet the criteria. It will use a generic GPU kernel as fallback when running on GPU.\n",
            "WARNING:tensorflow:Layer lstm_1 will not use cuDNN kernels since it doesn't meet the criteria. It will use a generic GPU kernel as fallback when running on GPU.\n",
            "Model: \"sequential\"\n",
            "_________________________________________________________________\n",
            " Layer (type)                Output Shape              Param #   \n",
            "=================================================================\n",
            " embedding (Embedding)       (None, 64, 100)           1000100   \n",
            "                                                                 \n",
            " lstm (LSTM)                 (None, 64, 128)           117248    \n",
            "                                                                 \n",
            " layer_normalization (LayerN  (None, 64, 128)          256       \n",
            " ormalization)                                                   \n",
            "                                                                 \n",
            " lstm_1 (LSTM)               (None, 128)               131584    \n",
            "                                                                 \n",
            " layer_normalization_1 (Laye  (None, 128)              256       \n",
            " rNormalization)                                                 \n",
            "                                                                 \n",
            " dense (Dense)               (None, 6)                 774       \n",
            "                                                                 \n",
            "=================================================================\n",
            "Total params: 1,250,218\n",
            "Trainable params: 1,250,218\n",
            "Non-trainable params: 0\n",
            "_________________________________________________________________\n"
          ]
        }
      ]
    },
    {
      "cell_type": "code",
      "source": [
        "best_embd_lstm_2_model = tf.keras.callbacks.ModelCheckpoint('/content/drive/MyDrive/saved_models/EmbdLSTM2_Zainab_Mahmood.h5', \n",
        "                                                    monitor='val_acc', \n",
        "                                                    save_best_only=True )\n",
        "embd_lstm_2_model.compile(optimizer=tf.optimizers.Adam(), loss=tf.losses.SparseCategoricalCrossentropy(), metrics=['acc'])\n",
        "embd_lstm_2_model.fit(train_dataset, epochs=6, validation_data=test_dataset, callbacks=[best_embd_lstm_2_model])"
      ],
      "metadata": {
        "colab": {
          "base_uri": "https://localhost:8080/"
        },
        "id": "CZIfjN72j2z7",
        "outputId": "966d4fbc-757b-43c7-e324-1634a3a381b7"
      },
      "execution_count": null,
      "outputs": [
        {
          "output_type": "stream",
          "name": "stdout",
          "text": [
            "Epoch 1/6\n",
            "250/250 [==============================] - 235s 914ms/step - loss: 0.9182 - acc: 0.6610 - val_loss: 0.3591 - val_acc: 0.8645\n",
            "Epoch 2/6\n",
            "250/250 [==============================] - 251s 1s/step - loss: 0.2279 - acc: 0.9164 - val_loss: 0.3544 - val_acc: 0.8690\n",
            "Epoch 3/6\n",
            "250/250 [==============================] - 239s 955ms/step - loss: 0.1232 - acc: 0.9559 - val_loss: 0.3497 - val_acc: 0.8845\n",
            "Epoch 4/6\n",
            "250/250 [==============================] - 284s 1s/step - loss: 0.0865 - acc: 0.9683 - val_loss: 0.3764 - val_acc: 0.8870\n",
            "Epoch 5/6\n",
            "250/250 [==============================] - 265s 1s/step - loss: 0.0667 - acc: 0.9746 - val_loss: 0.3657 - val_acc: 0.8905\n",
            "Epoch 6/6\n",
            "250/250 [==============================] - 206s 822ms/step - loss: 0.0556 - acc: 0.9785 - val_loss: 0.3546 - val_acc: 0.8990\n"
          ]
        },
        {
          "output_type": "execute_result",
          "data": {
            "text/plain": [
              "<keras.callbacks.History at 0x7fe1f603ff10>"
            ]
          },
          "metadata": {},
          "execution_count": 62
        }
      ]
    },
    {
      "cell_type": "code",
      "source": [
        "best_embd_lstm_2_model = tf.keras.models.load_model('/content/drive/MyDrive/saved_models/EmbdLSTM2_Zainab_Mahmood.h5')\n",
        "evaluation_embd_lstm_2_model = model_details(model= best_embd_lstm_2_model, model_name= 'LSTM2 + Embedded')\n",
        "evaluation_embd_lstm_2_model"
      ],
      "metadata": {
        "colab": {
          "base_uri": "https://localhost:8080/"
        },
        "id": "nHbH_Vq9Eydr",
        "outputId": "d8a1b3be-5ad8-4c0d-a8a1-819a48f2dcba"
      },
      "execution_count": null,
      "outputs": [
        {
          "output_type": "stream",
          "name": "stdout",
          "text": [
            "WARNING:tensorflow:Layer lstm will not use cuDNN kernels since it doesn't meet the criteria. It will use a generic GPU kernel as fallback when running on GPU.\n",
            "WARNING:tensorflow:Layer lstm_1 will not use cuDNN kernels since it doesn't meet the criteria. It will use a generic GPU kernel as fallback when running on GPU.\n",
            "63/63 [==============================] - 4s 58ms/step - loss: 0.3546 - acc: 0.8990\n"
          ]
        },
        {
          "output_type": "execute_result",
          "data": {
            "text/plain": [
              "{'model': 'LSTM2 + Embedded', 'val_acc': 0.899, 'val_loss': 0.3546}"
            ]
          },
          "metadata": {},
          "execution_count": 63
        }
      ]
    },
    {
      "cell_type": "code",
      "source": [
        "list_model_details.append(evaluation_embd_lstm_2_model)\n",
        "list_model_details"
      ],
      "metadata": {
        "colab": {
          "base_uri": "https://localhost:8080/"
        },
        "id": "FaXTin1sRsSS",
        "outputId": "e78245fb-7ade-4d01-da6b-2c169a0dd08b"
      },
      "execution_count": null,
      "outputs": [
        {
          "output_type": "execute_result",
          "data": {
            "text/plain": [
              "[{'model': 'DNN + Embedded', 'val_acc': 0.8855, 'val_loss': 0.3473},\n",
              " {'model': 'RNN1 + Embedded', 'val_acc': 0.858, 'val_loss': 0.4175},\n",
              " {'model': 'RNN2 + Embedded', 'val_acc': 0.8665, 'val_loss': 0.4613},\n",
              " {'model': 'LSTM1 + Embedded', 'val_acc': 0.88, 'val_loss': 0.372},\n",
              " {'model': 'LSTM2 + Embedded', 'val_acc': 0.899, 'val_loss': 0.3546}]"
            ]
          },
          "metadata": {},
          "execution_count": 69
        }
      ]
    },
    {
      "cell_type": "markdown",
      "source": [
        "#### Plot the model metrics"
      ],
      "metadata": {
        "id": "VpgaVdPyEtMz"
      }
    },
    {
      "cell_type": "code",
      "source": [
        "pd.DataFrame(embd_lstm_2_model.history.history).plot()"
      ],
      "metadata": {
        "id": "VU79P9uwCIwM",
        "colab": {
          "base_uri": "https://localhost:8080/",
          "height": 286
        },
        "outputId": "5374ff94-3207-4a6a-f9f2-9cb192c9598b"
      },
      "execution_count": null,
      "outputs": [
        {
          "output_type": "execute_result",
          "data": {
            "text/plain": [
              "<matplotlib.axes._subplots.AxesSubplot at 0x7fe1f53d1cd0>"
            ]
          },
          "metadata": {},
          "execution_count": 70
        },
        {
          "output_type": "display_data",
          "data": {
            "image/png": "[encoded data removed]",
            "text/plain": [
              "<Figure size 432x288 with 1 Axes>"
            ]
          },
          "metadata": {
            "needs_background": "light"
          }
        }
      ]
    },
    {
      "cell_type": "code",
      "source": [
        "pred = np.argmax(best_embd_lstm_2_model.predict(test_padded), -1)\n",
        "model_scores(pred, color='Greens')"
      ],
      "metadata": {
        "colab": {
          "base_uri": "https://localhost:8080/",
          "height": 668
        },
        "id": "xJgnJrGoFA27",
        "outputId": "a9155fce-8541-4d1f-bc5d-1310c4753044"
      },
      "execution_count": null,
      "outputs": [
        {
          "output_type": "stream",
          "name": "stdout",
          "text": [
            "accuracy_score: 0.899\n",
            "precision_score: 0.899\n",
            "recall_score: 0.899\n",
            "f1_score: 0.899\n"
          ]
        },
        {
          "output_type": "display_data",
          "data": {
            "image/png": "[encoded data removed]",
            "text/plain": [
              "<Figure size 720x720 with 2 Axes>"
            ]
          },
          "metadata": {
            "needs_background": "light"
          }
        }
      ]
    },
    {
      "cell_type": "markdown",
      "source": [
        "## Bidirectional LSTM + Embedding"
      ],
      "metadata": {
        "id": "BOgOZQzvp-4J"
      }
    },
    {
      "cell_type": "markdown",
      "source": [
        "### version 1"
      ],
      "metadata": {
        "id": "ObjhSZMMqPtw"
      }
    },
    {
      "cell_type": "code",
      "source": [
        "tf.keras.backend.clear_session()\n",
        "bidrct_embd_lstm_model = tf.keras.Sequential(\n",
        "    [\n",
        "     tf.keras.layers.Embedding(input_dim=vocab_size+1, output_dim=embedding_dim, mask_zero=True, input_length=max_sequence),\n",
        "     tf.keras.layers.Bidirectional(tf.keras.layers.LSTM(units=128, return_sequences= False)),\n",
        "     tf.keras.layers.LayerNormalization(),\n",
        "     tf.keras.layers.Dense(units=6, activation='softmax')\n",
        "    ]\n",
        ")\n",
        "bidrct_embd_lstm_model.summary()"
      ],
      "metadata": {
        "colab": {
          "base_uri": "https://localhost:8080/"
        },
        "id": "V4GRZ_Xx_CXp",
        "outputId": "53fea1f2-2592-413b-9074-7ad4e0af32c4"
      },
      "execution_count": null,
      "outputs": [
        {
          "output_type": "stream",
          "name": "stdout",
          "text": [
            "Model: \"sequential\"\n",
            "_________________________________________________________________\n",
            " Layer (type)                Output Shape              Param #   \n",
            "=================================================================\n",
            " embedding (Embedding)       (None, 64, 100)           1000100   \n",
            "                                                                 \n",
            " bidirectional (Bidirectiona  (None, 256)              234496    \n",
            " l)                                                              \n",
            "                                                                 \n",
            " layer_normalization (LayerN  (None, 256)              512       \n",
            " ormalization)                                                   \n",
            "                                                                 \n",
            " dense (Dense)               (None, 6)                 1542      \n",
            "                                                                 \n",
            "=================================================================\n",
            "Total params: 1,236,650\n",
            "Trainable params: 1,236,650\n",
            "Non-trainable params: 0\n",
            "_________________________________________________________________\n"
          ]
        }
      ]
    },
    {
      "cell_type": "code",
      "source": [
        "best_bidrct_embd_lstm_model = tf.keras.callbacks.ModelCheckpoint('/content/drive/MyDrive/saved_models/BidirEmbdLSTM1_Zainab_Mahmood.h5', \n",
        "                                                    monitor='val_acc', \n",
        "                                                    save_best_only=True )\n",
        "bidrct_embd_lstm_model.compile(optimizer=tf.optimizers.Adam(), loss=tf.losses.SparseCategoricalCrossentropy(), metrics=['acc'])\n",
        "bidrct_embd_lstm_model.fit(train_dataset, epochs=6, validation_data=test_dataset, callbacks=[best_bidrct_embd_lstm_model])"
      ],
      "metadata": {
        "colab": {
          "base_uri": "https://localhost:8080/"
        },
        "id": "xLM8FDbR_Zti",
        "outputId": "302632cf-7dec-4b28-8b3f-09c26eb47988"
      },
      "execution_count": null,
      "outputs": [
        {
          "output_type": "stream",
          "name": "stdout",
          "text": [
            "Epoch 1/6\n",
            "250/250 [==============================] - 23s 56ms/step - loss: 0.6950 - acc: 0.7499 - val_loss: 0.3953 - val_acc: 0.8610\n",
            "Epoch 2/6\n",
            "250/250 [==============================] - 8s 31ms/step - loss: 0.1403 - acc: 0.9519 - val_loss: 0.4813 - val_acc: 0.8540\n",
            "Epoch 3/6\n",
            "250/250 [==============================] - 9s 34ms/step - loss: 0.0703 - acc: 0.9773 - val_loss: 0.4577 - val_acc: 0.8635\n",
            "Epoch 4/6\n",
            "250/250 [==============================] - 8s 31ms/step - loss: 0.0500 - acc: 0.9850 - val_loss: 0.5206 - val_acc: 0.8620\n",
            "Epoch 5/6\n",
            "250/250 [==============================] - 8s 34ms/step - loss: 0.0403 - acc: 0.9869 - val_loss: 0.5860 - val_acc: 0.8650\n",
            "Epoch 6/6\n",
            "250/250 [==============================] - 8s 31ms/step - loss: 0.0409 - acc: 0.9872 - val_loss: 0.5632 - val_acc: 0.8610\n"
          ]
        },
        {
          "output_type": "execute_result",
          "data": {
            "text/plain": [
              "<keras.callbacks.History at 0x7fe1f66f4e90>"
            ]
          },
          "metadata": {},
          "execution_count": 73
        }
      ]
    },
    {
      "cell_type": "code",
      "source": [
        "best_bidrct_embd_lstm_model = tf.keras.models.load_model('/content/drive/MyDrive/saved_models/BidirEmbdLSTM1_Zainab_Mahmood.h5')\n",
        "evaluation_bidrct_embd_lstm_model = model_details(model= best_bidrct_embd_lstm_model, model_name= 'BidirLSTM1 + Embedded')\n",
        "evaluation_bidrct_embd_lstm_model"
      ],
      "metadata": {
        "colab": {
          "base_uri": "https://localhost:8080/"
        },
        "id": "cNmodzZ1HQwJ",
        "outputId": "c14ed340-c4e3-4cfd-d0aa-6f6b2ec3c9e5"
      },
      "execution_count": null,
      "outputs": [
        {
          "output_type": "stream",
          "name": "stdout",
          "text": [
            "63/63 [==============================] - 3s 9ms/step - loss: 0.5860 - acc: 0.8650\n"
          ]
        },
        {
          "output_type": "execute_result",
          "data": {
            "text/plain": [
              "{'model': 'BidirLSTM1 + Embedded', 'val_acc': 0.865, 'val_loss': 0.586}"
            ]
          },
          "metadata": {},
          "execution_count": 74
        }
      ]
    },
    {
      "cell_type": "code",
      "source": [
        "list_model_details.append(evaluation_bidrct_embd_lstm_model)\n",
        "list_model_details"
      ],
      "metadata": {
        "colab": {
          "base_uri": "https://localhost:8080/"
        },
        "id": "IaOdBhJrR8mZ",
        "outputId": "ab32eb53-8735-4fdd-fda6-9a5fd671e111"
      },
      "execution_count": null,
      "outputs": [
        {
          "output_type": "execute_result",
          "data": {
            "text/plain": [
              "[{'model': 'DNN + Embedded', 'val_acc': 0.8855, 'val_loss': 0.3473},\n",
              " {'model': 'RNN1 + Embedded', 'val_acc': 0.858, 'val_loss': 0.4175},\n",
              " {'model': 'RNN2 + Embedded', 'val_acc': 0.8665, 'val_loss': 0.4613},\n",
              " {'model': 'LSTM1 + Embedded', 'val_acc': 0.88, 'val_loss': 0.372},\n",
              " {'model': 'LSTM2 + Embedded', 'val_acc': 0.899, 'val_loss': 0.3546},\n",
              " {'model': 'BidirLSTM1 + Embedded', 'val_acc': 0.865, 'val_loss': 0.586}]"
            ]
          },
          "metadata": {},
          "execution_count": 75
        }
      ]
    },
    {
      "cell_type": "markdown",
      "source": [
        "#### Plot the model metrics"
      ],
      "metadata": {
        "id": "wTrhcybpH5my"
      }
    },
    {
      "cell_type": "code",
      "source": [
        "pd.DataFrame(bidrct_embd_lstm_model.history.history).plot()"
      ],
      "metadata": {
        "id": "sx6YqUAICYkQ",
        "colab": {
          "base_uri": "https://localhost:8080/",
          "height": 286
        },
        "outputId": "c81e309a-8ae7-479d-910a-a9df10990e39"
      },
      "execution_count": null,
      "outputs": [
        {
          "output_type": "execute_result",
          "data": {
            "text/plain": [
              "<matplotlib.axes._subplots.AxesSubplot at 0x7fe1cd42d750>"
            ]
          },
          "metadata": {},
          "execution_count": 76
        },
        {
          "output_type": "display_data",
          "data": {
            "image/png": "[encoded data removed]",
            "text/plain": [
              "<Figure size 432x288 with 1 Axes>"
            ]
          },
          "metadata": {
            "needs_background": "light"
          }
        }
      ]
    },
    {
      "cell_type": "code",
      "source": [
        "pred = np.argmax(best_bidrct_embd_lstm_model.predict(test_padded), -1)\n",
        "model_scores(pred, color='BuPu')"
      ],
      "metadata": {
        "colab": {
          "base_uri": "https://localhost:8080/",
          "height": 668
        },
        "id": "EIh98dHNHdCc",
        "outputId": "6e59d638-9480-4f1b-b5f4-db5a17d1c03e"
      },
      "execution_count": null,
      "outputs": [
        {
          "output_type": "stream",
          "name": "stdout",
          "text": [
            "accuracy_score: 0.865\n",
            "precision_score: 0.865\n",
            "recall_score: 0.865\n",
            "f1_score: 0.865\n"
          ]
        },
        {
          "output_type": "display_data",
          "data": {
            "image/png": "[encoded data removed]",
            "text/plain": [
              "<Figure size 720x720 with 2 Axes>"
            ]
          },
          "metadata": {
            "needs_background": "light"
          }
        }
      ]
    },
    {
      "cell_type": "markdown",
      "source": [
        "### version 2"
      ],
      "metadata": {
        "id": "U2E1RZ7lra9p"
      }
    },
    {
      "cell_type": "code",
      "source": [
        "tf.keras.backend.clear_session()\n",
        "bidrct_embd_lstm_2_model = tf.keras.Sequential(\n",
        "    [\n",
        "     tf.keras.layers.Embedding(input_dim=vocab_size+1, output_dim=embedding_dim, mask_zero=True, input_length=max_sequence),\n",
        "     tf.keras.layers.Bidirectional(tf.keras.layers.LSTM(units=128, return_sequences= True)),\n",
        "     tf.keras.layers.LayerNormalization(),\n",
        "     tf.keras.layers.Bidirectional(tf.keras.layers.LSTM(units=128, return_sequences= False)),\n",
        "     tf.keras.layers.LayerNormalization(),\n",
        "     tf.keras.layers.Dense(units=6, activation='softmax')\n",
        "    ]\n",
        ")\n",
        "bidrct_embd_lstm_2_model.summary()"
      ],
      "metadata": {
        "colab": {
          "base_uri": "https://localhost:8080/"
        },
        "id": "Kbln51TAre9y",
        "outputId": "cd8efdfd-591f-4243-bc12-9d8f1906793f"
      },
      "execution_count": null,
      "outputs": [
        {
          "output_type": "stream",
          "name": "stdout",
          "text": [
            "Model: \"sequential\"\n",
            "_________________________________________________________________\n",
            " Layer (type)                Output Shape              Param #   \n",
            "=================================================================\n",
            " embedding (Embedding)       (None, 64, 100)           1000100   \n",
            "                                                                 \n",
            " bidirectional (Bidirectiona  (None, 64, 256)          234496    \n",
            " l)                                                              \n",
            "                                                                 \n",
            " layer_normalization (LayerN  (None, 64, 256)          512       \n",
            " ormalization)                                                   \n",
            "                                                                 \n",
            " bidirectional_1 (Bidirectio  (None, 256)              394240    \n",
            " nal)                                                            \n",
            "                                                                 \n",
            " layer_normalization_1 (Laye  (None, 256)              512       \n",
            " rNormalization)                                                 \n",
            "                                                                 \n",
            " dense (Dense)               (None, 6)                 1542      \n",
            "                                                                 \n",
            "=================================================================\n",
            "Total params: 1,631,402\n",
            "Trainable params: 1,631,402\n",
            "Non-trainable params: 0\n",
            "_________________________________________________________________\n"
          ]
        }
      ]
    },
    {
      "cell_type": "code",
      "source": [
        "best_bidrct_embd_lstm_2_model = tf.keras.callbacks.ModelCheckpoint('/content/drive/MyDrive/saved_models/BidirEmbdLSTM2_Zainab_Mahmood.h5', \n",
        "                                                    monitor='val_acc', \n",
        "                                                    save_best_only=True )\n",
        "bidrct_embd_lstm_2_model.compile(optimizer=tf.optimizers.Adam(), loss=tf.losses.SparseCategoricalCrossentropy(), metrics=['acc'])\n",
        "bidrct_embd_lstm_2_model.fit(train_dataset, epochs=6, validation_data=test_dataset, callbacks=[best_bidrct_embd_lstm_2_model])"
      ],
      "metadata": {
        "colab": {
          "base_uri": "https://localhost:8080/"
        },
        "id": "HhguzWykrsA4",
        "outputId": "4485c94c-1374-4536-ae12-d45e4a08170f"
      },
      "execution_count": null,
      "outputs": [
        {
          "output_type": "stream",
          "name": "stdout",
          "text": [
            "Epoch 1/6\n",
            "250/250 [==============================] - 38s 86ms/step - loss: 0.7557 - acc: 0.7268 - val_loss: 0.3570 - val_acc: 0.8720\n",
            "Epoch 2/6\n",
            "250/250 [==============================] - 16s 64ms/step - loss: 0.1353 - acc: 0.9489 - val_loss: 0.3794 - val_acc: 0.8835\n",
            "Epoch 3/6\n",
            "250/250 [==============================] - 15s 61ms/step - loss: 0.0578 - acc: 0.9782 - val_loss: 0.4035 - val_acc: 0.8740\n",
            "Epoch 4/6\n",
            "250/250 [==============================] - 16s 64ms/step - loss: 0.0426 - acc: 0.9852 - val_loss: 0.3758 - val_acc: 0.8910\n",
            "Epoch 5/6\n",
            "250/250 [==============================] - 16s 64ms/step - loss: 0.0279 - acc: 0.9893 - val_loss: 0.4090 - val_acc: 0.8935\n",
            "Epoch 6/6\n",
            "250/250 [==============================] - 15s 61ms/step - loss: 0.0253 - acc: 0.9909 - val_loss: 0.4666 - val_acc: 0.8890\n"
          ]
        },
        {
          "output_type": "execute_result",
          "data": {
            "text/plain": [
              "<keras.callbacks.History at 0x7fe1cc3be2d0>"
            ]
          },
          "metadata": {},
          "execution_count": 79
        }
      ]
    },
    {
      "cell_type": "code",
      "source": [
        "best_bidrct_embd_lstm_2_model = tf.keras.models.load_model('/content/drive/MyDrive/saved_models/BidirEmbdLSTM2_Zainab_Mahmood.h5')\n",
        "evaluation_bidrct_embd_lstm_2_model = model_details(model= best_bidrct_embd_lstm_2_model, model_name= 'BidirLSTM2 + Embedded')\n",
        "evaluation_bidrct_embd_lstm_2_model"
      ],
      "metadata": {
        "colab": {
          "base_uri": "https://localhost:8080/"
        },
        "id": "3rBTsTE9JaP2",
        "outputId": "af691b1f-3e90-4e00-d621-a49b80ec7325"
      },
      "execution_count": null,
      "outputs": [
        {
          "output_type": "stream",
          "name": "stdout",
          "text": [
            "63/63 [==============================] - 7s 17ms/step - loss: 0.4090 - acc: 0.8935\n"
          ]
        },
        {
          "output_type": "execute_result",
          "data": {
            "text/plain": [
              "{'model': 'BidirLSTM2 + Embedded', 'val_acc': 0.8935, 'val_loss': 0.409}"
            ]
          },
          "metadata": {},
          "execution_count": 80
        }
      ]
    },
    {
      "cell_type": "code",
      "source": [
        "list_model_details.append(evaluation_bidrct_embd_lstm_2_model)\n",
        "list_model_details"
      ],
      "metadata": {
        "colab": {
          "base_uri": "https://localhost:8080/"
        },
        "id": "tEtWOGE5SFhH",
        "outputId": "067fa004-a9ac-4453-c131-9429eebb707a"
      },
      "execution_count": null,
      "outputs": [
        {
          "output_type": "execute_result",
          "data": {
            "text/plain": [
              "[{'model': 'DNN + Embedded', 'val_acc': 0.8855, 'val_loss': 0.3473},\n",
              " {'model': 'RNN1 + Embedded', 'val_acc': 0.858, 'val_loss': 0.4175},\n",
              " {'model': 'RNN2 + Embedded', 'val_acc': 0.8665, 'val_loss': 0.4613},\n",
              " {'model': 'LSTM1 + Embedded', 'val_acc': 0.88, 'val_loss': 0.372},\n",
              " {'model': 'LSTM2 + Embedded', 'val_acc': 0.899, 'val_loss': 0.3546},\n",
              " {'model': 'BidirLSTM1 + Embedded', 'val_acc': 0.865, 'val_loss': 0.586},\n",
              " {'model': 'BidirLSTM2 + Embedded', 'val_acc': 0.8935, 'val_loss': 0.409}]"
            ]
          },
          "metadata": {},
          "execution_count": 81
        }
      ]
    },
    {
      "cell_type": "markdown",
      "source": [
        "#### Plot the model metrics"
      ],
      "metadata": {
        "id": "MfmNLU_2KW5-"
      }
    },
    {
      "cell_type": "code",
      "source": [
        "pd.DataFrame(bidrct_embd_lstm_2_model.history.history).plot()"
      ],
      "metadata": {
        "id": "Bh8xyTi9Cer-",
        "colab": {
          "base_uri": "https://localhost:8080/",
          "height": 286
        },
        "outputId": "78441e0d-8a05-48ca-a86a-860aeefe49ae"
      },
      "execution_count": null,
      "outputs": [
        {
          "output_type": "execute_result",
          "data": {
            "text/plain": [
              "<matplotlib.axes._subplots.AxesSubplot at 0x7fe1c66e92d0>"
            ]
          },
          "metadata": {},
          "execution_count": 82
        },
        {
          "output_type": "display_data",
          "data": {
            "image/png": "[encoded data removed]",
            "text/plain": [
              "<Figure size 432x288 with 1 Axes>"
            ]
          },
          "metadata": {
            "needs_background": "light"
          }
        }
      ]
    },
    {
      "cell_type": "code",
      "source": [
        "pred = np.argmax(best_bidrct_embd_lstm_2_model.predict(test_padded), -1)\n",
        "model_scores(pred, color='YlOrRd')"
      ],
      "metadata": {
        "colab": {
          "base_uri": "https://localhost:8080/",
          "height": 668
        },
        "id": "gqW75XzLJmR3",
        "outputId": "a84de81f-d7c1-441b-98fc-35d30312ed76"
      },
      "execution_count": null,
      "outputs": [
        {
          "output_type": "stream",
          "name": "stdout",
          "text": [
            "accuracy_score: 0.8935\n",
            "precision_score: 0.8935\n",
            "recall_score: 0.8935\n",
            "f1_score: 0.8935\n"
          ]
        },
        {
          "output_type": "display_data",
          "data": {
            "image/png": "[encoded data removed]",
            "text/plain": [
              "<Figure size 720x720 with 2 Axes>"
            ]
          },
          "metadata": {
            "needs_background": "light"
          }
        }
      ]
    },
    {
      "cell_type": "markdown",
      "source": [
        "## GRU + Embedding"
      ],
      "metadata": {
        "id": "4f13d4GFsKWk"
      }
    },
    {
      "cell_type": "markdown",
      "source": [
        "### version 1"
      ],
      "metadata": {
        "id": "RVHk2QxLs4oz"
      }
    },
    {
      "cell_type": "code",
      "source": [
        "tf.keras.backend.clear_session()\n",
        "embd_gru_model = tf.keras.Sequential(\n",
        "    [\n",
        "     tf.keras.layers.Embedding(input_dim=vocab_size+1, output_dim=embedding_dim, mask_zero=True, input_length=max_sequence),\n",
        "     tf.keras.layers.GRU(units=128, return_sequences= False),\n",
        "     tf.keras.layers.LayerNormalization(),\n",
        "     tf.keras.layers.Dense(units=6, activation='softmax')\n",
        "    ]\n",
        ")\n",
        "embd_gru_model.summary()"
      ],
      "metadata": {
        "id": "kGwSbfGWs7Jh",
        "colab": {
          "base_uri": "https://localhost:8080/"
        },
        "outputId": "b58165bf-803c-4bc8-8873-12ae4953aa6b"
      },
      "execution_count": null,
      "outputs": [
        {
          "output_type": "stream",
          "name": "stdout",
          "text": [
            "Model: \"sequential\"\n",
            "_________________________________________________________________\n",
            " Layer (type)                Output Shape              Param #   \n",
            "=================================================================\n",
            " embedding (Embedding)       (None, 64, 100)           1000100   \n",
            "                                                                 \n",
            " gru (GRU)                   (None, 128)               88320     \n",
            "                                                                 \n",
            " layer_normalization (LayerN  (None, 128)              256       \n",
            " ormalization)                                                   \n",
            "                                                                 \n",
            " dense (Dense)               (None, 6)                 774       \n",
            "                                                                 \n",
            "=================================================================\n",
            "Total params: 1,089,450\n",
            "Trainable params: 1,089,450\n",
            "Non-trainable params: 0\n",
            "_________________________________________________________________\n"
          ]
        }
      ]
    },
    {
      "cell_type": "code",
      "source": [
        "best_embd_gru_model = tf.keras.callbacks.ModelCheckpoint('/content/drive/MyDrive/saved_models/EmbdGRU1_Zainab_Mahmood.h5', \n",
        "                                                    monitor='val_acc', \n",
        "                                                    save_best_only=True )\n",
        "embd_gru_model.compile(optimizer=tf.optimizers.Adam(), loss=tf.losses.SparseCategoricalCrossentropy(), metrics=['acc'])\n",
        "embd_gru_model.fit(train_dataset, epochs=6, validation_data=test_dataset, callbacks=[best_embd_gru_model])"
      ],
      "metadata": {
        "colab": {
          "base_uri": "https://localhost:8080/"
        },
        "id": "hVVyR-us02_M",
        "outputId": "f05ed5ae-ee46-42d4-f041-44eeca5ece28"
      },
      "execution_count": null,
      "outputs": [
        {
          "output_type": "stream",
          "name": "stdout",
          "text": [
            "Epoch 1/6\n",
            "250/250 [==============================] - 10s 23ms/step - loss: 0.8300 - acc: 0.7056 - val_loss: 0.3865 - val_acc: 0.8670\n",
            "Epoch 2/6\n",
            "250/250 [==============================] - 4s 17ms/step - loss: 0.1562 - acc: 0.9436 - val_loss: 0.3428 - val_acc: 0.8850\n",
            "Epoch 3/6\n",
            "250/250 [==============================] - 4s 17ms/step - loss: 0.0630 - acc: 0.9779 - val_loss: 0.3611 - val_acc: 0.8955\n",
            "Epoch 4/6\n",
            "250/250 [==============================] - 4s 17ms/step - loss: 0.0390 - acc: 0.9864 - val_loss: 0.3891 - val_acc: 0.8865\n",
            "Epoch 5/6\n",
            "250/250 [==============================] - 4s 17ms/step - loss: 0.0293 - acc: 0.9889 - val_loss: 0.4392 - val_acc: 0.8910\n",
            "Epoch 6/6\n",
            "250/250 [==============================] - 4s 17ms/step - loss: 0.0244 - acc: 0.9909 - val_loss: 0.4617 - val_acc: 0.8895\n"
          ]
        },
        {
          "output_type": "execute_result",
          "data": {
            "text/plain": [
              "<keras.callbacks.History at 0x7fe1ca729a50>"
            ]
          },
          "metadata": {},
          "execution_count": 85
        }
      ]
    },
    {
      "cell_type": "code",
      "source": [
        "best_embd_gru_model = tf.keras.models.load_model('/content/drive/MyDrive/saved_models/EmbdGRU1_Zainab_Mahmood.h5')\n",
        "evaluation_embd_gru_model = model_details(model= best_embd_gru_model, model_name= 'GRU1 + Embedded')\n",
        "evaluation_embd_gru_model"
      ],
      "metadata": {
        "colab": {
          "base_uri": "https://localhost:8080/"
        },
        "id": "wxIwe1lSKxNp",
        "outputId": "13cca363-5983-42df-9b76-71972343a14f"
      },
      "execution_count": null,
      "outputs": [
        {
          "output_type": "stream",
          "name": "stdout",
          "text": [
            "63/63 [==============================] - 3s 5ms/step - loss: 0.3611 - acc: 0.8955\n"
          ]
        },
        {
          "output_type": "execute_result",
          "data": {
            "text/plain": [
              "{'model': 'GRU1 + Embedded', 'val_acc': 0.8955, 'val_loss': 0.3611}"
            ]
          },
          "metadata": {},
          "execution_count": 86
        }
      ]
    },
    {
      "cell_type": "code",
      "source": [
        "list_model_details.append(evaluation_embd_gru_model)"
      ],
      "metadata": {
        "id": "TS3WwWC8SMP5"
      },
      "execution_count": null,
      "outputs": []
    },
    {
      "cell_type": "markdown",
      "source": [
        "#### Plot the model metrics"
      ],
      "metadata": {
        "id": "2OvMbmlCK_kG"
      }
    },
    {
      "cell_type": "code",
      "source": [
        "pd.DataFrame(embd_gru_model.history.history).plot()"
      ],
      "metadata": {
        "id": "gcyQLaXkCiuM",
        "colab": {
          "base_uri": "https://localhost:8080/",
          "height": 286
        },
        "outputId": "d2e76301-588a-480e-cf4a-d92c2f7291c6"
      },
      "execution_count": null,
      "outputs": [
        {
          "output_type": "execute_result",
          "data": {
            "text/plain": [
              "<matplotlib.axes._subplots.AxesSubplot at 0x7fe1c797dcd0>"
            ]
          },
          "metadata": {},
          "execution_count": 88
        },
        {
          "output_type": "display_data",
          "data": {
            "image/png": "[encoded data removed]",
            "text/plain": [
              "<Figure size 432x288 with 1 Axes>"
            ]
          },
          "metadata": {
            "needs_background": "light"
          }
        }
      ]
    },
    {
      "cell_type": "code",
      "source": [
        "pred = np.argmax(best_embd_gru_model.predict(test_padded), -1)\n",
        "model_scores(pred, color='YlGn')"
      ],
      "metadata": {
        "colab": {
          "base_uri": "https://localhost:8080/",
          "height": 668
        },
        "id": "J6_tFbSDLHeh",
        "outputId": "856e5740-c8da-4b31-f848-bb3c12243626"
      },
      "execution_count": null,
      "outputs": [
        {
          "output_type": "stream",
          "name": "stdout",
          "text": [
            "accuracy_score: 0.8955\n",
            "precision_score: 0.8955\n",
            "recall_score: 0.8955\n",
            "f1_score: 0.8955\n"
          ]
        },
        {
          "output_type": "display_data",
          "data": {
            "image/png": "[encoded data removed]",
            "text/plain": [
              "<Figure size 720x720 with 2 Axes>"
            ]
          },
          "metadata": {
            "needs_background": "light"
          }
        }
      ]
    },
    {
      "cell_type": "markdown",
      "source": [
        "### version 2"
      ],
      "metadata": {
        "id": "eX9IA8FG1LvQ"
      }
    },
    {
      "cell_type": "code",
      "source": [
        "tf.keras.backend.clear_session()\n",
        "embd_gru_2_model = tf.keras.Sequential(\n",
        "    [\n",
        "     tf.keras.layers.Embedding(input_dim=vocab_size+1, output_dim=embedding_dim, mask_zero=True, input_length=max_sequence),\n",
        "     tf.keras.layers.GRU(units=128, return_sequences= True),\n",
        "     tf.keras.layers.LayerNormalization(),\n",
        "     tf.keras.layers.GRU(units=128, return_sequences= False),\n",
        "     tf.keras.layers.LayerNormalization(),\n",
        "     tf.keras.layers.Dense(units=6, activation='softmax')\n",
        "    ]\n",
        ")\n",
        "embd_gru_2_model.summary()"
      ],
      "metadata": {
        "id": "cEe01uLnrFOr",
        "colab": {
          "base_uri": "https://localhost:8080/"
        },
        "outputId": "dec4fc45-c280-4b7b-b774-a359b4cd087c"
      },
      "execution_count": null,
      "outputs": [
        {
          "output_type": "stream",
          "name": "stdout",
          "text": [
            "Model: \"sequential\"\n",
            "_________________________________________________________________\n",
            " Layer (type)                Output Shape              Param #   \n",
            "=================================================================\n",
            " embedding (Embedding)       (None, 64, 100)           1000100   \n",
            "                                                                 \n",
            " gru (GRU)                   (None, 64, 128)           88320     \n",
            "                                                                 \n",
            " layer_normalization (LayerN  (None, 64, 128)          256       \n",
            " ormalization)                                                   \n",
            "                                                                 \n",
            " gru_1 (GRU)                 (None, 128)               99072     \n",
            "                                                                 \n",
            " layer_normalization_1 (Laye  (None, 128)              256       \n",
            " rNormalization)                                                 \n",
            "                                                                 \n",
            " dense (Dense)               (None, 6)                 774       \n",
            "                                                                 \n",
            "=================================================================\n",
            "Total params: 1,188,778\n",
            "Trainable params: 1,188,778\n",
            "Non-trainable params: 0\n",
            "_________________________________________________________________\n"
          ]
        }
      ]
    },
    {
      "cell_type": "code",
      "source": [
        "best_embd_gru_2_model = tf.keras.callbacks.ModelCheckpoint('/content/drive/MyDrive/saved_models/EmbdGRU2_Zainab_Mahmood.h5', \n",
        "                                                    monitor='val_acc', \n",
        "                                                    save_best_only=True )\n",
        "embd_gru_2_model.compile(optimizer=tf.optimizers.Adam(), loss=tf.losses.SparseCategoricalCrossentropy(), metrics=['acc'])\n",
        "embd_gru_2_model.fit(train_dataset, epochs=6, validation_data=test_dataset, callbacks=[best_embd_gru_2_model])"
      ],
      "metadata": {
        "colab": {
          "base_uri": "https://localhost:8080/"
        },
        "id": "unAHWP0d1nJ1",
        "outputId": "350e692f-96bf-4d67-ad24-fea14484317b"
      },
      "execution_count": null,
      "outputs": [
        {
          "output_type": "stream",
          "name": "stdout",
          "text": [
            "Epoch 1/6\n",
            "250/250 [==============================] - 19s 41ms/step - loss: 0.7577 - acc: 0.7250 - val_loss: 0.2489 - val_acc: 0.9005\n",
            "Epoch 2/6\n",
            "250/250 [==============================] - 7s 30ms/step - loss: 0.1106 - acc: 0.9551 - val_loss: 0.2373 - val_acc: 0.9085\n",
            "Epoch 3/6\n",
            "250/250 [==============================] - 7s 30ms/step - loss: 0.0493 - acc: 0.9819 - val_loss: 0.2616 - val_acc: 0.9140\n",
            "Epoch 4/6\n",
            "250/250 [==============================] - 7s 29ms/step - loss: 0.0323 - acc: 0.9880 - val_loss: 0.3163 - val_acc: 0.9060\n",
            "Epoch 5/6\n",
            "250/250 [==============================] - 7s 29ms/step - loss: 0.0234 - acc: 0.9918 - val_loss: 0.3310 - val_acc: 0.9035\n",
            "Epoch 6/6\n",
            "250/250 [==============================] - 7s 29ms/step - loss: 0.0222 - acc: 0.9923 - val_loss: 0.3498 - val_acc: 0.9005\n"
          ]
        },
        {
          "output_type": "execute_result",
          "data": {
            "text/plain": [
              "<keras.callbacks.History at 0x7fe1c8ae9090>"
            ]
          },
          "metadata": {},
          "execution_count": 91
        }
      ]
    },
    {
      "cell_type": "code",
      "source": [
        "best_embd_gru_2_model = tf.keras.models.load_model('/content/drive/MyDrive/saved_models/EmbdGRU2_Zainab_Mahmood.h5')\n",
        "evaluation_embd_gru_2_model = model_details(model= best_embd_gru_2_model, model_name= 'GRU2 + Embedded')\n",
        "evaluation_embd_gru_2_model"
      ],
      "metadata": {
        "colab": {
          "base_uri": "https://localhost:8080/"
        },
        "id": "j-bjj2AfMTL0",
        "outputId": "48bc9fcc-1cf0-4745-ffd8-c475f023fc9e"
      },
      "execution_count": null,
      "outputs": [
        {
          "output_type": "stream",
          "name": "stdout",
          "text": [
            "63/63 [==============================] - 6s 9ms/step - loss: 0.2616 - acc: 0.9140\n"
          ]
        },
        {
          "output_type": "execute_result",
          "data": {
            "text/plain": [
              "{'model': 'GRU2 + Embedded', 'val_acc': 0.914, 'val_loss': 0.2616}"
            ]
          },
          "metadata": {},
          "execution_count": 92
        }
      ]
    },
    {
      "cell_type": "code",
      "source": [
        "list_model_details.append(evaluation_embd_gru_2_model)\n",
        "list_model_details"
      ],
      "metadata": {
        "colab": {
          "base_uri": "https://localhost:8080/"
        },
        "id": "xWd_KoJHSVAH",
        "outputId": "e4c300eb-8061-4f28-8e78-48a0eb8554fc"
      },
      "execution_count": null,
      "outputs": [
        {
          "output_type": "execute_result",
          "data": {
            "text/plain": [
              "[{'model': 'DNN + Embedded', 'val_acc': 0.8855, 'val_loss': 0.3473},\n",
              " {'model': 'RNN1 + Embedded', 'val_acc': 0.858, 'val_loss': 0.4175},\n",
              " {'model': 'RNN2 + Embedded', 'val_acc': 0.8665, 'val_loss': 0.4613},\n",
              " {'model': 'LSTM1 + Embedded', 'val_acc': 0.88, 'val_loss': 0.372},\n",
              " {'model': 'LSTM2 + Embedded', 'val_acc': 0.899, 'val_loss': 0.3546},\n",
              " {'model': 'BidirLSTM1 + Embedded', 'val_acc': 0.865, 'val_loss': 0.586},\n",
              " {'model': 'BidirLSTM2 + Embedded', 'val_acc': 0.8935, 'val_loss': 0.409},\n",
              " {'model': 'GRU1 + Embedded', 'val_acc': 0.8955, 'val_loss': 0.3611},\n",
              " {'model': 'GRU2 + Embedded', 'val_acc': 0.914, 'val_loss': 0.2616}]"
            ]
          },
          "metadata": {},
          "execution_count": 93
        }
      ]
    },
    {
      "cell_type": "markdown",
      "source": [
        "#### Plot the model metrics"
      ],
      "metadata": {
        "id": "6Z-qD8lDMsYI"
      }
    },
    {
      "cell_type": "code",
      "source": [
        "pd.DataFrame(embd_gru_2_model.history.history).plot()"
      ],
      "metadata": {
        "id": "rk4iZGxwCnoi",
        "colab": {
          "base_uri": "https://localhost:8080/",
          "height": 286
        },
        "outputId": "5df0ad63-b33d-42ad-ce94-ff22f0dac717"
      },
      "execution_count": null,
      "outputs": [
        {
          "output_type": "execute_result",
          "data": {
            "text/plain": [
              "<matplotlib.axes._subplots.AxesSubplot at 0x7fe1c885de10>"
            ]
          },
          "metadata": {},
          "execution_count": 94
        },
        {
          "output_type": "display_data",
          "data": {
            "image/png": "[encoded data removed]",
            "text/plain": [
              "<Figure size 432x288 with 1 Axes>"
            ]
          },
          "metadata": {
            "needs_background": "light"
          }
        }
      ]
    },
    {
      "cell_type": "code",
      "source": [
        "pred = np.argmax(best_embd_gru_2_model.predict(test_padded), -1)\n",
        "model_scores(pred, color='RdPu')"
      ],
      "metadata": {
        "colab": {
          "base_uri": "https://localhost:8080/",
          "height": 668
        },
        "id": "pUYUSkRcMcyj",
        "outputId": "20b4c8b6-8c61-49af-fa76-a9b9c19b54a2"
      },
      "execution_count": null,
      "outputs": [
        {
          "output_type": "stream",
          "name": "stdout",
          "text": [
            "accuracy_score: 0.914\n",
            "precision_score: 0.914\n",
            "recall_score: 0.914\n",
            "f1_score: 0.914\n"
          ]
        },
        {
          "output_type": "display_data",
          "data": {
            "image/png": "[encoded data removed]",
            "text/plain": [
              "<Figure size 720x720 with 2 Axes>"
            ]
          },
          "metadata": {
            "needs_background": "light"
          }
        }
      ]
    },
    {
      "cell_type": "markdown",
      "source": [
        "## Bidirectional GRU + Embedding"
      ],
      "metadata": {
        "id": "oC-9Q9ao1uVb"
      }
    },
    {
      "cell_type": "markdown",
      "source": [
        "### version 1"
      ],
      "metadata": {
        "id": "-_pHAkH42RC_"
      }
    },
    {
      "cell_type": "code",
      "source": [
        "tf.keras.backend.clear_session()\n",
        "bidrct_embd_gru_model = tf.keras.Sequential(\n",
        "    [\n",
        "     tf.keras.layers.Embedding(input_dim=vocab_size+1, output_dim=embedding_dim, mask_zero=True, input_length=max_sequence),\n",
        "     tf.keras.layers.Bidirectional(tf.keras.layers.GRU(units=128, return_sequences= False)),\n",
        "     tf.keras.layers.LayerNormalization(),\n",
        "     tf.keras.layers.Dense(units=6, activation='softmax')\n",
        "    ]\n",
        ")\n",
        "bidrct_embd_gru_model.summary()"
      ],
      "metadata": {
        "colab": {
          "base_uri": "https://localhost:8080/"
        },
        "id": "8vMjzi6W2Uoq",
        "outputId": "dfadf41c-fe5b-48ec-b270-6229cabb26e0"
      },
      "execution_count": null,
      "outputs": [
        {
          "output_type": "stream",
          "name": "stdout",
          "text": [
            "Model: \"sequential\"\n",
            "_________________________________________________________________\n",
            " Layer (type)                Output Shape              Param #   \n",
            "=================================================================\n",
            " embedding (Embedding)       (None, 64, 100)           1000100   \n",
            "                                                                 \n",
            " bidirectional (Bidirectiona  (None, 256)              176640    \n",
            " l)                                                              \n",
            "                                                                 \n",
            " layer_normalization (LayerN  (None, 256)              512       \n",
            " ormalization)                                                   \n",
            "                                                                 \n",
            " dense (Dense)               (None, 6)                 1542      \n",
            "                                                                 \n",
            "=================================================================\n",
            "Total params: 1,178,794\n",
            "Trainable params: 1,178,794\n",
            "Non-trainable params: 0\n",
            "_________________________________________________________________\n"
          ]
        }
      ]
    },
    {
      "cell_type": "code",
      "source": [
        "best_bidrct_embd_gru_model = tf.keras.callbacks.ModelCheckpoint('/content/drive/MyDrive/saved_models/BidirEmbdGRU1_Zainab_Mahmood.h5', \n",
        "                                                    monitor='val_acc', \n",
        "                                                    save_best_only=True )\n",
        "bidrct_embd_gru_model.compile(optimizer=tf.optimizers.Adam(), loss=tf.losses.SparseCategoricalCrossentropy(), metrics=['acc'])\n",
        "bidrct_embd_gru_model.fit(train_dataset, epochs=6, validation_data=test_dataset, callbacks=[best_bidrct_embd_gru_model])"
      ],
      "metadata": {
        "colab": {
          "base_uri": "https://localhost:8080/"
        },
        "id": "uHUsYNGa3AH7",
        "outputId": "e3172561-60ae-4986-f54b-6c257a9aca58"
      },
      "execution_count": null,
      "outputs": [
        {
          "output_type": "stream",
          "name": "stdout",
          "text": [
            "Epoch 1/6\n",
            "250/250 [==============================] - 20s 47ms/step - loss: 0.7321 - acc: 0.7368 - val_loss: 0.3721 - val_acc: 0.8560\n",
            "Epoch 2/6\n",
            "250/250 [==============================] - 8s 31ms/step - loss: 0.1377 - acc: 0.9541 - val_loss: 0.3785 - val_acc: 0.8740\n",
            "Epoch 3/6\n",
            "250/250 [==============================] - 8s 31ms/step - loss: 0.0616 - acc: 0.9812 - val_loss: 0.4280 - val_acc: 0.8810\n",
            "Epoch 4/6\n",
            "250/250 [==============================] - 7s 28ms/step - loss: 0.0417 - acc: 0.9869 - val_loss: 0.4521 - val_acc: 0.8765\n",
            "Epoch 5/6\n",
            "250/250 [==============================] - 7s 28ms/step - loss: 0.0333 - acc: 0.9899 - val_loss: 0.4917 - val_acc: 0.8740\n",
            "Epoch 6/6\n",
            "250/250 [==============================] - 7s 28ms/step - loss: 0.0332 - acc: 0.9893 - val_loss: 0.6037 - val_acc: 0.8610\n"
          ]
        },
        {
          "output_type": "execute_result",
          "data": {
            "text/plain": [
              "<keras.callbacks.History at 0x7fe1c45d5510>"
            ]
          },
          "metadata": {},
          "execution_count": 97
        }
      ]
    },
    {
      "cell_type": "code",
      "source": [
        "best_bidrct_embd_gru_model = tf.keras.models.load_model('/content/drive/MyDrive/saved_models/BidirEmbdGRU1_Zainab_Mahmood.h5')\n",
        "evaluation_bidrct_embd_gru_model = model_details(model= best_bidrct_embd_gru_model, model_name= 'BidirGRU1 + Embedded')\n",
        "evaluation_bidrct_embd_gru_model"
      ],
      "metadata": {
        "colab": {
          "base_uri": "https://localhost:8080/"
        },
        "id": "cxlgseN0PATo",
        "outputId": "f3ca8b93-072c-48bc-dee5-621dcbe5892c"
      },
      "execution_count": null,
      "outputs": [
        {
          "output_type": "stream",
          "name": "stdout",
          "text": [
            "63/63 [==============================] - 3s 8ms/step - loss: 0.4280 - acc: 0.8810\n"
          ]
        },
        {
          "output_type": "execute_result",
          "data": {
            "text/plain": [
              "{'model': 'BidirGRU1 + Embedded', 'val_acc': 0.881, 'val_loss': 0.428}"
            ]
          },
          "metadata": {},
          "execution_count": 98
        }
      ]
    },
    {
      "cell_type": "code",
      "source": [
        "list_model_details.append(evaluation_bidrct_embd_gru_model)\n",
        "list_model_details"
      ],
      "metadata": {
        "colab": {
          "base_uri": "https://localhost:8080/"
        },
        "id": "HsWJTU53SeCU",
        "outputId": "d348fd5e-3c34-48fd-c8dc-3b2d4a26152f"
      },
      "execution_count": null,
      "outputs": [
        {
          "output_type": "execute_result",
          "data": {
            "text/plain": [
              "[{'model': 'DNN + Embedded', 'val_acc': 0.8855, 'val_loss': 0.3473},\n",
              " {'model': 'RNN1 + Embedded', 'val_acc': 0.858, 'val_loss': 0.4175},\n",
              " {'model': 'RNN2 + Embedded', 'val_acc': 0.8665, 'val_loss': 0.4613},\n",
              " {'model': 'LSTM1 + Embedded', 'val_acc': 0.88, 'val_loss': 0.372},\n",
              " {'model': 'LSTM2 + Embedded', 'val_acc': 0.899, 'val_loss': 0.3546},\n",
              " {'model': 'BidirLSTM1 + Embedded', 'val_acc': 0.865, 'val_loss': 0.586},\n",
              " {'model': 'BidirLSTM2 + Embedded', 'val_acc': 0.8935, 'val_loss': 0.409},\n",
              " {'model': 'GRU1 + Embedded', 'val_acc': 0.8955, 'val_loss': 0.3611},\n",
              " {'model': 'GRU2 + Embedded', 'val_acc': 0.914, 'val_loss': 0.2616},\n",
              " {'model': 'BidirGRU1 + Embedded', 'val_acc': 0.881, 'val_loss': 0.428}]"
            ]
          },
          "metadata": {},
          "execution_count": 99
        }
      ]
    },
    {
      "cell_type": "markdown",
      "source": [
        "#### Plot the model metrics"
      ],
      "metadata": {
        "id": "u9IkBkJgPOwK"
      }
    },
    {
      "cell_type": "code",
      "source": [
        "pd.DataFrame(bidrct_embd_gru_model.history.history).plot()"
      ],
      "metadata": {
        "id": "Z2x6WARiCsLo",
        "colab": {
          "base_uri": "https://localhost:8080/",
          "height": 286
        },
        "outputId": "99c77e26-f370-4d48-8f25-3b7a5451954d"
      },
      "execution_count": null,
      "outputs": [
        {
          "output_type": "execute_result",
          "data": {
            "text/plain": [
              "<matplotlib.axes._subplots.AxesSubplot at 0x7fe1c040cd50>"
            ]
          },
          "metadata": {},
          "execution_count": 100
        },
        {
          "output_type": "display_data",
          "data": {
            "image/png": "[encoded data removed]",
            "text/plain": [
              "<Figure size 432x288 with 1 Axes>"
            ]
          },
          "metadata": {
            "needs_background": "light"
          }
        }
      ]
    },
    {
      "cell_type": "code",
      "source": [
        "pred = np.argmax(best_bidrct_embd_gru_model.predict(test_padded), -1)\n",
        "model_scores(pred, color='Oranges')"
      ],
      "metadata": {
        "colab": {
          "base_uri": "https://localhost:8080/",
          "height": 668
        },
        "id": "l8PZZjd4PWO0",
        "outputId": "e28dd18e-230a-4f03-c65f-25ddddd55826"
      },
      "execution_count": null,
      "outputs": [
        {
          "output_type": "stream",
          "name": "stdout",
          "text": [
            "accuracy_score: 0.881\n",
            "precision_score: 0.881\n",
            "recall_score: 0.881\n",
            "f1_score: 0.881\n"
          ]
        },
        {
          "output_type": "display_data",
          "data": {
            "image/png": "[encoded data removed]",
            "text/plain": [
              "<Figure size 720x720 with 2 Axes>"
            ]
          },
          "metadata": {
            "needs_background": "light"
          }
        }
      ]
    },
    {
      "cell_type": "markdown",
      "source": [
        "### version 2"
      ],
      "metadata": {
        "id": "KT14dY7Y2VRZ"
      }
    },
    {
      "cell_type": "code",
      "source": [
        "tf.keras.backend.clear_session()\n",
        "bidrct_embd_gru_2_model = tf.keras.Sequential(\n",
        "    [\n",
        "     tf.keras.layers.Embedding(input_dim=vocab_size+1, output_dim=embedding_dim, mask_zero=True, input_length=max_sequence),\n",
        "     tf.keras.layers.Bidirectional(tf.keras.layers.GRU(units=128, return_sequences= True)),\n",
        "     tf.keras.layers.LayerNormalization(),\n",
        "     tf.keras.layers.Bidirectional(tf.keras.layers.GRU(units=128, return_sequences= False)),\n",
        "     tf.keras.layers.LayerNormalization(),\n",
        "     tf.keras.layers.Dense(units=6, activation='softmax')\n",
        "    ]\n",
        ")\n",
        "bidrct_embd_gru_2_model.summary()"
      ],
      "metadata": {
        "colab": {
          "base_uri": "https://localhost:8080/"
        },
        "id": "SVNoI_Ia2Yzo",
        "outputId": "41f31a3d-095d-47d8-8b38-c0cf1ca69715"
      },
      "execution_count": null,
      "outputs": [
        {
          "output_type": "stream",
          "name": "stdout",
          "text": [
            "Model: \"sequential\"\n",
            "_________________________________________________________________\n",
            " Layer (type)                Output Shape              Param #   \n",
            "=================================================================\n",
            " embedding (Embedding)       (None, 64, 100)           1000100   \n",
            "                                                                 \n",
            " bidirectional (Bidirectiona  (None, 64, 256)          176640    \n",
            " l)                                                              \n",
            "                                                                 \n",
            " layer_normalization (LayerN  (None, 64, 256)          512       \n",
            " ormalization)                                                   \n",
            "                                                                 \n",
            " bidirectional_1 (Bidirectio  (None, 256)              296448    \n",
            " nal)                                                            \n",
            "                                                                 \n",
            " layer_normalization_1 (Laye  (None, 256)              512       \n",
            " rNormalization)                                                 \n",
            "                                                                 \n",
            " dense (Dense)               (None, 6)                 1542      \n",
            "                                                                 \n",
            "=================================================================\n",
            "Total params: 1,475,754\n",
            "Trainable params: 1,475,754\n",
            "Non-trainable params: 0\n",
            "_________________________________________________________________\n"
          ]
        }
      ]
    },
    {
      "cell_type": "code",
      "source": [
        "best_bidrct_embd_gru_2_model = tf.keras.callbacks.ModelCheckpoint('/content/drive/MyDrive/saved_models/BidirEmbdGRU2_Zainab_Mahmood.h5', \n",
        "                                                    monitor='val_acc', \n",
        "                                                    save_best_only=True )\n",
        "bidrct_embd_gru_2_model.compile(optimizer=tf.optimizers.Adam(), loss=tf.losses.SparseCategoricalCrossentropy(), metrics=['acc'])\n",
        "bidrct_embd_gru_2_model.fit(train_dataset, epochs=6, validation_data=test_dataset, callbacks= [best_bidrct_embd_gru_2_model])"
      ],
      "metadata": {
        "colab": {
          "base_uri": "https://localhost:8080/"
        },
        "id": "cIJABkjZ3vB9",
        "outputId": "6710dfe5-68a1-472e-c70e-f1d39ef387d6"
      },
      "execution_count": null,
      "outputs": [
        {
          "output_type": "stream",
          "name": "stdout",
          "text": [
            "Epoch 1/6\n",
            "250/250 [==============================] - 36s 77ms/step - loss: 0.7054 - acc: 0.7493 - val_loss: 0.2418 - val_acc: 0.9105\n",
            "Epoch 2/6\n",
            "250/250 [==============================] - 14s 56ms/step - loss: 0.0954 - acc: 0.9631 - val_loss: 0.2403 - val_acc: 0.9120\n",
            "Epoch 3/6\n",
            "250/250 [==============================] - 13s 54ms/step - loss: 0.0448 - acc: 0.9839 - val_loss: 0.3065 - val_acc: 0.9110\n",
            "Epoch 4/6\n",
            "250/250 [==============================] - 14s 57ms/step - loss: 0.0314 - acc: 0.9887 - val_loss: 0.2942 - val_acc: 0.9145\n",
            "Epoch 5/6\n",
            "250/250 [==============================] - 13s 53ms/step - loss: 0.0222 - acc: 0.9924 - val_loss: 0.3138 - val_acc: 0.9110\n",
            "Epoch 6/6\n",
            "250/250 [==============================] - 13s 53ms/step - loss: 0.0165 - acc: 0.9942 - val_loss: 0.3565 - val_acc: 0.9070\n"
          ]
        },
        {
          "output_type": "execute_result",
          "data": {
            "text/plain": [
              "<keras.callbacks.History at 0x7fe1c4d01f10>"
            ]
          },
          "metadata": {},
          "execution_count": 103
        }
      ]
    },
    {
      "cell_type": "code",
      "source": [
        "best_bidrct_embd_gru_2_model = tf.keras.models.load_model('/content/drive/MyDrive/saved_models/BidirEmbdGRU2_Zainab_Mahmood.h5')\n",
        "evaluation_bidrct_embd_gru_2_model = model_details(model= best_bidrct_embd_gru_2_model, model_name= 'BidirGRU2 + Embedded')\n",
        "evaluation_bidrct_embd_gru_2_model"
      ],
      "metadata": {
        "colab": {
          "base_uri": "https://localhost:8080/"
        },
        "id": "1JUsIHpnQC77",
        "outputId": "dcf844d7-45f8-4567-f7e4-d49a2909b3ce"
      },
      "execution_count": null,
      "outputs": [
        {
          "output_type": "stream",
          "name": "stdout",
          "text": [
            "63/63 [==============================] - 9s 15ms/step - loss: 0.2942 - acc: 0.9145\n"
          ]
        },
        {
          "output_type": "execute_result",
          "data": {
            "text/plain": [
              "{'model': 'BidirGRU2 + Embedded', 'val_acc': 0.9145, 'val_loss': 0.2942}"
            ]
          },
          "metadata": {},
          "execution_count": 104
        }
      ]
    },
    {
      "cell_type": "code",
      "source": [
        "list_model_details.append(evaluation_bidrct_embd_gru_2_model)\n",
        "list_model_details"
      ],
      "metadata": {
        "colab": {
          "base_uri": "https://localhost:8080/"
        },
        "id": "B0nRwQPcStlD",
        "outputId": "492466cb-720e-4750-b931-8946a65d049f"
      },
      "execution_count": null,
      "outputs": [
        {
          "output_type": "execute_result",
          "data": {
            "text/plain": [
              "[{'model': 'DNN + Embedded', 'val_acc': 0.8855, 'val_loss': 0.3473},\n",
              " {'model': 'RNN1 + Embedded', 'val_acc': 0.858, 'val_loss': 0.4175},\n",
              " {'model': 'RNN2 + Embedded', 'val_acc': 0.8665, 'val_loss': 0.4613},\n",
              " {'model': 'LSTM1 + Embedded', 'val_acc': 0.88, 'val_loss': 0.372},\n",
              " {'model': 'LSTM2 + Embedded', 'val_acc': 0.899, 'val_loss': 0.3546},\n",
              " {'model': 'BidirLSTM1 + Embedded', 'val_acc': 0.865, 'val_loss': 0.586},\n",
              " {'model': 'BidirLSTM2 + Embedded', 'val_acc': 0.8935, 'val_loss': 0.409},\n",
              " {'model': 'GRU1 + Embedded', 'val_acc': 0.8955, 'val_loss': 0.3611},\n",
              " {'model': 'GRU2 + Embedded', 'val_acc': 0.914, 'val_loss': 0.2616},\n",
              " {'model': 'BidirGRU1 + Embedded', 'val_acc': 0.881, 'val_loss': 0.428},\n",
              " {'model': 'BidirGRU2 + Embedded', 'val_acc': 0.9145, 'val_loss': 0.2942}]"
            ]
          },
          "metadata": {},
          "execution_count": 105
        }
      ]
    },
    {
      "cell_type": "markdown",
      "source": [
        "#### Plot the model metrics"
      ],
      "metadata": {
        "id": "2kVk1jaERFMQ"
      }
    },
    {
      "cell_type": "code",
      "source": [
        "pd.DataFrame(bidrct_embd_gru_2_model.history.history).plot()"
      ],
      "metadata": {
        "id": "L46thnf4CwkT",
        "colab": {
          "base_uri": "https://localhost:8080/",
          "height": 286
        },
        "outputId": "911429fb-068d-4beb-a93e-61162442b2e2"
      },
      "execution_count": null,
      "outputs": [
        {
          "output_type": "execute_result",
          "data": {
            "text/plain": [
              "<matplotlib.axes._subplots.AxesSubplot at 0x7fe1c0ddf750>"
            ]
          },
          "metadata": {},
          "execution_count": 106
        },
        {
          "output_type": "display_data",
          "data": {
            "image/png": "[encoded data removed]",
            "text/plain": [
              "<Figure size 432x288 with 1 Axes>"
            ]
          },
          "metadata": {
            "needs_background": "light"
          }
        }
      ]
    },
    {
      "cell_type": "code",
      "source": [
        "pred = np.argmax(best_bidrct_embd_gru_2_model.predict(test_padded), -1)\n",
        "model_scores(pred, color='PuBuGn')"
      ],
      "metadata": {
        "colab": {
          "base_uri": "https://localhost:8080/",
          "height": 668
        },
        "id": "9NgYcltSQafV",
        "outputId": "d1fd0f12-8be2-4646-a26f-15b4da58c11d"
      },
      "execution_count": null,
      "outputs": [
        {
          "output_type": "stream",
          "name": "stdout",
          "text": [
            "accuracy_score: 0.9145\n",
            "precision_score: 0.9145\n",
            "recall_score: 0.9145\n",
            "f1_score: 0.9145\n"
          ]
        },
        {
          "output_type": "display_data",
          "data": {
            "image/png": "[encoded data removed]",
            "text/plain": [
              "<Figure size 720x720 with 2 Axes>"
            ]
          },
          "metadata": {
            "needs_background": "light"
          }
        }
      ]
    },
    {
      "cell_type": "markdown",
      "source": [
        "# Best Model"
      ],
      "metadata": {
        "id": "7Mfp7diEZ1Eu"
      }
    },
    {
      "cell_type": "code",
      "source": [
        "df = pd.DataFrame(list_model_details)\n",
        "df"
      ],
      "metadata": {
        "colab": {
          "base_uri": "https://localhost:8080/",
          "height": 394
        },
        "id": "X7-1HUZOZyyS",
        "outputId": "64e81384-0440-4db8-ab86-8590a889e674"
      },
      "execution_count": null,
      "outputs": [
        {
          "output_type": "execute_result",
          "data": {
            "text/html": [
              "\n",
              "  <div id=\"df-e1f5ec2b-8550-41c2-82f3-785938bc04c2\">\n",
              "    <div class=\"colab-df-container\">\n",
              "      <div>\n",
              "<style scoped>\n",
              "    .dataframe tbody tr th:only-of-type {\n",
              "        vertical-align: middle;\n",
              "    }\n",
              "\n",
              "    .dataframe tbody tr th {\n",
              "        vertical-align: top;\n",
              "    }\n",
              "\n",
              "    .dataframe thead th {\n",
              "        text-align: right;\n",
              "    }\n",
              "</style>\n",
              "<table border=\"1\" class=\"dataframe\">\n",
              "  <thead>\n",
              "    <tr style=\"text-align: right;\">\n",
              "      <th></th>\n",
              "      <th>val_loss</th>\n",
              "      <th>val_acc</th>\n",
              "      <th>model</th>\n",
              "    </tr>\n",
              "  </thead>\n",
              "  <tbody>\n",
              "    <tr>\n",
              "      <th>0</th>\n",
              "      <td>0.3473</td>\n",
              "      <td>0.8855</td>\n",
              "      <td>DNN + Embedded</td>\n",
              "    </tr>\n",
              "    <tr>\n",
              "      <th>1</th>\n",
              "      <td>0.4175</td>\n",
              "      <td>0.8580</td>\n",
              "      <td>RNN1 + Embedded</td>\n",
              "    </tr>\n",
              "    <tr>\n",
              "      <th>2</th>\n",
              "      <td>0.4613</td>\n",
              "      <td>0.8665</td>\n",
              "      <td>RNN2 + Embedded</td>\n",
              "    </tr>\n",
              "    <tr>\n",
              "      <th>3</th>\n",
              "      <td>0.3720</td>\n",
              "      <td>0.8800</td>\n",
              "      <td>LSTM1 + Embedded</td>\n",
              "    </tr>\n",
              "    <tr>\n",
              "      <th>4</th>\n",
              "      <td>0.3546</td>\n",
              "      <td>0.8990</td>\n",
              "      <td>LSTM2 + Embedded</td>\n",
              "    </tr>\n",
              "    <tr>\n",
              "      <th>5</th>\n",
              "      <td>0.5860</td>\n",
              "      <td>0.8650</td>\n",
              "      <td>BidirLSTM1 + Embedded</td>\n",
              "    </tr>\n",
              "    <tr>\n",
              "      <th>6</th>\n",
              "      <td>0.4090</td>\n",
              "      <td>0.8935</td>\n",
              "      <td>BidirLSTM2 + Embedded</td>\n",
              "    </tr>\n",
              "    <tr>\n",
              "      <th>7</th>\n",
              "      <td>0.3611</td>\n",
              "      <td>0.8955</td>\n",
              "      <td>GRU1 + Embedded</td>\n",
              "    </tr>\n",
              "    <tr>\n",
              "      <th>8</th>\n",
              "      <td>0.2616</td>\n",
              "      <td>0.9140</td>\n",
              "      <td>GRU2 + Embedded</td>\n",
              "    </tr>\n",
              "    <tr>\n",
              "      <th>9</th>\n",
              "      <td>0.4280</td>\n",
              "      <td>0.8810</td>\n",
              "      <td>BidirGRU1 + Embedded</td>\n",
              "    </tr>\n",
              "    <tr>\n",
              "      <th>10</th>\n",
              "      <td>0.2942</td>\n",
              "      <td>0.9145</td>\n",
              "      <td>BidirGRU2 + Embedded</td>\n",
              "    </tr>\n",
              "  </tbody>\n",
              "</table>\n",
              "</div>\n",
              "      <button class=\"colab-df-convert\" onclick=\"convertToInteractive('df-e1f5ec2b-8550-41c2-82f3-785938bc04c2')\"\n",
              "              title=\"Convert this dataframe to an interactive table.\"\n",
              "              style=\"display:none;\">\n",
              "        \n",
              "  <svg xmlns=\"http://www.w3.org/2000/svg\" height=\"24px\"viewBox=\"0 0 24 24\"\n",
              "       width=\"24px\">\n",
              "    <path d=\"M0 0h24v24H0V0z\" fill=\"none\"/>\n",
              "    <path d=\"M18.56 5.44l.94 2.06.94-2.06 2.06-.94-2.06-.94-.94-2.06-.94 2.06-2.06.94zm-11 1L8.5 8.5l.94-2.06 2.06-.94-2.06-.94L8.5 2.5l-.94 2.06-2.06.94zm10 10l.94 2.06.94-2.06 2.06-.94-2.06-.94-.94-2.06-.94 2.06-2.06.94z\"/><path d=\"M17.41 7.96l-1.37-1.37c-.4-.4-.92-.59-1.43-.59-.52 0-1.04.2-1.43.59L10.3 9.45l-7.72 7.72c-.78.78-.78 2.05 0 2.83L4 21.41c.39.39.9.59 1.41.59.51 0 1.02-.2 1.41-.59l7.78-7.78 2.81-2.81c.8-.78.8-2.07 0-2.86zM5.41 20L4 18.59l7.72-7.72 1.47 1.35L5.41 20z\"/>\n",
              "  </svg>\n",
              "      </button>\n",
              "      \n",
              "  <style>\n",
              "    .colab-df-container {\n",
              "      display:flex;\n",
              "      flex-wrap:wrap;\n",
              "      gap: 12px;\n",
              "    }\n",
              "\n",
              "    .colab-df-convert {\n",
              "      background-color: #E8F0FE;\n",
              "      border: none;\n",
              "      border-radius: 50%;\n",
              "      cursor: pointer;\n",
              "      display: none;\n",
              "      fill: #1967D2;\n",
              "      height: 32px;\n",
              "      padding: 0 0 0 0;\n",
              "      width: 32px;\n",
              "    }\n",
              "\n",
              "    .colab-df-convert:hover {\n",
              "      background-color: #E2EBFA;\n",
              "      box-shadow: 0px 1px 2px rgba(60, 64, 67, 0.3), 0px 1px 3px 1px rgba(60, 64, 67, 0.15);\n",
              "      fill: #174EA6;\n",
              "    }\n",
              "\n",
              "    [theme=dark] .colab-df-convert {\n",
              "      background-color: #3B4455;\n",
              "      fill: #D2E3FC;\n",
              "    }\n",
              "\n",
              "    [theme=dark] .colab-df-convert:hover {\n",
              "      background-color: #434B5C;\n",
              "      box-shadow: 0px 1px 3px 1px rgba(0, 0, 0, 0.15);\n",
              "      filter: drop-shadow(0px 1px 2px rgba(0, 0, 0, 0.3));\n",
              "      fill: #FFFFFF;\n",
              "    }\n",
              "  </style>\n",
              "\n",
              "      <script>\n",
              "        const buttonEl =\n",
              "          document.querySelector('#df-e1f5ec2b-8550-41c2-82f3-785938bc04c2 button.colab-df-convert');\n",
              "        buttonEl.style.display =\n",
              "          google.colab.kernel.accessAllowed ? 'block' : 'none';\n",
              "\n",
              "        async function convertToInteractive(key) {\n",
              "          const element = document.querySelector('#df-e1f5ec2b-8550-41c2-82f3-785938bc04c2');\n",
              "          const dataTable =\n",
              "            await google.colab.kernel.invokeFunction('convertToInteractive',\n",
              "                                                     [key], {});\n",
              "          if (!dataTable) return;\n",
              "\n",
              "          const docLinkHtml = 'Like what you see? Visit the ' +\n",
              "            '<a target=\"_blank\" href=https://colab.research.google.com/notebooks/data_table.ipynb>data table notebook</a>'\n",
              "            + ' to learn more about interactive tables.';\n",
              "          element.innerHTML = '';\n",
              "          dataTable['output_type'] = 'display_data';\n",
              "          await google.colab.output.renderOutput(dataTable, element);\n",
              "          const docLink = document.createElement('div');\n",
              "          docLink.innerHTML = docLinkHtml;\n",
              "          element.appendChild(docLink);\n",
              "        }\n",
              "      </script>\n",
              "    </div>\n",
              "  </div>\n",
              "  "
            ],
            "text/plain": [
              "    val_loss  val_acc                  model\n",
              "0     0.3473   0.8855         DNN + Embedded\n",
              "1     0.4175   0.8580        RNN1 + Embedded\n",
              "2     0.4613   0.8665        RNN2 + Embedded\n",
              "3     0.3720   0.8800       LSTM1 + Embedded\n",
              "4     0.3546   0.8990       LSTM2 + Embedded\n",
              "5     0.5860   0.8650  BidirLSTM1 + Embedded\n",
              "6     0.4090   0.8935  BidirLSTM2 + Embedded\n",
              "7     0.3611   0.8955        GRU1 + Embedded\n",
              "8     0.2616   0.9140        GRU2 + Embedded\n",
              "9     0.4280   0.8810   BidirGRU1 + Embedded\n",
              "10    0.2942   0.9145   BidirGRU2 + Embedded"
            ]
          },
          "metadata": {},
          "execution_count": 108
        }
      ]
    },
    {
      "cell_type": "code",
      "source": [
        "# The model with the least val_loss\n",
        "df.iloc[df.val_loss.argmin()]"
      ],
      "metadata": {
        "colab": {
          "base_uri": "https://localhost:8080/"
        },
        "id": "ufOOmc-maE0f",
        "outputId": "15e3d96e-1e84-4245-9bee-5dbd4987f808"
      },
      "execution_count": null,
      "outputs": [
        {
          "output_type": "execute_result",
          "data": {
            "text/plain": [
              "val_loss             0.2616\n",
              "val_acc               0.914\n",
              "model       GRU2 + Embedded\n",
              "Name: 8, dtype: object"
            ]
          },
          "metadata": {},
          "execution_count": 119
        }
      ]
    },
    {
      "cell_type": "code",
      "source": [
        "## The model with the highest val_acc\n",
        "df.iloc[df.val_acc.argmax()]"
      ],
      "metadata": {
        "colab": {
          "base_uri": "https://localhost:8080/"
        },
        "id": "hVSJcS8taXMZ",
        "outputId": "cccda418-9f0a-4af2-93e1-44e44c521134"
      },
      "execution_count": null,
      "outputs": [
        {
          "output_type": "execute_result",
          "data": {
            "text/plain": [
              "val_loss                  0.2942\n",
              "val_acc                   0.9145\n",
              "model       BidirGRU2 + Embedded\n",
              "Name: 10, dtype: object"
            ]
          },
          "metadata": {},
          "execution_count": 118
        }
      ]
    },
    {
      "cell_type": "markdown",
      "source": [
        "<font size='4' color='pink'>Both 'GRU 2 with Embedded Layer' and 'Bidirectional GRU 2 with Embedded Layer' models have similar performance.\n",
        "So I will choose the one with the least val_loss as <font color='yellow'>my best model</font> which is <font color='yellow'>'GRU 2 with Embedded Layer'</font>.</font>"
      ],
      "metadata": {
        "id": "tow12hn3cTRw"
      }
    },
    {
      "cell_type": "code",
      "source": [
        "best_model = tf.keras.models.load_model('/content/drive/MyDrive/saved_models/EmbdGRU2_Zainab_Mahmood.h5')\n",
        "best_model.summary()"
      ],
      "metadata": {
        "colab": {
          "base_uri": "https://localhost:8080/"
        },
        "id": "QIddvfAPelOx",
        "outputId": "df7638c5-ac22-494f-8ee8-5e8d523a0186"
      },
      "execution_count": null,
      "outputs": [
        {
          "output_type": "stream",
          "name": "stdout",
          "text": [
            "Model: \"sequential\"\n",
            "_________________________________________________________________\n",
            " Layer (type)                Output Shape              Param #   \n",
            "=================================================================\n",
            " embedding (Embedding)       (None, 64, 100)           1000100   \n",
            "                                                                 \n",
            " gru (GRU)                   (None, 64, 128)           88320     \n",
            "                                                                 \n",
            " layer_normalization (LayerN  (None, 64, 128)          256       \n",
            " ormalization)                                                   \n",
            "                                                                 \n",
            " gru_1 (GRU)                 (None, 128)               99072     \n",
            "                                                                 \n",
            " layer_normalization_1 (Laye  (None, 128)              256       \n",
            " rNormalization)                                                 \n",
            "                                                                 \n",
            " dense (Dense)               (None, 6)                 774       \n",
            "                                                                 \n",
            "=================================================================\n",
            "Total params: 1,188,778\n",
            "Trainable params: 1,188,778\n",
            "Non-trainable params: 0\n",
            "_________________________________________________________________\n"
          ]
        }
      ]
    },
    {
      "cell_type": "markdown",
      "source": [
        "# Evaluation"
      ],
      "metadata": {
        "id": "zyYFwJyBfniU"
      }
    },
    {
      "cell_type": "code",
      "source": [
        "def predict(text):\n",
        "\n",
        "    tokenized_texts = tokenizer.texts_to_sequences([text])\n",
        "    input = tf.keras.preprocessing.sequence.pad_sequences(tokenized_texts,\n",
        "                                                          maxlen=max_sequence,\n",
        "                                                          padding='post',\n",
        "                                                          truncating='post')\n",
        "\n",
        "    print('Predicted Emoji:', index_emoji[np.argmax(best_model.predict(input))])\n"
      ],
      "metadata": {
        "id": "Ye1CQfOhfjpN"
      },
      "execution_count": null,
      "outputs": []
    },
    {
      "cell_type": "code",
      "source": [
        "#@title Fear Text { run: \"auto\" }\n",
        "text_fear = \"i remember feeling so frightened that i could feel emotions at that high a level\" #@param {type:\"string\"}\n",
        "predict(text_fear)"
      ],
      "metadata": {
        "colab": {
          "base_uri": "https://localhost:8080/"
        },
        "id": "CYbi4lCEgjpK",
        "outputId": "3e37bf4a-efc8-4247-855c-be2a8c3ec57b"
      },
      "execution_count": null,
      "outputs": [
        {
          "output_type": "stream",
          "name": "stdout",
          "text": [
            "Predicted Emoji: 😨\n"
          ]
        }
      ]
    },
    {
      "cell_type": "code",
      "source": [
        "#@title Surprise Text { run: \"auto\" }\n",
        "text_surprise = \"i go through my day feeling your movements and am amazed that something so miraculous is happening in my body its like a special secret only you and i have\" #@param {type:\"string\"}\n",
        "predict(text_surprise)"
      ],
      "metadata": {
        "colab": {
          "base_uri": "https://localhost:8080/"
        },
        "id": "NLF5YLntg0Ab",
        "outputId": "a99717ab-0f30-404a-f0a5-45b4a9a27d13"
      },
      "execution_count": null,
      "outputs": [
        {
          "output_type": "stream",
          "name": "stdout",
          "text": [
            "Predicted Emoji: 😄\n"
          ]
        }
      ]
    },
    {
      "cell_type": "code",
      "source": [
        "#@title Love Text { run: \"auto\" }\n",
        "text_love = \"i feel check the wonder in all that you see you ve got to get loving unconditionally\" #@param {type:\"string\"}\n",
        "predict(text_love)"
      ],
      "metadata": {
        "colab": {
          "base_uri": "https://localhost:8080/"
        },
        "id": "UbDEyxe5g7BJ",
        "outputId": "fd29ae11-37df-4c2a-9c8c-cedab948180b"
      },
      "execution_count": null,
      "outputs": [
        {
          "output_type": "stream",
          "name": "stdout",
          "text": [
            "Predicted Emoji: 😍\n"
          ]
        }
      ]
    },
    {
      "cell_type": "code",
      "source": [
        "#@title Joy Text { run: \"auto\" }\n",
        "text_joy = \"i have some pretty brazen goals and each day i feel stronger and more confident that i m going to reach my desired end result\" #@param {type:\"string\"}\n",
        "predict(text_joy)"
      ],
      "metadata": {
        "colab": {
          "base_uri": "https://localhost:8080/"
        },
        "id": "sc7tGrSPr0ib",
        "outputId": "665dc8ba-db74-47d5-c832-942eacc56467"
      },
      "execution_count": null,
      "outputs": [
        {
          "output_type": "stream",
          "name": "stdout",
          "text": [
            "Predicted Emoji: 😄\n"
          ]
        }
      ]
    },
    {
      "cell_type": "code",
      "source": [
        "#@title Anger Text { run: \"auto\" }\n",
        "text_anger = \"i actually feel agitated which led to a terrible day yesterday in which i was unable to concentrate on anything and basically piddled the day away\\t\" #@param {type:\"string\"}\n",
        "predict(text_anger)"
      ],
      "metadata": {
        "colab": {
          "base_uri": "https://localhost:8080/"
        },
        "id": "rUTO24qjr5cj",
        "outputId": "6396d4a0-10d8-46b0-9865-63adf06d3ff1"
      },
      "execution_count": null,
      "outputs": [
        {
          "output_type": "stream",
          "name": "stdout",
          "text": [
            "Predicted Emoji: 😡\n"
          ]
        }
      ]
    },
    {
      "cell_type": "code",
      "source": [
        "#@title Sadness Text { run: \"auto\" }\n",
        "text_sadness = \"i woke up feeling crappy tired and fighting this feeling all day maybe it is all the pollen the barometric pressure i dont know i know i was off kilter\" #@param {type:\"string\"}\n",
        "predict(text_sadness)"
      ],
      "metadata": {
        "colab": {
          "base_uri": "https://localhost:8080/"
        },
        "id": "ykMDZjrIr-iy",
        "outputId": "86c61cd5-7965-4e1c-da89-f0aa4e6d4f91"
      },
      "execution_count": null,
      "outputs": [
        {
          "output_type": "stream",
          "name": "stdout",
          "text": [
            "Predicted Emoji: 😢\n"
          ]
        }
      ]
    },
    {
      "cell_type": "code",
      "source": [
        "#@title Random Text { run: \"auto\" }\n",
        "text = \"I felt like My heart was totally broken.\" #@param {type:\"string\"}\n",
        "predict(text)"
      ],
      "metadata": {
        "colab": {
          "base_uri": "https://localhost:8080/"
        },
        "id": "OIT_9fP2sFXI",
        "outputId": "85d494e5-9161-4c1e-c51e-bec3225bded1"
      },
      "execution_count": null,
      "outputs": [
        {
          "output_type": "stream",
          "name": "stdout",
          "text": [
            "Predicted Emoji: 😨\n"
          ]
        }
      ]
    },
    {
      "cell_type": "code",
      "source": [
        "#@title Random Text { run: \"auto\" }\n",
        "text = \"I love you, please give me a hug.\" #@param {type:\"string\"}\n",
        "predict(text)"
      ],
      "metadata": {
        "colab": {
          "base_uri": "https://localhost:8080/"
        },
        "outputId": "40f3e8ac-c24f-44b5-dd99-788774d8ccc4",
        "id": "gz-RkX7CyoG5"
      },
      "execution_count": null,
      "outputs": [
        {
          "output_type": "stream",
          "name": "stdout",
          "text": [
            "Predicted Emoji: 😍\n"
          ]
        }
      ]
    },
    {
      "cell_type": "code",
      "source": [
        ""
      ],
      "metadata": {
        "id": "oyeOzq3cyvRA"
      },
      "execution_count": null,
      "outputs": []
    }
  ]
}