{
  "cells": [
    {
      "cell_type": "markdown",
      "metadata": {
        "id": "view-in-github",
        "colab_type": "text"
      },
      "source": [
        "<a href=\"https://colab.research.google.com/github/zainab9271/AI-Dojo_Machine_learning_bootcamp/blob/main/Assignment_04_Zainab_Mahmood_.ipynb\" target=\"_parent\"><img src=\"https://colab.research.google.com/assets/colab-badge.svg\" alt=\"Open In Colab\"/></a>"
      ]
    },
    {
      "cell_type": "markdown",
      "metadata": {
        "id": "AU78WMPocdFw"
      },
      "source": [
        "#Assignment 04: Deep Learning Algorithms \n",
        "\n",
        "This Week's assignment is to train Deep Learning and Machine Learning algorithms on the `fashion_mnist` images dataset to accurately predict the type of clothes in the image.\n",
        "\n",
        "Before starting copy this file and work on your own copy by following the below steps: \n",
        "`File > Save Copy in Drive`. Then add your name to the file (e.g., Assignment 04: Deep Learning - Muntadher Alkaabi).\n",
        "\n",
        "\n",
        "**Submission Deadline: Thursday, 2/10/2022 at 3:00 PM**\n",
        "\n",
        "**Requirements:**\n",
        "\n",
        "1. Import all necessary libraries for the machine learning project.\n",
        "2. Download the dataset using `tf.keras.datasets`.\n",
        "3. Make sure the pixels values are scaled between (`0-1`).\n",
        "4. Make sure to convert the target into one hot vector.\n",
        "5. Train six different Machine Learning models (`KNN`, `Logistics Regression`, `Support Vector Machine`, `Decision Tree`, `Random Forest`, `DNN`).\n",
        "\n",
        "\n",
        "6. Make sure to achieve the following results for the testing data:\n",
        "<br> Accuracy equal or above \"95%\", and Loss equal or below \"0.1\". \n",
        "7. Plot the loss and validation loss values from the training history of the DNN model.\n",
        "8. Use the right evaluation metrics to choose the best model (write down your choice of the best model).\n",
        "\n",
        "\n",
        "**Note:** To get the best performance from the model, manually tune the hyperparameters of each model.\n",
        "\n",
        "Find relevant links below:\n",
        "\n",
        "[Submission Form](https://docs.google.com/forms/d/e/1FAIpQLScPUIMjrlCk9Px0ioSE9xLViJO9r-Q1EymwXxXcJmQuHmIEHA/viewform?usp=pp_url)\n",
        "\n",
        "Good luck and feel free to ask any questions in the or on the Questions channel."
      ]
    },
    {
      "cell_type": "markdown",
      "metadata": {
        "id": "w829qkPAq9qS"
      },
      "source": [
        "# 1- Import all necessary libraries for the machine learning project."
      ]
    },
    {
      "cell_type": "code",
      "execution_count": null,
      "metadata": {
        "id": "uBdm7aY-UqVx"
      },
      "outputs": [],
      "source": [
        "# import the necessary libraries\n",
        "\n",
        "import tensorflow as tf\n",
        "import numpy as np\n",
        "import pandas as pd\n",
        "import matplotlib.pyplot as plt\n",
        "from sklearn import model_selection, metrics, neighbors, linear_model, svm, tree, ensemble"
      ]
    },
    {
      "cell_type": "markdown",
      "metadata": {
        "id": "6g4tht-nmweh"
      },
      "source": [
        "# 2- Download the dataset using tf.keras.dataset"
      ]
    },
    {
      "cell_type": "code",
      "execution_count": null,
      "metadata": {
        "id": "cGhdu-K3dCwn"
      },
      "outputs": [],
      "source": [
        "# download the required dataset\n",
        "\n",
        "(x_train, y_train), (x_test, y_test) = tf.keras.datasets.fashion_mnist.load_data()"
      ]
    },
    {
      "cell_type": "code",
      "execution_count": null,
      "metadata": {
        "colab": {
          "base_uri": "https://localhost:8080/",
          "height": 283
        },
        "id": "kBMYbkgtrP5w",
        "outputId": "f9ae6d2b-ef5f-4987-da1e-e28c03a803f4"
      },
      "outputs": [
        {
          "output_type": "stream",
          "name": "stdout",
          "text": [
            "9\n"
          ]
        },
        {
          "output_type": "display_data",
          "data": {
            "image/png": "[encoded data removed]",
            "text/plain": [
              "<Figure size 432x288 with 1 Axes>"
            ]
          },
          "metadata": {
            "needs_background": "light"
          }
        }
      ],
      "source": [
        "# plot image samples from the dataset \n",
        "\n",
        "plt.imshow(x_train[0])\n",
        "print(y_train[0])"
      ]
    },
    {
      "cell_type": "code",
      "execution_count": null,
      "metadata": {
        "colab": {
          "base_uri": "https://localhost:8080/"
        },
        "id": "wlb_i9T3rk8f",
        "outputId": "f8194edb-40c8-4f53-f2a0-5529b7b7bacb"
      },
      "outputs": [
        {
          "output_type": "stream",
          "name": "stdout",
          "text": [
            "x_train shape: (60000, 28, 28)\n",
            "y_train shape: (60000,)\n",
            "x_test shape: (10000, 28, 28)\n",
            "y_test shape: (10000,)\n"
          ]
        }
      ],
      "source": [
        "# check the shape of the following (x_train, y_train and x_test, y_test)\n",
        "\n",
        "print(f'x_train shape: {x_train.shape}')\n",
        "print(f'y_train shape: {y_train.shape}')\n",
        "print(f'x_test shape: {x_test.shape}')\n",
        "print(f'y_test shape: {y_test.shape}')"
      ]
    },
    {
      "cell_type": "code",
      "execution_count": null,
      "metadata": {
        "colab": {
          "base_uri": "https://localhost:8080/",
          "height": 341
        },
        "id": "7ZWgBTqKsAAL",
        "outputId": "3aee3e28-dbfd-4269-85ad-a549f638b9be"
      },
      "outputs": [
        {
          "output_type": "execute_result",
          "data": {
            "text/plain": [
              "<BarContainer object of 10 artists>"
            ]
          },
          "metadata": {},
          "execution_count": 5
        },
        {
          "output_type": "display_data",
          "data": {
            "image/png": "[encoded data removed]",
            "text/plain": [
              "<Figure size 1440x360 with 2 Axes>"
            ]
          },
          "metadata": {
            "needs_background": "light"
          }
        }
      ],
      "source": [
        "# plot the histogram of the target from the training and testing distribution \n",
        "\n",
        "plt.figure(figsize=(20,5))\n",
        "plt.subplot(1,2,1)\n",
        "plt.title('Train Target')\n",
        "plt.xticks(list(set(y_train)))\n",
        "plt.bar(list(set(y_train)), np.bincount(y_train))\n",
        "# plt.hist(y_train)\n",
        "plt.subplot(1,2,2)\n",
        "plt.title('Test Target')\n",
        "plt.xticks(list(set(y_test)))\n",
        "plt.bar(list(set(y_test)), np.bincount(y_test))\n",
        "# plt.hist(y_test)"
      ]
    },
    {
      "cell_type": "markdown",
      "metadata": {
        "id": "M_uRTiZJnLgq"
      },
      "source": [
        "# 3- Make sure the pixels values are scaled between (0-1)"
      ]
    },
    {
      "cell_type": "code",
      "execution_count": null,
      "metadata": {
        "id": "9bmGWG22nUnz"
      },
      "outputs": [],
      "source": [
        "# scale the pixels values between 0-1\n",
        "x_train_scaled = x_train / 255.0\n",
        "x_test_scaled = x_test / 255.0\n"
      ]
    },
    {
      "cell_type": "code",
      "execution_count": null,
      "metadata": {
        "id": "VUgkrG2gusaT"
      },
      "outputs": [],
      "source": [
        "# convert the images into vectors\n",
        "x_train_vector = x_train_scaled.reshape(-1,28*28)\n",
        "x_test_vector = x_test_scaled.reshape(-1,28*28)"
      ]
    },
    {
      "cell_type": "markdown",
      "metadata": {
        "id": "ckUtAjXWnXFl"
      },
      "source": [
        "# 4- Make sure to convert the target into one hot vector"
      ]
    },
    {
      "cell_type": "code",
      "execution_count": null,
      "metadata": {
        "id": "p_C9e67fq_TJ"
      },
      "outputs": [],
      "source": [
        "# encode the training and testing target into one hot vector\n",
        "\n",
        "y_train_hot = tf.one_hot(y_train, depth=len(set(y_train)))\n",
        "y_test_hot = tf.one_hot(y_test, depth=len(set(y_test)))"
      ]
    },
    {
      "cell_type": "markdown",
      "metadata": {
        "id": "HCe35fm1nlS4"
      },
      "source": [
        "# 5- Modeling\n",
        "Train six different models (KNN, Logistics Regression, Support Vector Machine, Decision Tree, Random Forest, DNN)\n",
        "\n",
        "\n",
        "**Note:**\n",
        "1. Make sure to saperate each model in a new sub-section.\n",
        "2. Make sure to achieve the following results for the testing data: \n",
        "<br> Accuracy equal or above \"95%\", and Loss equal or below \"0.1\".\n",
        "3. Plot the loss and validation loss values from the training history of the DNN model.\n",
        "4. Use the right evaluation metrics to choose the best model (write down your choice of the best model)."
      ]
    },
    {
      "cell_type": "markdown",
      "metadata": {
        "id": "KRmmqYZKtA5F"
      },
      "source": [
        "## KNN Model"
      ]
    },
    {
      "cell_type": "code",
      "execution_count": null,
      "metadata": {
        "id": "xCO4b9WNnqd8"
      },
      "outputs": [],
      "source": [
        "# build the model\n",
        "\n",
        "knn =neighbors.KNeighborsClassifier(n_neighbors=4, weights= 'distance', n_jobs=-1)\n",
        "knn.fit(x_train_vector, y_train)\n",
        "y_pred_knn = knn.predict(x_test_vector)"
      ]
    },
    {
      "cell_type": "markdown",
      "metadata": {
        "id": "VFovve_stFuW"
      },
      "source": [
        "### Model evaluation"
      ]
    },
    {
      "cell_type": "code",
      "execution_count": null,
      "metadata": {
        "colab": {
          "base_uri": "https://localhost:8080/"
        },
        "id": "AVgt0P_LtOKD",
        "outputId": "5c879603-a99e-4d66-a982-55d9f599d9ef"
      },
      "outputs": [
        {
          "output_type": "stream",
          "name": "stdout",
          "text": [
            "              precision    recall  f1-score   support\n",
            "\n",
            "           0       0.81      0.83      0.82      1000\n",
            "           1       0.99      0.97      0.98      1000\n",
            "           2       0.75      0.80      0.77      1000\n",
            "           3       0.90      0.87      0.89      1000\n",
            "           4       0.79      0.77      0.78      1000\n",
            "           5       1.00      0.83      0.91      1000\n",
            "           6       0.63      0.63      0.63      1000\n",
            "           7       0.89      0.96      0.92      1000\n",
            "           8       0.98      0.96      0.97      1000\n",
            "           9       0.90      0.97      0.93      1000\n",
            "\n",
            "    accuracy                           0.86     10000\n",
            "   macro avg       0.86      0.86      0.86     10000\n",
            "weighted avg       0.86      0.86      0.86     10000\n",
            "\n",
            "\n",
            "\n",
            "Accuracy Score = 0.8597\n",
            "Precision Score = 0.862625227284344\n",
            "Recall Score = 0.8597\n",
            "F1 Score = 0.8599842913135268\n"
          ]
        }
      ],
      "source": [
        "# evaluate the model\n",
        "print(metrics.classification_report(y_test, y_pred_knn))\n",
        "print('\\n')\n",
        "print(f'Accuracy Score = {metrics.accuracy_score(y_test, y_pred_knn)}')\n",
        "print(f'Precision Score = {metrics.precision_score(y_test, y_pred_knn, average=\"weighted\")}')\n",
        "print(f'Recall Score = {metrics.recall_score(y_test, y_pred_knn, average=\"weighted\")}')\n",
        "print(f'F1 Score = {metrics.f1_score(y_test, y_pred_knn, average=\"weighted\")}')"
      ]
    },
    {
      "cell_type": "markdown",
      "metadata": {
        "id": "vkUmIy4Q20XA"
      },
      "source": [
        "## Logistics Regression Model"
      ]
    },
    {
      "cell_type": "code",
      "execution_count": null,
      "metadata": {
        "colab": {
          "base_uri": "https://localhost:8080/"
        },
        "id": "uEyFMSKA294K",
        "outputId": "00812076-3384-4fda-9c1a-0ae2f531a120"
      },
      "outputs": [
        {
          "output_type": "stream",
          "name": "stderr",
          "text": [
            "/usr/local/lib/python3.7/dist-packages/sklearn/linear_model/_logistic.py:818: ConvergenceWarning: lbfgs failed to converge (status=1):\n",
            "STOP: TOTAL NO. of ITERATIONS REACHED LIMIT.\n",
            "\n",
            "Increase the number of iterations (max_iter) or scale the data as shown in:\n",
            "    https://scikit-learn.org/stable/modules/preprocessing.html\n",
            "Please also refer to the documentation for alternative solver options:\n",
            "    https://scikit-learn.org/stable/modules/linear_model.html#logistic-regression\n",
            "  extra_warning_msg=_LOGISTIC_SOLVER_CONVERGENCE_MSG,\n"
          ]
        }
      ],
      "source": [
        "log_reg = linear_model.LogisticRegression(multi_class=\"multinomial\", solver=\"lbfgs\", C=10, random_state=42)\n",
        "log_reg.fit(x_train_vector, y_train)\n",
        "y_pred_logReg = log_reg.predict(x_test_vector)"
      ]
    },
    {
      "cell_type": "markdown",
      "metadata": {
        "id": "-DIf3Nb63ATw"
      },
      "source": [
        "### Model Evaluation"
      ]
    },
    {
      "cell_type": "code",
      "execution_count": null,
      "metadata": {
        "colab": {
          "base_uri": "https://localhost:8080/"
        },
        "id": "qHq9WQ_Y3E60",
        "outputId": "feaadfb5-fdce-4f9a-9be5-cc617f7ce8f0"
      },
      "outputs": [
        {
          "output_type": "stream",
          "name": "stdout",
          "text": [
            "              precision    recall  f1-score   support\n",
            "\n",
            "           0       0.80      0.81      0.81      1000\n",
            "           1       0.97      0.96      0.97      1000\n",
            "           2       0.73      0.74      0.73      1000\n",
            "           3       0.83      0.87      0.85      1000\n",
            "           4       0.73      0.76      0.75      1000\n",
            "           5       0.94      0.93      0.93      1000\n",
            "           6       0.63      0.56      0.59      1000\n",
            "           7       0.90      0.94      0.92      1000\n",
            "           8       0.94      0.94      0.94      1000\n",
            "           9       0.95      0.94      0.94      1000\n",
            "\n",
            "    accuracy                           0.84     10000\n",
            "   macro avg       0.84      0.84      0.84     10000\n",
            "weighted avg       0.84      0.84      0.84     10000\n",
            "\n",
            "\n",
            "\n",
            "Accuracy Score = 0.8444\n",
            "Precision Score = 0.842868165144033\n",
            "Recall Score = 0.8444\n",
            "F1 Score = 0.8433225878515057\n"
          ]
        }
      ],
      "source": [
        "print(metrics.classification_report(y_test, y_pred_logReg))\n",
        "print('\\n')\n",
        "print(f'Accuracy Score = {metrics.accuracy_score(y_test, y_pred_logReg)}')\n",
        "print(f'Precision Score = {metrics.precision_score(y_test, y_pred_logReg, average=\"weighted\")}')\n",
        "print(f'Recall Score = {metrics.recall_score(y_test, y_pred_logReg, average=\"weighted\")}')\n",
        "print(f'F1 Score = {metrics.f1_score(y_test, y_pred_logReg, average=\"weighted\")}')"
      ]
    },
    {
      "cell_type": "markdown",
      "metadata": {
        "id": "5G89sV533GQW"
      },
      "source": [
        "## Support Vector Machine Model"
      ]
    },
    {
      "cell_type": "code",
      "execution_count": null,
      "metadata": {
        "id": "qaIoUOLJ3LeM"
      },
      "outputs": [],
      "source": [
        "svc = svm.SVC(kernel='rbf')\n",
        "svc.fit(x_train_vector, y_train)\n",
        "y_pred_svc = svc.predict(x_test_vector)"
      ]
    },
    {
      "cell_type": "markdown",
      "metadata": {
        "id": "-EpyH3Up3MWX"
      },
      "source": [
        "### Model Evaluation "
      ]
    },
    {
      "cell_type": "code",
      "execution_count": null,
      "metadata": {
        "colab": {
          "base_uri": "https://localhost:8080/"
        },
        "id": "LbxjFIQU3O_F",
        "outputId": "f13fa416-714c-42e2-bd77-c76f588e677a"
      },
      "outputs": [
        {
          "output_type": "stream",
          "name": "stdout",
          "text": [
            "              precision    recall  f1-score   support\n",
            "\n",
            "           0       0.83      0.86      0.84      1000\n",
            "           1       0.99      0.96      0.98      1000\n",
            "           2       0.79      0.82      0.80      1000\n",
            "           3       0.87      0.89      0.88      1000\n",
            "           4       0.81      0.81      0.81      1000\n",
            "           5       0.96      0.95      0.96      1000\n",
            "           6       0.72      0.65      0.69      1000\n",
            "           7       0.93      0.95      0.94      1000\n",
            "           8       0.97      0.98      0.97      1000\n",
            "           9       0.96      0.95      0.96      1000\n",
            "\n",
            "    accuracy                           0.88     10000\n",
            "   macro avg       0.88      0.88      0.88     10000\n",
            "weighted avg       0.88      0.88      0.88     10000\n",
            "\n",
            "\n",
            "\n",
            "Accuracy Score = 0.8828\n",
            "Precision Score = 0.882309111843896\n",
            "Recall Score = 0.8828\n",
            "F1 Score = 0.8822648793630384\n"
          ]
        }
      ],
      "source": [
        "print(metrics.classification_report(y_test, y_pred_svc))\n",
        "print('\\n')\n",
        "print(f'Accuracy Score = {metrics.accuracy_score(y_test, y_pred_svc)}')\n",
        "print(f'Precision Score = {metrics.precision_score(y_test, y_pred_svc, average=\"weighted\")}')\n",
        "print(f'Recall Score = {metrics.recall_score(y_test, y_pred_svc, average=\"weighted\")}')\n",
        "print(f'F1 Score = {metrics.f1_score(y_test, y_pred_svc, average=\"weighted\")}')"
      ]
    },
    {
      "cell_type": "markdown",
      "metadata": {
        "id": "afP5LTOy3Qag"
      },
      "source": [
        "## Decision Tree Model"
      ]
    },
    {
      "cell_type": "code",
      "execution_count": null,
      "metadata": {
        "id": "WNcqnReq3WRL"
      },
      "outputs": [],
      "source": [
        "dcs_tree = tree.DecisionTreeClassifier(random_state=42)\n",
        "dcs_tree.fit(x_train_vector, y_train)\n",
        "y_pred_dcsTree = dcs_tree.predict(x_test_vector)"
      ]
    },
    {
      "cell_type": "markdown",
      "metadata": {
        "id": "JhxdZvOd3ZU_"
      },
      "source": [
        "### Model Evaluation "
      ]
    },
    {
      "cell_type": "code",
      "execution_count": null,
      "metadata": {
        "colab": {
          "base_uri": "https://localhost:8080/"
        },
        "id": "r8o9puXH3cEt",
        "outputId": "1da99e01-73c4-4c2a-bdc1-cdbce5770df2"
      },
      "outputs": [
        {
          "output_type": "stream",
          "name": "stdout",
          "text": [
            "              precision    recall  f1-score   support\n",
            "\n",
            "           0       0.76      0.73      0.74      1000\n",
            "           1       0.96      0.95      0.95      1000\n",
            "           2       0.63      0.65      0.64      1000\n",
            "           3       0.82      0.79      0.80      1000\n",
            "           4       0.64      0.63      0.64      1000\n",
            "           5       0.90      0.89      0.89      1000\n",
            "           6       0.52      0.55      0.53      1000\n",
            "           7       0.87      0.88      0.88      1000\n",
            "           8       0.91      0.91      0.91      1000\n",
            "           9       0.90      0.91      0.91      1000\n",
            "\n",
            "    accuracy                           0.79     10000\n",
            "   macro avg       0.79      0.79      0.79     10000\n",
            "weighted avg       0.79      0.79      0.79     10000\n",
            "\n",
            "\n",
            "\n",
            "Accuracy Score = 0.7888\n",
            "Precision Score = 0.7907944419130593\n",
            "Recall Score = 0.7888\n",
            "F1 Score = 0.7896654287555152\n"
          ]
        }
      ],
      "source": [
        "print(metrics.classification_report(y_test, y_pred_dcsTree))\n",
        "print('\\n')\n",
        "print(f'Accuracy Score = {metrics.accuracy_score(y_test, y_pred_dcsTree)}')\n",
        "print(f'Precision Score = {metrics.precision_score(y_test, y_pred_dcsTree, average=\"weighted\")}')\n",
        "print(f'Recall Score = {metrics.recall_score(y_test, y_pred_dcsTree, average=\"weighted\")}')\n",
        "print(f'F1 Score = {metrics.f1_score(y_test, y_pred_dcsTree, average=\"weighted\")}')"
      ]
    },
    {
      "cell_type": "markdown",
      "metadata": {
        "id": "8KOFk1jQ3dBg"
      },
      "source": [
        "## Random Forest Model"
      ]
    },
    {
      "cell_type": "code",
      "execution_count": null,
      "metadata": {
        "id": "C3eIBvEf3jRZ"
      },
      "outputs": [],
      "source": [
        "rndF = ensemble.RandomForestClassifier(n_estimators=100, max_depth=50, random_state=42)\n",
        "rndF.fit(x_train_vector, y_train)\n",
        "y_pred_rndF = rndF.predict(x_test_vector)"
      ]
    },
    {
      "cell_type": "markdown",
      "metadata": {
        "id": "T_juR9eh3j_D"
      },
      "source": [
        "### Model Evaluation "
      ]
    },
    {
      "cell_type": "code",
      "execution_count": null,
      "metadata": {
        "colab": {
          "base_uri": "https://localhost:8080/"
        },
        "id": "GthwQAt-3n3C",
        "outputId": "d7f4e6e7-d7ca-421e-d3da-90fa1d180e78"
      },
      "outputs": [
        {
          "output_type": "stream",
          "name": "stdout",
          "text": [
            "              precision    recall  f1-score   support\n",
            "\n",
            "           0       0.82      0.86      0.84      1000\n",
            "           1       0.99      0.96      0.98      1000\n",
            "           2       0.77      0.81      0.79      1000\n",
            "           3       0.88      0.90      0.89      1000\n",
            "           4       0.77      0.82      0.80      1000\n",
            "           5       0.98      0.96      0.97      1000\n",
            "           6       0.71      0.58      0.64      1000\n",
            "           7       0.93      0.95      0.94      1000\n",
            "           8       0.96      0.97      0.97      1000\n",
            "           9       0.95      0.94      0.95      1000\n",
            "\n",
            "    accuracy                           0.88     10000\n",
            "   macro avg       0.88      0.88      0.87     10000\n",
            "weighted avg       0.88      0.88      0.87     10000\n",
            "\n",
            "\n",
            "\n",
            "Accuracy Score = 0.8764\n",
            "Precision Score = 0.8752371479336912\n",
            "Recall Score = 0.8764\n",
            "F1 Score = 0.8748940960944325\n"
          ]
        }
      ],
      "source": [
        "print(metrics.classification_report(y_test, y_pred_rndF))\n",
        "print('\\n')\n",
        "print(f'Accuracy Score = {metrics.accuracy_score(y_test, y_pred_rndF)}')\n",
        "print(f'Precision Score = {metrics.precision_score(y_test, y_pred_rndF, average=\"weighted\")}')\n",
        "print(f'Recall Score = {metrics.recall_score(y_test, y_pred_rndF, average=\"weighted\")}')\n",
        "print(f'F1 Score = {metrics.f1_score(y_test, y_pred_rndF, average=\"weighted\")}')"
      ]
    },
    {
      "cell_type": "markdown",
      "metadata": {
        "id": "0hzDC4LD3pw3"
      },
      "source": [
        "## DNN Model"
      ]
    },
    {
      "cell_type": "markdown",
      "metadata": {
        "id": "u2AcWDCgje3O"
      },
      "source": [
        "### Sequential"
      ]
    },
    {
      "cell_type": "code",
      "execution_count": null,
      "metadata": {
        "id": "nb_wR4YE3yfw",
        "colab": {
          "base_uri": "https://localhost:8080/"
        },
        "outputId": "af6bc80e-a73b-473f-d3ad-4492a2d8c3b3"
      },
      "outputs": [
        {
          "output_type": "stream",
          "name": "stdout",
          "text": [
            "Model: \"sequential\"\n",
            "_________________________________________________________________\n",
            " Layer (type)                Output Shape              Param #   \n",
            "=================================================================\n",
            " dense_01 (Dense)            (None, 256)               200960    \n",
            "                                                                 \n",
            " dropout (Dropout)           (None, 256)               0         \n",
            "                                                                 \n",
            " dense_02 (Dense)            (None, 256)               65792     \n",
            "                                                                 \n",
            " dropout_1 (Dropout)         (None, 256)               0         \n",
            "                                                                 \n",
            " dense_03 (Dense)            (None, 256)               65792     \n",
            "                                                                 \n",
            " dropout_2 (Dropout)         (None, 256)               0         \n",
            "                                                                 \n",
            " output (Dense)              (None, 10)                2570      \n",
            "                                                                 \n",
            "=================================================================\n",
            "Total params: 335,114\n",
            "Trainable params: 335,114\n",
            "Non-trainable params: 0\n",
            "_________________________________________________________________\n",
            "None\n"
          ]
        }
      ],
      "source": [
        "tf.keras.backend.clear_session()\n",
        "model_sequential = tf.keras.Sequential(\n",
        "    [\n",
        "     tf.keras.layers.Input(shape=(784), name= 'input_Layer'),\n",
        "     tf.keras.layers.Dense(units= 256, activation= tf.nn.relu, kernel_initializer= tf.initializers.HeUniform(seed = 42), name='dense_01'),\n",
        "     tf.keras.layers.Dropout(rate=0.4),\n",
        "     tf.keras.layers.Dense(units= 256, activation= tf.nn.relu, kernel_initializer= tf.initializers.HeUniform(seed = 42), name='dense_02'),\n",
        "     tf.keras.layers.Dropout(rate=0.3),\n",
        "     tf.keras.layers.Dense(units= 256, activation= tf.nn.relu, kernel_initializer= tf.initializers.HeUniform(seed = 42), name='dense_03'),\n",
        "     tf.keras.layers.Dropout(rate=0.25),\n",
        "     tf.keras.layers.Dense(units=10, activation= tf.nn.softmax, name= 'output')\n",
        "    ]\n",
        ")\n",
        "print(model_sequential.summary())"
      ]
    },
    {
      "cell_type": "markdown",
      "metadata": {
        "id": "P20nLChPj6Tz"
      },
      "source": [
        "#### Model Training"
      ]
    },
    {
      "cell_type": "code",
      "execution_count": null,
      "metadata": {
        "id": "YQZ0R_f7j5Tx"
      },
      "outputs": [],
      "source": [
        "model_sequential.compile(optimizer=tf.optimizers.Adam(), loss= tf.losses.CategoricalCrossentropy(), metrics=['acc'])"
      ]
    },
    {
      "cell_type": "code",
      "source": [
        "model_sequential.fit(x_train_vector, y_train_hot, epochs=10, validation_data=(x_test_vector, y_test_hot))"
      ],
      "metadata": {
        "colab": {
          "base_uri": "https://localhost:8080/"
        },
        "id": "lxGX42vY9InX",
        "outputId": "c6fd95be-abf3-402c-dc49-481c3398a1b8"
      },
      "execution_count": null,
      "outputs": [
        {
          "output_type": "stream",
          "name": "stdout",
          "text": [
            "Epoch 1/10\n",
            "1875/1875 [==============================] - 11s 5ms/step - loss: 0.6489 - acc: 0.7650 - val_loss: 0.4686 - val_acc: 0.8266\n",
            "Epoch 2/10\n",
            "1875/1875 [==============================] - 10s 5ms/step - loss: 0.4888 - acc: 0.8231 - val_loss: 0.4161 - val_acc: 0.8461\n",
            "Epoch 3/10\n",
            "1875/1875 [==============================] - 10s 6ms/step - loss: 0.4496 - acc: 0.8385 - val_loss: 0.4111 - val_acc: 0.8487\n",
            "Epoch 4/10\n",
            "1875/1875 [==============================] - 10s 5ms/step - loss: 0.4321 - acc: 0.8453 - val_loss: 0.3955 - val_acc: 0.8616\n",
            "Epoch 5/10\n",
            "1875/1875 [==============================] - 10s 5ms/step - loss: 0.4177 - acc: 0.8500 - val_loss: 0.3724 - val_acc: 0.8649\n",
            "Epoch 6/10\n",
            "1875/1875 [==============================] - 10s 5ms/step - loss: 0.4047 - acc: 0.8532 - val_loss: 0.3824 - val_acc: 0.8606\n",
            "Epoch 7/10\n",
            "1875/1875 [==============================] - 10s 5ms/step - loss: 0.3955 - acc: 0.8585 - val_loss: 0.3760 - val_acc: 0.8659\n",
            "Epoch 8/10\n",
            "1875/1875 [==============================] - 10s 5ms/step - loss: 0.3849 - acc: 0.8595 - val_loss: 0.3735 - val_acc: 0.8612\n",
            "Epoch 9/10\n",
            "1875/1875 [==============================] - 10s 5ms/step - loss: 0.3803 - acc: 0.8619 - val_loss: 0.3626 - val_acc: 0.8696\n",
            "Epoch 10/10\n",
            "1875/1875 [==============================] - 10s 5ms/step - loss: 0.3757 - acc: 0.8624 - val_loss: 0.3703 - val_acc: 0.8689\n"
          ]
        },
        {
          "output_type": "execute_result",
          "data": {
            "text/plain": [
              "<keras.callbacks.History at 0x7f9ef7d6e310>"
            ]
          },
          "metadata": {},
          "execution_count": 23
        }
      ]
    },
    {
      "cell_type": "code",
      "source": [
        "pd.DataFrame(model_sequential.history.history).plot()"
      ],
      "metadata": {
        "colab": {
          "base_uri": "https://localhost:8080/",
          "height": 283
        },
        "id": "S2Bd9dlky_DA",
        "outputId": "63448291-0688-4a61-9b3a-0f8cb23406da"
      },
      "execution_count": null,
      "outputs": [
        {
          "output_type": "execute_result",
          "data": {
            "text/plain": [
              "<matplotlib.axes._subplots.AxesSubplot at 0x7f9ef6d70410>"
            ]
          },
          "metadata": {},
          "execution_count": 24
        },
        {
          "output_type": "display_data",
          "data": {
            "image/png": "[encoded data removed]",
            "text/plain": [
              "<Figure size 432x288 with 1 Axes>"
            ]
          },
          "metadata": {
            "needs_background": "light"
          }
        }
      ]
    },
    {
      "cell_type": "markdown",
      "source": [
        "#### Model Evaluation"
      ],
      "metadata": {
        "id": "j5XCTS1dalhY"
      }
    },
    {
      "cell_type": "code",
      "source": [
        "pred_seqModel = model_sequential.predict(x_test_vector)\n",
        "pred_seqModel = np.argmax(pred_seqModel,axis=-1)\n",
        "print(metrics.classification_report(y_test, pred_seqModel))"
      ],
      "metadata": {
        "colab": {
          "base_uri": "https://localhost:8080/"
        },
        "id": "-iABCo5WYH9g",
        "outputId": "59c54045-29cd-4743-c51a-be34347363e3"
      },
      "execution_count": null,
      "outputs": [
        {
          "output_type": "stream",
          "name": "stdout",
          "text": [
            "              precision    recall  f1-score   support\n",
            "\n",
            "           0       0.77      0.88      0.82      1000\n",
            "           1       0.99      0.96      0.98      1000\n",
            "           2       0.80      0.72      0.75      1000\n",
            "           3       0.89      0.89      0.89      1000\n",
            "           4       0.72      0.85      0.78      1000\n",
            "           5       0.98      0.95      0.96      1000\n",
            "           6       0.70      0.56      0.63      1000\n",
            "           7       0.94      0.94      0.94      1000\n",
            "           8       0.97      0.97      0.97      1000\n",
            "           9       0.93      0.96      0.95      1000\n",
            "\n",
            "    accuracy                           0.87     10000\n",
            "   macro avg       0.87      0.87      0.87     10000\n",
            "weighted avg       0.87      0.87      0.87     10000\n",
            "\n"
          ]
        }
      ]
    },
    {
      "cell_type": "code",
      "source": [
        "print(f'Accuracy Score = {metrics.accuracy_score(y_test, pred_seqModel)}')\n",
        "print(f'Precision Score = {metrics.precision_score(y_test, pred_seqModel, average=\"weighted\")}')\n",
        "print(f'Recall Score = {metrics.recall_score(y_test, pred_seqModel, average=\"weighted\")}')\n",
        "print(f'F1 Score = {metrics.f1_score(y_test, pred_seqModel, average=\"weighted\")}')"
      ],
      "metadata": {
        "colab": {
          "base_uri": "https://localhost:8080/"
        },
        "id": "Pk0AFcW_gWR-",
        "outputId": "2ca95cb7-3d0e-44e4-bd21-e77f647f7643"
      },
      "execution_count": null,
      "outputs": [
        {
          "output_type": "stream",
          "name": "stdout",
          "text": [
            "Accuracy Score = 0.8689\n",
            "Precision Score = 0.8694478818608142\n",
            "Recall Score = 0.8689\n",
            "F1 Score = 0.8672024346482711\n"
          ]
        }
      ]
    },
    {
      "cell_type": "markdown",
      "metadata": {
        "id": "-6a54PX7jnh6"
      },
      "source": [
        "### Subclassing"
      ]
    },
    {
      "cell_type": "code",
      "execution_count": null,
      "metadata": {
        "id": "wxcQYNi1jrG0",
        "colab": {
          "base_uri": "https://localhost:8080/"
        },
        "outputId": "8590b3bf-1a97-4008-a65b-ac1b7a01e043"
      },
      "outputs": [
        {
          "output_type": "stream",
          "name": "stdout",
          "text": [
            "Model: \"model\"\n",
            "_________________________________________________________________\n",
            " Layer (type)                Output Shape              Param #   \n",
            "=================================================================\n",
            " input_1 (InputLayer)        [(None, 784)]             0         \n",
            "                                                                 \n",
            " block_1 (DNN_Block)         (None, 256)               533248    \n",
            "                                                                 \n",
            " block_2 (DNN_Block)         (None, 512)               197376    \n",
            "                                                                 \n",
            " out (Dense)                 (None, 10)                5130      \n",
            "                                                                 \n",
            " tf.nn.softmax (TFOpLambda)  (None, 10)                0         \n",
            "                                                                 \n",
            "=================================================================\n",
            "Total params: 735,754\n",
            "Trainable params: 735,754\n",
            "Non-trainable params: 0\n",
            "_________________________________________________________________\n",
            "None\n"
          ]
        }
      ],
      "source": [
        "tf.keras.backend.clear_session()\n",
        "class DNN_Block(tf.keras.layers.Layer):\n",
        "    def __init__(self, units_list = [], dropout_rate_list=[], **kwargs):\n",
        "        super(DNN_Block, self).__init__(**kwargs)\n",
        "        \n",
        "        self.dense_1 = tf.keras.layers.Dense(units=units_list[0], kernel_initializer= tf.initializers.he_uniform())\n",
        "        self.dropout_1 = tf.keras.layers.Dropout(rate=dropout_rate_list[0], seed=42)\n",
        "        \n",
        "        self.dense_2 = tf.keras.layers.Dense(units=units_list[1], kernel_initializer= tf.initializers.he_uniform())\n",
        "        self.dropout_2 = tf.keras.layers.Dropout(rate=dropout_rate_list[1], seed=42)\n",
        "\n",
        "    def call(self, inputs):\n",
        "        \n",
        "        x = tf.nn.relu(self.dense_1(inputs))\n",
        "        x = self.dropout_1(x)\n",
        "        \n",
        "        x = tf.nn.relu(self.dense_2(x))\n",
        "        x = self.dropout_2(x)\n",
        "        # concatenating the result of dropout_2 with inputs causes high overfitting for DNN model\n",
        "        return x\n",
        "\n",
        "\n",
        "class DNN_Model(tf.keras.Model):\n",
        "    def __init__(self):\n",
        "        super(DNN_Model, self).__init__()\n",
        "\n",
        "        self.block_1 = DNN_Block(units_list=[512,256], dropout_rate_list=[0.35,0.25], name='block_1')\n",
        "        self.block_2 = DNN_Block(units_list=[256,512], dropout_rate_list=[0.25,0.25], name='block_2')\n",
        "\n",
        "        self.out = tf.keras.layers.Dense(10, name='out')\n",
        "\n",
        "    def call(self, x):\n",
        "        x = self.block_1(x)\n",
        "        x = self.block_2(x)\n",
        "        \n",
        "        x = tf.nn.softmax(self.out(x))\n",
        "       \n",
        "        return x\n",
        "\n",
        "    def build_model(self):\n",
        "        x = tf.keras.layers.Input((784))\n",
        "        return tf.keras.Model(inputs = [x], outputs = [self.call(x)])\n",
        "\n",
        "\n",
        "dnn_model = DNN_Model()\n",
        "print(dnn_model.build_model().summary())"
      ]
    },
    {
      "cell_type": "markdown",
      "metadata": {
        "id": "UnItfjw53zG8"
      },
      "source": [
        "#### Model Training"
      ]
    },
    {
      "cell_type": "code",
      "execution_count": null,
      "metadata": {
        "id": "73gc_Nff34qJ"
      },
      "outputs": [],
      "source": [
        "dnn_model.compile(optimizer=tf.optimizers.Adam(), loss= tf.losses.CategoricalCrossentropy(), metrics=['acc'])"
      ]
    },
    {
      "cell_type": "code",
      "source": [
        "dnn_model.fit(x=x_train_vector, y=y_train_hot, epochs=10, batch_size=32, validation_data=(x_test_vector, y_test_hot))"
      ],
      "metadata": {
        "colab": {
          "base_uri": "https://localhost:8080/"
        },
        "id": "xNvI4pPM24Xq",
        "outputId": "0214d371-b648-4774-8c96-536bc23da889"
      },
      "execution_count": null,
      "outputs": [
        {
          "output_type": "stream",
          "name": "stdout",
          "text": [
            "Epoch 1/10\n",
            "1875/1875 [==============================] - 19s 10ms/step - loss: 0.6414 - acc: 0.7665 - val_loss: 0.5139 - val_acc: 0.8119\n",
            "Epoch 2/10\n",
            "1875/1875 [==============================] - 18s 10ms/step - loss: 0.4860 - acc: 0.8285 - val_loss: 0.4442 - val_acc: 0.8407\n",
            "Epoch 3/10\n",
            "1875/1875 [==============================] - 18s 10ms/step - loss: 0.4501 - acc: 0.8408 - val_loss: 0.3947 - val_acc: 0.8538\n",
            "Epoch 4/10\n",
            "1875/1875 [==============================] - 18s 10ms/step - loss: 0.4277 - acc: 0.8478 - val_loss: 0.3931 - val_acc: 0.8575\n",
            "Epoch 5/10\n",
            "1875/1875 [==============================] - 18s 10ms/step - loss: 0.4137 - acc: 0.8543 - val_loss: 0.3789 - val_acc: 0.8646\n",
            "Epoch 6/10\n",
            "1875/1875 [==============================] - 18s 10ms/step - loss: 0.3980 - acc: 0.8577 - val_loss: 0.3848 - val_acc: 0.8603\n",
            "Epoch 7/10\n",
            "1875/1875 [==============================] - 18s 10ms/step - loss: 0.3913 - acc: 0.8625 - val_loss: 0.3773 - val_acc: 0.8684\n",
            "Epoch 8/10\n",
            "1875/1875 [==============================] - 18s 10ms/step - loss: 0.3868 - acc: 0.8620 - val_loss: 0.3740 - val_acc: 0.8649\n",
            "Epoch 9/10\n",
            "1875/1875 [==============================] - 19s 10ms/step - loss: 0.3782 - acc: 0.8649 - val_loss: 0.3780 - val_acc: 0.8656\n",
            "Epoch 10/10\n",
            "1875/1875 [==============================] - 19s 10ms/step - loss: 0.3738 - acc: 0.8693 - val_loss: 0.3680 - val_acc: 0.8741\n"
          ]
        },
        {
          "output_type": "execute_result",
          "data": {
            "text/plain": [
              "<keras.callbacks.History at 0x7f9ef6a73bd0>"
            ]
          },
          "metadata": {},
          "execution_count": 57
        }
      ]
    },
    {
      "cell_type": "code",
      "source": [
        "pd.DataFrame(dnn_model.history.history).plot()"
      ],
      "metadata": {
        "colab": {
          "base_uri": "https://localhost:8080/",
          "height": 283
        },
        "id": "C__wP5VF39Mx",
        "outputId": "f4f3db20-ab55-49fc-f9cf-a2fa4cd829a1"
      },
      "execution_count": null,
      "outputs": [
        {
          "output_type": "execute_result",
          "data": {
            "text/plain": [
              "<matplotlib.axes._subplots.AxesSubplot at 0x7f9ef83bca50>"
            ]
          },
          "metadata": {},
          "execution_count": 58
        },
        {
          "output_type": "display_data",
          "data": {
            "image/png": "[encoded data removed]",
            "text/plain": [
              "<Figure size 432x288 with 1 Axes>"
            ]
          },
          "metadata": {
            "needs_background": "light"
          }
        }
      ]
    },
    {
      "cell_type": "markdown",
      "source": [
        "#### Model Evaluation"
      ],
      "metadata": {
        "id": "al-R0nrYlu3J"
      }
    },
    {
      "cell_type": "code",
      "source": [
        "pred_subClass = dnn_model.predict(x_test_vector)\n",
        "pred_subClass = np.argmax(pred_subClass,axis=-1)\n",
        "print(metrics.classification_report(y_test, pred_subClass))"
      ],
      "metadata": {
        "colab": {
          "base_uri": "https://localhost:8080/"
        },
        "id": "1Jd3ZyUQ4DTL",
        "outputId": "e3109fe7-2907-4ab5-ef2d-0cbdd3058b49"
      },
      "execution_count": null,
      "outputs": [
        {
          "output_type": "stream",
          "name": "stdout",
          "text": [
            "              precision    recall  f1-score   support\n",
            "\n",
            "           0       0.79      0.84      0.82      1000\n",
            "           1       1.00      0.96      0.98      1000\n",
            "           2       0.80      0.79      0.80      1000\n",
            "           3       0.87      0.89      0.88      1000\n",
            "           4       0.79      0.79      0.79      1000\n",
            "           5       0.98      0.95      0.97      1000\n",
            "           6       0.66      0.64      0.65      1000\n",
            "           7       0.93      0.96      0.95      1000\n",
            "           8       0.98      0.96      0.97      1000\n",
            "           9       0.96      0.95      0.96      1000\n",
            "\n",
            "    accuracy                           0.87     10000\n",
            "   macro avg       0.87      0.87      0.87     10000\n",
            "weighted avg       0.87      0.87      0.87     10000\n",
            "\n"
          ]
        }
      ]
    },
    {
      "cell_type": "code",
      "source": [
        "print(f'Accuracy Score = {metrics.accuracy_score(y_test, pred_subClass)}')\n",
        "print(f'Precision Score = {metrics.precision_score(y_test, pred_subClass, average=\"weighted\")}')\n",
        "print(f'Recall Score = {metrics.recall_score(y_test, pred_subClass, average=\"weighted\")}')\n",
        "print(f'F1 Score = {metrics.f1_score(y_test, pred_subClass, average=\"weighted\")}')"
      ],
      "metadata": {
        "colab": {
          "base_uri": "https://localhost:8080/"
        },
        "id": "harpPwZPiqh7",
        "outputId": "b5e0b331-4c0a-41b5-d871-6dbdbca27cb0"
      },
      "execution_count": null,
      "outputs": [
        {
          "output_type": "stream",
          "name": "stdout",
          "text": [
            "Accuracy Score = 0.8741\n",
            "Precision Score = 0.8746163676281936\n",
            "Recall Score = 0.8741\n",
            "F1 Score = 0.8741663322630627\n"
          ]
        }
      ]
    },
    {
      "cell_type": "markdown",
      "source": [
        "<font size='5' color='magenta'>I tried to keep my models away from overfitting, which is why I couldn't get 90% accuracy.</font>"
      ],
      "metadata": {
        "id": "6yCEEG2moNhk"
      }
    }
  ],
  "metadata": {
    "colab": {
      "collapsed_sections": [],
      "name": "Assignment 04-Zainab Mahmood: ",
      "provenance": [],
      "toc_visible": true,
      "include_colab_link": true
    },
    "kernelspec": {
      "display_name": "Python 3",
      "name": "python3"
    },
    "language_info": {
      "name": "python"
    }
  },
  "nbformat": 4,
  "nbformat_minor": 0
}