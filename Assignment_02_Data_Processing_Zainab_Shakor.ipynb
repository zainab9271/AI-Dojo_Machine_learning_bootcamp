{
  "nbformat": 4,
  "nbformat_minor": 0,
  "metadata": {
    "colab": {
      "name": "Assignment 02: Data Processing - Zainab Shakor.ipynb",
      "provenance": [],
      "collapsed_sections": [],
      "include_colab_link": true
    },
    "kernelspec": {
      "name": "python3",
      "display_name": "Python 3"
    },
    "language_info": {
      "name": "python"
    }
  },
  "cells": [
    {
      "cell_type": "markdown",
      "metadata": {
        "id": "view-in-github",
        "colab_type": "text"
      },
      "source": [
        "<a href=\"https://colab.research.google.com/github/zainab9271/AI-Dojo_Machine_learning_bootcamp/blob/main/Assignment_02_Data_Processing_Zainab_Shakor.ipynb\" target=\"_parent\"><img src=\"https://colab.research.google.com/assets/colab-badge.svg\" alt=\"Open In Colab\"/></a>"
      ]
    },
    {
      "cell_type": "markdown",
      "source": [
        "# Assignment 02: Data Processing \n",
        "\n",
        "This week's assignment is to prepare a dataset for a machine learning algorithm that can accurately identify wines types.  \n",
        "\n",
        "**Before starting copy this file and work on your own copy by going to File > Save Copy in Drive. Then add your name to the file (e.g., Assignment 02: Data Processing - Muntadher Alkaabi)**\n",
        "\n",
        "**Note: the submission deadline is : 1/27/2022 at 3:00 PM**\n",
        "\n",
        "\n",
        "Requirements:\n",
        "\n",
        "1.   Read CSV file into a DataFrame.\n",
        "2.   Print the `describe` and `info` of the DataFrame.\n",
        "3.   Drop the columns (Unnamed, designation, Region_2, Taster_name, Taster_twitter_handle, Title, and Province).\n",
        "4. Fill in the missing values in `price` using the mean value of each column and in `point` using the median value of each column.\n",
        "5. Drop the rows that have missing values in the following columns (description, region_1, variety, country, winery)\n",
        "6. Convert the text to integer vector in column  `description`\n",
        "7. Convert text values to numerical values in (Country, Region_1, Variety, Winery).\n",
        "8. Split the data into inputs/features (x) and output/target ( y ).\n",
        "9. Print the `describe` and `info` of the dataset.\n",
        "10. Plot the `histogram` for x and set the size of the plots to (10,10).\n",
        "11. Save the modified DataFrame to a CSV file.\n",
        "\n",
        "\n",
        "Dataset download [link](https://drive.google.com/file/d/1LQAW9gQwIdwd3NXpqFAEEyamyU6kNrpF/view?usp=sharing).\n",
        "\n",
        "\n",
        "\n",
        "Upload your notebook file [here](https://forms.gle/PBDgHkJeb7mQZaXm7).​​​​​​​\n",
        "\n",
        "Good luck and feel free to ask any questions on our Teams channels.\n"
      ],
      "metadata": {
        "id": "5k-6yqzM-t8O"
      }
    },
    {
      "cell_type": "markdown",
      "metadata": {
        "id": "YbV_a0yFWvhJ"
      },
      "source": [
        "# Import Python Libraries "
      ]
    },
    {
      "cell_type": "code",
      "metadata": {
        "id": "mBkNuIX6w8Ii"
      },
      "source": [
        "import pandas as pd\n",
        "import numpy as np\n",
        "import matplotlib.pyplot as plt"
      ],
      "execution_count": null,
      "outputs": []
    },
    {
      "cell_type": "markdown",
      "metadata": {
        "id": "rBUESTXrb9zT"
      },
      "source": [
        "# 1- Read CSV file"
      ]
    },
    {
      "cell_type": "code",
      "source": [
        "# Downlowd the dataset \n",
        "!wget -O winemag-data-assignment-02.csv 'https://drive.google.com/u/0/uc?id=1LQAW9gQwIdwd3NXpqFAEEyamyU6kNrpF&export=download'"
      ],
      "metadata": {
        "colab": {
          "base_uri": "https://localhost:8080/"
        },
        "id": "gSLrgyt9JyNR",
        "outputId": "9487b4a0-15dc-4b3d-9ade-6df8777ff60d"
      },
      "execution_count": null,
      "outputs": [
        {
          "output_type": "stream",
          "name": "stdout",
          "text": [
            "--2022-02-01 12:09:03--  https://drive.google.com/u/0/uc?id=1LQAW9gQwIdwd3NXpqFAEEyamyU6kNrpF&export=download\n",
            "Resolving drive.google.com (drive.google.com)... 172.217.193.101, 172.217.193.100, 172.217.193.138, ...\n",
            "Connecting to drive.google.com (drive.google.com)|172.217.193.101|:443... connected.\n",
            "HTTP request sent, awaiting response... 302 Moved Temporarily\n",
            "Location: https://doc-0k-1o-docs.googleusercontent.com/docs/securesc/ha0ro937gcuc7l7deffksulhg5h7mbp1/i27hb53n747bm8n57uggkmvlov11jipe/1643717325000/12354821778029633344/*/1LQAW9gQwIdwd3NXpqFAEEyamyU6kNrpF?e=download [following]\n",
            "Warning: wildcards not supported in HTTP.\n",
            "--2022-02-01 12:09:05--  https://doc-0k-1o-docs.googleusercontent.com/docs/securesc/ha0ro937gcuc7l7deffksulhg5h7mbp1/i27hb53n747bm8n57uggkmvlov11jipe/1643717325000/12354821778029633344/*/1LQAW9gQwIdwd3NXpqFAEEyamyU6kNrpF?e=download\n",
            "Resolving doc-0k-1o-docs.googleusercontent.com (doc-0k-1o-docs.googleusercontent.com)... 108.177.11.132, 2607:f8b0:400c:c01::84\n",
            "Connecting to doc-0k-1o-docs.googleusercontent.com (doc-0k-1o-docs.googleusercontent.com)|108.177.11.132|:443... connected.\n",
            "HTTP request sent, awaiting response... 200 OK\n",
            "Length: 2457918 (2.3M) [text/csv]\n",
            "Saving to: ‘winemag-data-assignment-02.csv’\n",
            "\n",
            "winemag-data-assign 100%[===================>]   2.34M  --.-KB/s    in 0.03s   \n",
            "\n",
            "2022-02-01 12:09:05 (73.7 MB/s) - ‘winemag-data-assignment-02.csv’ saved [2457918/2457918]\n",
            "\n"
          ]
        }
      ]
    },
    {
      "cell_type": "code",
      "metadata": {
        "id": "p3p0fhtcx_a0",
        "colab": {
          "base_uri": "https://localhost:8080/",
          "height": 936
        },
        "outputId": "b1f26c89-8d72-473b-cfb1-a737050203fd"
      },
      "source": [
        "# Read the csv file \n",
        "df = pd.read_csv('/content/winemag-data-assignment-02.csv')\n",
        "df "
      ],
      "execution_count": null,
      "outputs": [
        {
          "output_type": "execute_result",
          "data": {
            "text/html": [
              "\n",
              "  <div id=\"df-4a6442c4-d24f-4636-afb5-721181e2aca2\">\n",
              "    <div class=\"colab-df-container\">\n",
              "      <div>\n",
              "<style scoped>\n",
              "    .dataframe tbody tr th:only-of-type {\n",
              "        vertical-align: middle;\n",
              "    }\n",
              "\n",
              "    .dataframe tbody tr th {\n",
              "        vertical-align: top;\n",
              "    }\n",
              "\n",
              "    .dataframe thead th {\n",
              "        text-align: right;\n",
              "    }\n",
              "</style>\n",
              "<table border=\"1\" class=\"dataframe\">\n",
              "  <thead>\n",
              "    <tr style=\"text-align: right;\">\n",
              "      <th></th>\n",
              "      <th>Unnamed: 0</th>\n",
              "      <th>country</th>\n",
              "      <th>description</th>\n",
              "      <th>designation</th>\n",
              "      <th>points</th>\n",
              "      <th>price</th>\n",
              "      <th>province</th>\n",
              "      <th>region_1</th>\n",
              "      <th>region_2</th>\n",
              "      <th>taster_name</th>\n",
              "      <th>taster_twitter_handle</th>\n",
              "      <th>title</th>\n",
              "      <th>variety</th>\n",
              "      <th>winery</th>\n",
              "    </tr>\n",
              "  </thead>\n",
              "  <tbody>\n",
              "    <tr>\n",
              "      <th>0</th>\n",
              "      <td>0</td>\n",
              "      <td>Italy</td>\n",
              "      <td>Aromas include tropical fruit, broom, brimston...</td>\n",
              "      <td>Vulkà Bianco</td>\n",
              "      <td>87.0</td>\n",
              "      <td>NaN</td>\n",
              "      <td>Sicily &amp; Sardinia</td>\n",
              "      <td>Etna</td>\n",
              "      <td>NaN</td>\n",
              "      <td>Kerin O’Keefe</td>\n",
              "      <td>@kerinokeefe</td>\n",
              "      <td>Nicosia 2013 Vulkà Bianco  (Etna)</td>\n",
              "      <td>White Blend</td>\n",
              "      <td>Nicosia</td>\n",
              "    </tr>\n",
              "    <tr>\n",
              "      <th>1</th>\n",
              "      <td>1</td>\n",
              "      <td>Portugal</td>\n",
              "      <td>This is ripe and fruity, a wine that is smooth...</td>\n",
              "      <td>Avidagos</td>\n",
              "      <td>87.0</td>\n",
              "      <td>15.0</td>\n",
              "      <td>Douro</td>\n",
              "      <td>NaN</td>\n",
              "      <td>NaN</td>\n",
              "      <td>Roger Voss</td>\n",
              "      <td>@vossroger</td>\n",
              "      <td>Quinta dos Avidagos 2011 Avidagos Red (Douro)</td>\n",
              "      <td>Portuguese Red</td>\n",
              "      <td>Quinta dos Avidagos</td>\n",
              "    </tr>\n",
              "    <tr>\n",
              "      <th>2</th>\n",
              "      <td>2</td>\n",
              "      <td>US</td>\n",
              "      <td>Tart and snappy, the flavors of lime flesh and...</td>\n",
              "      <td>NaN</td>\n",
              "      <td>87.0</td>\n",
              "      <td>14.0</td>\n",
              "      <td>Oregon</td>\n",
              "      <td>Willamette Valley</td>\n",
              "      <td>Willamette Valley</td>\n",
              "      <td>Paul Gregutt</td>\n",
              "      <td>@paulgwine</td>\n",
              "      <td>Rainstorm 2013 Pinot Gris (Willamette Valley)</td>\n",
              "      <td>Pinot Gris</td>\n",
              "      <td>Rainstorm</td>\n",
              "    </tr>\n",
              "    <tr>\n",
              "      <th>3</th>\n",
              "      <td>3</td>\n",
              "      <td>US</td>\n",
              "      <td>Pineapple rind, lemon pith and orange blossom ...</td>\n",
              "      <td>Reserve Late Harvest</td>\n",
              "      <td>87.0</td>\n",
              "      <td>13.0</td>\n",
              "      <td>Michigan</td>\n",
              "      <td>Lake Michigan Shore</td>\n",
              "      <td>NaN</td>\n",
              "      <td>Alexander Peartree</td>\n",
              "      <td>NaN</td>\n",
              "      <td>St. Julian 2013 Reserve Late Harvest Riesling ...</td>\n",
              "      <td>Riesling</td>\n",
              "      <td>St. Julian</td>\n",
              "    </tr>\n",
              "    <tr>\n",
              "      <th>4</th>\n",
              "      <td>4</td>\n",
              "      <td>US</td>\n",
              "      <td>Much like the regular bottling from 2012, this...</td>\n",
              "      <td>Vintner's Reserve Wild Child Block</td>\n",
              "      <td>87.0</td>\n",
              "      <td>65.0</td>\n",
              "      <td>Oregon</td>\n",
              "      <td>Willamette Valley</td>\n",
              "      <td>Willamette Valley</td>\n",
              "      <td>Paul Gregutt</td>\n",
              "      <td>@paulgwine</td>\n",
              "      <td>Sweet Cheeks 2012 Vintner's Reserve Wild Child...</td>\n",
              "      <td>Pinot Noir</td>\n",
              "      <td>Sweet Cheeks</td>\n",
              "    </tr>\n",
              "    <tr>\n",
              "      <th>...</th>\n",
              "      <td>...</td>\n",
              "      <td>...</td>\n",
              "      <td>...</td>\n",
              "      <td>...</td>\n",
              "      <td>...</td>\n",
              "      <td>...</td>\n",
              "      <td>...</td>\n",
              "      <td>...</td>\n",
              "      <td>...</td>\n",
              "      <td>...</td>\n",
              "      <td>...</td>\n",
              "      <td>...</td>\n",
              "      <td>...</td>\n",
              "      <td>...</td>\n",
              "    </tr>\n",
              "    <tr>\n",
              "      <th>6154</th>\n",
              "      <td>6154</td>\n",
              "      <td>Australia</td>\n",
              "      <td>The top Australian Cabernets retain distinct v...</td>\n",
              "      <td>NaN</td>\n",
              "      <td>89.0</td>\n",
              "      <td>32.0</td>\n",
              "      <td>Victoria</td>\n",
              "      <td>Pyrenees</td>\n",
              "      <td>NaN</td>\n",
              "      <td>Joe Czerwinski</td>\n",
              "      <td>@JoeCz</td>\n",
              "      <td>Taltarni 2004 Cabernet Sauvignon (Pyrenees)</td>\n",
              "      <td>Cabernet Sauvignon</td>\n",
              "      <td>Taltarni</td>\n",
              "    </tr>\n",
              "    <tr>\n",
              "      <th>6155</th>\n",
              "      <td>6155</td>\n",
              "      <td>Chile</td>\n",
              "      <td>Really good wine with blasting dark fruit, win...</td>\n",
              "      <td>Kuyen</td>\n",
              "      <td>89.0</td>\n",
              "      <td>30.0</td>\n",
              "      <td>Maipo Valley</td>\n",
              "      <td>NaN</td>\n",
              "      <td>NaN</td>\n",
              "      <td>Michael Schachner</td>\n",
              "      <td>@wineschach</td>\n",
              "      <td>Antiyal 2006 Kuyen Red (Maipo Valley)</td>\n",
              "      <td>Red Blend</td>\n",
              "      <td>Antiyal</td>\n",
              "    </tr>\n",
              "    <tr>\n",
              "      <th>6156</th>\n",
              "      <td>6156</td>\n",
              "      <td>France</td>\n",
              "      <td>Importer Bobby Kacher seemingly has a pipeline...</td>\n",
              "      <td>Cuvée Tradition</td>\n",
              "      <td>89.0</td>\n",
              "      <td>13.0</td>\n",
              "      <td>Rhône Valley</td>\n",
              "      <td>Costières de Nîmes</td>\n",
              "      <td>NaN</td>\n",
              "      <td>Joe Czerwinski</td>\n",
              "      <td>@JoeCz</td>\n",
              "      <td>Mas des Bressades 2008 Cuvée Tradition Rosé (C...</td>\n",
              "      <td>Rosé</td>\n",
              "      <td>Mas des Bressades</td>\n",
              "    </tr>\n",
              "    <tr>\n",
              "      <th>6157</th>\n",
              "      <td>6157</td>\n",
              "      <td>US</td>\n",
              "      <td>With a ruby-crimson color, this sparkling wine...</td>\n",
              "      <td>Rouge</td>\n",
              "      <td>89.0</td>\n",
              "      <td>35.0</td>\n",
              "      <td>California</td>\n",
              "      <td>Napa Valley</td>\n",
              "      <td>Napa</td>\n",
              "      <td>NaN</td>\n",
              "      <td>NaN</td>\n",
              "      <td>Frank Family NV Rouge Sparkling (Napa Valley)</td>\n",
              "      <td>Sparkling Blend</td>\n",
              "      <td>Frank Family</td>\n",
              "    </tr>\n",
              "    <tr>\n",
              "      <th>6158</th>\n",
              "      <td>6158</td>\n",
              "      <td>US</td>\n",
              "      <td>Soft and gentle, this is a Zin to drink right ...</td>\n",
              "      <td>NaN</td>\n",
              "      <td>89.0</td>\n",
              "      <td>25.0</td>\n",
              "      <td>California</td>\n",
              "      <td>Alexander Valley</td>\n",
              "      <td>Sonoma</td>\n",
              "      <td>NaN</td>\n",
              "      <td>NaN</td>\n",
              "      <td>Hobo 2007 Zinfandel (Alexander Valley)</td>\n",
              "      <td>Zinfandel</td>\n",
              "      <td>Hobo</td>\n",
              "    </tr>\n",
              "  </tbody>\n",
              "</table>\n",
              "<p>6159 rows × 14 columns</p>\n",
              "</div>\n",
              "      <button class=\"colab-df-convert\" onclick=\"convertToInteractive('df-4a6442c4-d24f-4636-afb5-721181e2aca2')\"\n",
              "              title=\"Convert this dataframe to an interactive table.\"\n",
              "              style=\"display:none;\">\n",
              "        \n",
              "  <svg xmlns=\"http://www.w3.org/2000/svg\" height=\"24px\"viewBox=\"0 0 24 24\"\n",
              "       width=\"24px\">\n",
              "    <path d=\"M0 0h24v24H0V0z\" fill=\"none\"/>\n",
              "    <path d=\"M18.56 5.44l.94 2.06.94-2.06 2.06-.94-2.06-.94-.94-2.06-.94 2.06-2.06.94zm-11 1L8.5 8.5l.94-2.06 2.06-.94-2.06-.94L8.5 2.5l-.94 2.06-2.06.94zm10 10l.94 2.06.94-2.06 2.06-.94-2.06-.94-.94-2.06-.94 2.06-2.06.94z\"/><path d=\"M17.41 7.96l-1.37-1.37c-.4-.4-.92-.59-1.43-.59-.52 0-1.04.2-1.43.59L10.3 9.45l-7.72 7.72c-.78.78-.78 2.05 0 2.83L4 21.41c.39.39.9.59 1.41.59.51 0 1.02-.2 1.41-.59l7.78-7.78 2.81-2.81c.8-.78.8-2.07 0-2.86zM5.41 20L4 18.59l7.72-7.72 1.47 1.35L5.41 20z\"/>\n",
              "  </svg>\n",
              "      </button>\n",
              "      \n",
              "  <style>\n",
              "    .colab-df-container {\n",
              "      display:flex;\n",
              "      flex-wrap:wrap;\n",
              "      gap: 12px;\n",
              "    }\n",
              "\n",
              "    .colab-df-convert {\n",
              "      background-color: #E8F0FE;\n",
              "      border: none;\n",
              "      border-radius: 50%;\n",
              "      cursor: pointer;\n",
              "      display: none;\n",
              "      fill: #1967D2;\n",
              "      height: 32px;\n",
              "      padding: 0 0 0 0;\n",
              "      width: 32px;\n",
              "    }\n",
              "\n",
              "    .colab-df-convert:hover {\n",
              "      background-color: #E2EBFA;\n",
              "      box-shadow: 0px 1px 2px rgba(60, 64, 67, 0.3), 0px 1px 3px 1px rgba(60, 64, 67, 0.15);\n",
              "      fill: #174EA6;\n",
              "    }\n",
              "\n",
              "    [theme=dark] .colab-df-convert {\n",
              "      background-color: #3B4455;\n",
              "      fill: #D2E3FC;\n",
              "    }\n",
              "\n",
              "    [theme=dark] .colab-df-convert:hover {\n",
              "      background-color: #434B5C;\n",
              "      box-shadow: 0px 1px 3px 1px rgba(0, 0, 0, 0.15);\n",
              "      filter: drop-shadow(0px 1px 2px rgba(0, 0, 0, 0.3));\n",
              "      fill: #FFFFFF;\n",
              "    }\n",
              "  </style>\n",
              "\n",
              "      <script>\n",
              "        const buttonEl =\n",
              "          document.querySelector('#df-4a6442c4-d24f-4636-afb5-721181e2aca2 button.colab-df-convert');\n",
              "        buttonEl.style.display =\n",
              "          google.colab.kernel.accessAllowed ? 'block' : 'none';\n",
              "\n",
              "        async function convertToInteractive(key) {\n",
              "          const element = document.querySelector('#df-4a6442c4-d24f-4636-afb5-721181e2aca2');\n",
              "          const dataTable =\n",
              "            await google.colab.kernel.invokeFunction('convertToInteractive',\n",
              "                                                     [key], {});\n",
              "          if (!dataTable) return;\n",
              "\n",
              "          const docLinkHtml = 'Like what you see? Visit the ' +\n",
              "            '<a target=\"_blank\" href=https://colab.research.google.com/notebooks/data_table.ipynb>data table notebook</a>'\n",
              "            + ' to learn more about interactive tables.';\n",
              "          element.innerHTML = '';\n",
              "          dataTable['output_type'] = 'display_data';\n",
              "          await google.colab.output.renderOutput(dataTable, element);\n",
              "          const docLink = document.createElement('div');\n",
              "          docLink.innerHTML = docLinkHtml;\n",
              "          element.appendChild(docLink);\n",
              "        }\n",
              "      </script>\n",
              "    </div>\n",
              "  </div>\n",
              "  "
            ],
            "text/plain": [
              "      Unnamed: 0    country  ...             variety               winery\n",
              "0              0      Italy  ...         White Blend              Nicosia\n",
              "1              1   Portugal  ...      Portuguese Red  Quinta dos Avidagos\n",
              "2              2         US  ...          Pinot Gris            Rainstorm\n",
              "3              3         US  ...            Riesling           St. Julian\n",
              "4              4         US  ...          Pinot Noir         Sweet Cheeks\n",
              "...          ...        ...  ...                 ...                  ...\n",
              "6154        6154  Australia  ...  Cabernet Sauvignon             Taltarni\n",
              "6155        6155      Chile  ...           Red Blend              Antiyal\n",
              "6156        6156     France  ...                Rosé    Mas des Bressades\n",
              "6157        6157         US  ...     Sparkling Blend         Frank Family\n",
              "6158        6158         US  ...           Zinfandel                 Hobo\n",
              "\n",
              "[6159 rows x 14 columns]"
            ]
          },
          "metadata": {},
          "execution_count": 3
        }
      ]
    },
    {
      "cell_type": "markdown",
      "metadata": {
        "id": "tYlyP4KZcGby"
      },
      "source": [
        "# 2- Print the info of the DataFrame"
      ]
    },
    {
      "cell_type": "code",
      "metadata": {
        "id": "wd-E1Rsx004r",
        "colab": {
          "base_uri": "https://localhost:8080/"
        },
        "outputId": "5d538278-c0f5-45bf-ca0f-e9790a3af92c"
      },
      "source": [
        "# Use the info method to print out the informations of the dataset\n",
        "# Print the info of the DataFrame\n",
        "print(df.info())\n",
        "\n"
      ],
      "execution_count": null,
      "outputs": [
        {
          "output_type": "stream",
          "name": "stdout",
          "text": [
            "<class 'pandas.core.frame.DataFrame'>\n",
            "RangeIndex: 6159 entries, 0 to 6158\n",
            "Data columns (total 14 columns):\n",
            " #   Column                 Non-Null Count  Dtype  \n",
            "---  ------                 --------------  -----  \n",
            " 0   Unnamed: 0             6159 non-null   int64  \n",
            " 1   country                6156 non-null   object \n",
            " 2   description            6159 non-null   object \n",
            " 3   designation            4324 non-null   object \n",
            " 4   points                 6132 non-null   float64\n",
            " 5   price                  5737 non-null   float64\n",
            " 6   province               6156 non-null   object \n",
            " 7   region_1               5176 non-null   object \n",
            " 8   region_2               2423 non-null   object \n",
            " 9   taster_name            4910 non-null   object \n",
            " 10  taster_twitter_handle  4707 non-null   object \n",
            " 11  title                  6159 non-null   object \n",
            " 12  variety                6159 non-null   object \n",
            " 13  winery                 6159 non-null   object \n",
            "dtypes: float64(2), int64(1), object(11)\n",
            "memory usage: 673.8+ KB\n",
            "None\n"
          ]
        }
      ]
    },
    {
      "cell_type": "code",
      "metadata": {
        "id": "QAT_ElajzM2V",
        "colab": {
          "base_uri": "https://localhost:8080/"
        },
        "outputId": "2945aa66-2c32-42d0-acf5-2d52bd53746b"
      },
      "source": [
        "# Find out how many nan value in every column.\n",
        "df.isnull().sum()\n",
        "\n"
      ],
      "execution_count": null,
      "outputs": [
        {
          "output_type": "execute_result",
          "data": {
            "text/plain": [
              "Unnamed: 0                  0\n",
              "country                     3\n",
              "description                 0\n",
              "designation              1835\n",
              "points                     27\n",
              "price                     422\n",
              "province                    3\n",
              "region_1                  983\n",
              "region_2                 3736\n",
              "taster_name              1249\n",
              "taster_twitter_handle    1452\n",
              "title                       0\n",
              "variety                     0\n",
              "winery                      0\n",
              "dtype: int64"
            ]
          },
          "metadata": {},
          "execution_count": 5
        }
      ]
    },
    {
      "cell_type": "markdown",
      "metadata": {
        "id": "g90fVMsrcdRG"
      },
      "source": [
        "# 3- Drop columns \n",
        "Drop the columns (Designation, Region_2, Taster_name, Taster_twitter_handle, Title,Province)."
      ]
    },
    {
      "cell_type": "code",
      "metadata": {
        "id": "DWZPKA_B4to6"
      },
      "source": [
        "# Create columns list that you want to drop\n",
        "drop_columns = ['Unnamed: 0', 'designation', 'region_2', 'taster_name', 'taster_twitter_handle', 'title', 'province']\n",
        "\n",
        "\n",
        "# Drop the columns \n",
        "df.drop(drop_columns, axis=1, inplace=True)\n",
        "\n"
      ],
      "execution_count": null,
      "outputs": []
    },
    {
      "cell_type": "code",
      "metadata": {
        "id": "OgYO9hOe8Onz",
        "colab": {
          "base_uri": "https://localhost:8080/"
        },
        "outputId": "d8683c1b-07fb-4755-a209-e054bda93600"
      },
      "source": [
        "print(df)"
      ],
      "execution_count": null,
      "outputs": [
        {
          "output_type": "stream",
          "name": "stdout",
          "text": [
            "        country  ...               winery\n",
            "0         Italy  ...              Nicosia\n",
            "1      Portugal  ...  Quinta dos Avidagos\n",
            "2            US  ...            Rainstorm\n",
            "3            US  ...           St. Julian\n",
            "4            US  ...         Sweet Cheeks\n",
            "...         ...  ...                  ...\n",
            "6154  Australia  ...             Taltarni\n",
            "6155      Chile  ...              Antiyal\n",
            "6156     France  ...    Mas des Bressades\n",
            "6157         US  ...         Frank Family\n",
            "6158         US  ...                 Hobo\n",
            "\n",
            "[6159 rows x 7 columns]\n"
          ]
        }
      ]
    },
    {
      "cell_type": "code",
      "metadata": {
        "id": "qrNJzOVUALcA",
        "colab": {
          "base_uri": "https://localhost:8080/"
        },
        "outputId": "5f77f759-e758-41e9-e34f-f1be4040fb33"
      },
      "source": [
        "# Print info about the data frame\n",
        "df.info()\n",
        "\n"
      ],
      "execution_count": null,
      "outputs": [
        {
          "output_type": "stream",
          "name": "stdout",
          "text": [
            "<class 'pandas.core.frame.DataFrame'>\n",
            "RangeIndex: 6159 entries, 0 to 6158\n",
            "Data columns (total 7 columns):\n",
            " #   Column       Non-Null Count  Dtype  \n",
            "---  ------       --------------  -----  \n",
            " 0   country      6156 non-null   object \n",
            " 1   description  6159 non-null   object \n",
            " 2   points       6132 non-null   float64\n",
            " 3   price        5737 non-null   float64\n",
            " 4   region_1     5176 non-null   object \n",
            " 5   variety      6159 non-null   object \n",
            " 6   winery       6159 non-null   object \n",
            "dtypes: float64(2), object(5)\n",
            "memory usage: 336.9+ KB\n"
          ]
        }
      ]
    },
    {
      "cell_type": "code",
      "metadata": {
        "id": "qq0zgchR_11h",
        "colab": {
          "base_uri": "https://localhost:8080/"
        },
        "outputId": "7c6b31cc-87cc-4805-c240-e999834bf400"
      },
      "source": [
        "# Check the number nan values in the columns \n",
        "df.isnull().sum()\n",
        "\n",
        " "
      ],
      "execution_count": null,
      "outputs": [
        {
          "output_type": "execute_result",
          "data": {
            "text/plain": [
              "country          3\n",
              "description      0\n",
              "points          27\n",
              "price          422\n",
              "region_1       983\n",
              "variety          0\n",
              "winery           0\n",
              "dtype: int64"
            ]
          },
          "metadata": {},
          "execution_count": 9
        }
      ]
    },
    {
      "cell_type": "markdown",
      "metadata": {
        "id": "CQn3Zb5DdROR"
      },
      "source": [
        "# 4- Fill in missing values \n",
        "Fill in missing values in (price) using the mean value of the column and in (point) using the median value of the column."
      ]
    },
    {
      "cell_type": "code",
      "metadata": {
        "id": "pmNRx4BdACeV"
      },
      "source": [
        "# Replace the nan values in the col price with hte mean\n",
        "# when filling, first think about filling the numeric values, we fill with mean value to not affect the distribution of data\n",
        "df.price.fillna(df.price.mean(), inplace=True)"
      ],
      "execution_count": null,
      "outputs": []
    },
    {
      "cell_type": "code",
      "metadata": {
        "id": "L1WPNtQvhtOe"
      },
      "source": [
        "# Replace the nan values in the col points with hte mean\n",
        "df.points.fillna(df.points.median(), inplace=True)\n",
        "\n"
      ],
      "execution_count": null,
      "outputs": []
    },
    {
      "cell_type": "code",
      "metadata": {
        "id": "oeKdIkIfhc8u",
        "colab": {
          "base_uri": "https://localhost:8080/"
        },
        "outputId": "2c1c225d-d467-44b4-cead-4faa1ff57de3"
      },
      "source": [
        "# Check the number nan values in the columns \n",
        "df.isnull().sum()\n",
        "\n"
      ],
      "execution_count": null,
      "outputs": [
        {
          "output_type": "execute_result",
          "data": {
            "text/plain": [
              "country          3\n",
              "description      0\n",
              "points           0\n",
              "price            0\n",
              "region_1       983\n",
              "variety          0\n",
              "winery           0\n",
              "dtype: int64"
            ]
          },
          "metadata": {},
          "execution_count": 12
        }
      ]
    },
    {
      "cell_type": "code",
      "metadata": {
        "id": "jU25_xx1mtr3",
        "colab": {
          "base_uri": "https://localhost:8080/"
        },
        "outputId": "e24c1239-47a3-4355-8a9c-b62844e38739"
      },
      "source": [
        "# Print the info od the DataFrame\n",
        "df.info()\n",
        "\n"
      ],
      "execution_count": null,
      "outputs": [
        {
          "output_type": "stream",
          "name": "stdout",
          "text": [
            "<class 'pandas.core.frame.DataFrame'>\n",
            "RangeIndex: 6159 entries, 0 to 6158\n",
            "Data columns (total 7 columns):\n",
            " #   Column       Non-Null Count  Dtype  \n",
            "---  ------       --------------  -----  \n",
            " 0   country      6156 non-null   object \n",
            " 1   description  6159 non-null   object \n",
            " 2   points       6159 non-null   float64\n",
            " 3   price        6159 non-null   float64\n",
            " 4   region_1     5176 non-null   object \n",
            " 5   variety      6159 non-null   object \n",
            " 6   winery       6159 non-null   object \n",
            "dtypes: float64(2), object(5)\n",
            "memory usage: 336.9+ KB\n"
          ]
        }
      ]
    },
    {
      "cell_type": "markdown",
      "source": [
        "# 5- Drop the rows that have missing values in the flowing columns (description, region_1, variety, country, winery)\n",
        "\n"
      ],
      "metadata": {
        "id": "9c6QKNU12eYw"
      }
    },
    {
      "cell_type": "code",
      "source": [
        "# Drop the rows that have missing values \n",
        "# because they are not continuous values, they are discrete and we must drop them \n",
        "# or we can execute a model to predict their missing values\n",
        "\n",
        "df.dropna(inplace=True)\n",
        "df.reset_index(inplace=True)\n",
        "df.drop(labels=['index'], axis=1, inplace=True)\n",
        "\n"
      ],
      "metadata": {
        "id": "TUlMljN62ddN"
      },
      "execution_count": null,
      "outputs": []
    },
    {
      "cell_type": "code",
      "source": [
        "df.info()"
      ],
      "metadata": {
        "id": "E0TK95UJ2saB",
        "colab": {
          "base_uri": "https://localhost:8080/"
        },
        "outputId": "b5ae35ed-2ce8-4142-80a4-bab558057778"
      },
      "execution_count": null,
      "outputs": [
        {
          "output_type": "stream",
          "name": "stdout",
          "text": [
            "<class 'pandas.core.frame.DataFrame'>\n",
            "RangeIndex: 5176 entries, 0 to 5175\n",
            "Data columns (total 7 columns):\n",
            " #   Column       Non-Null Count  Dtype  \n",
            "---  ------       --------------  -----  \n",
            " 0   country      5176 non-null   object \n",
            " 1   description  5176 non-null   object \n",
            " 2   points       5176 non-null   float64\n",
            " 3   price        5176 non-null   float64\n",
            " 4   region_1     5176 non-null   object \n",
            " 5   variety      5176 non-null   object \n",
            " 6   winery       5176 non-null   object \n",
            "dtypes: float64(2), object(5)\n",
            "memory usage: 283.2+ KB\n"
          ]
        }
      ]
    },
    {
      "cell_type": "markdown",
      "source": [
        "# 6- Convert the text to integer vector in column (description)"
      ],
      "metadata": {
        "id": "faDBQmRE247f"
      }
    },
    {
      "cell_type": "code",
      "source": [
        "# Create the text dataset for the Tokenizer   \n",
        "text= ' '.join(df.description)"
      ],
      "metadata": {
        "id": "wHyrOXrqN3vR"
      },
      "execution_count": null,
      "outputs": []
    },
    {
      "cell_type": "code",
      "source": [
        "# Create the Tokenizer \n",
        "\n",
        "class Tokenizer:\n",
        "\n",
        "    def __init__(\n",
        "        self,\n",
        "        row_text,\n",
        "        filters='!\"#$%&()*+,-./:;<=>?@[\\\\]^_`{|}~\\t\\n',\n",
        "        oov='<OOV>',\n",
        "        ):\n",
        "        \"\"\"\n",
        "        The __init__ method  of the class Tokenizer will get the following parameters\n",
        "        row_text : the input text that we wnat to create the tokenizer from it.\n",
        "        filters : a string where each element is a character that will be filtered from the texts. \n",
        "        The default is all punctuation, plus tabs and line breaks, minus the ' character.\n",
        "        oov : if given, it will be added to word_index and used to replace out-of-vocabulary words during text_to_sequence calls\n",
        "        \"\"\"\n",
        "\n",
        "        self.row_text = row_text\n",
        "        self.filters = filters\n",
        "        self.oov = oov\n",
        "\n",
        "        # create the word to index and index to word dictionaries using the tokenizer method\n",
        "\n",
        "        (self.word_index, self.index_word) = self.tokenizer(self.row_text)\n",
        "\n",
        "    def clean_text(self, text):\n",
        "        \"\"\"\n",
        "        The clean_text method will take one parameter text \n",
        "        then the method will clean the text data \n",
        "        and return clean text\n",
        "        \"\"\"\n",
        "\n",
        "        text = text.lower()  # convert the texts to lowercase.\n",
        "\n",
        "        # clean the text\n",
        "\n",
        "        for i in text:\n",
        "            if i in self.filters:\n",
        "\n",
        "                text = text.replace(i, ' ')\n",
        "\n",
        "        return text  # return the clean text\n",
        "\n",
        "    def tokenizer(self, text):\n",
        "        \"\"\"\n",
        "        The tokenizer method will take one parameter text \n",
        "        then the method will clean the text data. \n",
        "        extricate the unique words the method will return two dictionaries contains the unique word to index and the reverse of it.\n",
        "        \"\"\"\n",
        "\n",
        "        # create the word to index dictionary\n",
        "\n",
        "        word_index = {}\n",
        "\n",
        "        # create the index to word dictionary\n",
        "\n",
        "        index_word = {}\n",
        "\n",
        "        # add the oov to the word to index & the index to word  dictionaries\n",
        "\n",
        "        word_index[self.oov] = 0\n",
        "        index_word[0] = self.oov\n",
        "\n",
        "        # clean the text\n",
        "\n",
        "        text = self.clean_text(text)\n",
        "\n",
        "        # extract the unique values\n",
        "\n",
        "        unique_words = list(set(text.split()))\n",
        "\n",
        "        # convert the word to index and the reverse of it\n",
        "\n",
        "        for (index, word) in enumerate(unique_words):\n",
        "            word_index[word] = index + 1\n",
        "            index_word[index + 1] = word\n",
        "\n",
        "        # return word to index and the indeex to word dictionaries\n",
        "\n",
        "        return (word_index, index_word)\n",
        "\n",
        "    def tokenize(self, text):\n",
        "        \"\"\"\n",
        "        the method tokenize will convert text to vector \n",
        "        text: the text paramater it's for the text that you want to convert to list of numbers\n",
        "        \"\"\"\n",
        "\n",
        "        # create empty  list\n",
        "\n",
        "        vector = []\n",
        "\n",
        "        # clean the text\n",
        "\n",
        "        text = self.clean_text(text)\n",
        "\n",
        "        # split the text to words\n",
        "\n",
        "        word_list = text.split()\n",
        "\n",
        "        # convert the word list to\n",
        "\n",
        "        for word in word_list:\n",
        "            try:\n",
        "                vector.append(self.word_index[word])\n",
        "            except:\n",
        "                vector.append(self.word_index[self.oov])\n",
        "\n",
        "        # return the  vector\n",
        "\n",
        "        return vector\n",
        "\n",
        "    def reverse_tokenize(self, vector):\n",
        "        \"\"\"\n",
        "        the method reverse_tokenize will convert vector  to text\n",
        "        word_vector: the word_vector paramater it's for the list of number that you want to convert to string\n",
        "\n",
        "        \"\"\"\n",
        "\n",
        "        word_list = []\n",
        "\n",
        "        # convert from word_vector to string\n",
        "\n",
        "        for index in vector:\n",
        "            try:\n",
        "                word_list.append(self.index_word[index])\n",
        "            except:\n",
        "\n",
        "                word_list.append(self.index_word[self.oov])\n",
        "            text = ' '.join(word_list)\n",
        "\n",
        "        # return the string\n",
        "\n",
        "        return text"
      ],
      "metadata": {
        "id": "wJSIj9i6OUf1"
      },
      "execution_count": null,
      "outputs": []
    },
    {
      "cell_type": "code",
      "source": [
        "# Write function that replace every text in the description column to vector of integers\n",
        "# Note use the Tokenizer \n",
        "def get_vector(description):\n",
        "    tokenizer = Tokenizer(text)\n",
        "    vectors_List = []\n",
        "    for desc in description:\n",
        "        vectors_List.append(tokenizer.tokenize(desc))\n",
        "    return vectors_List\n",
        "\n",
        "df['description'] = get_vector(df.description)\n",
        "\n"
      ],
      "metadata": {
        "id": "sQQOQli624MB"
      },
      "execution_count": null,
      "outputs": []
    },
    {
      "cell_type": "markdown",
      "source": [
        ""
      ],
      "metadata": {
        "id": "pTxnr8H5RuS-"
      }
    },
    {
      "cell_type": "code",
      "source": [
        "df.description"
      ],
      "metadata": {
        "colab": {
          "base_uri": "https://localhost:8080/"
        },
        "id": "p0AyGVzFRuyQ",
        "outputId": "780acadc-a074-4fd1-a2ef-aa75fc0720d1"
      },
      "execution_count": null,
      "outputs": [
        {
          "output_type": "execute_result",
          "data": {
            "text/plain": [
              "0       Aromas include tropical fruit, broom, brimston...\n",
              "1       Tart and snappy, the flavors of lime flesh and...\n",
              "2       Pineapple rind, lemon pith and orange blossom ...\n",
              "3       Much like the regular bottling from 2012, this...\n",
              "4       Blackberry and raspberry aromas show a typical...\n",
              "                              ...                        \n",
              "5171    This makes an interesting contrast with the 20...\n",
              "5172    The top Australian Cabernets retain distinct v...\n",
              "5173    Importer Bobby Kacher seemingly has a pipeline...\n",
              "5174    With a ruby-crimson color, this sparkling wine...\n",
              "5175    Soft and gentle, this is a Zin to drink right ...\n",
              "Name: description, Length: 5176, dtype: object"
            ]
          },
          "metadata": {},
          "execution_count": 18
        }
      ]
    },
    {
      "cell_type": "code",
      "source": [
        "tokenizer = Tokenizer(text)\n",
        "df.description = df.description.map(tokenizer.tokenize)"
      ],
      "metadata": {
        "id": "nwdaLvkXSRaS"
      },
      "execution_count": null,
      "outputs": []
    },
    {
      "cell_type": "code",
      "source": [
        "df.description"
      ],
      "metadata": {
        "colab": {
          "base_uri": "https://localhost:8080/"
        },
        "id": "epQoulyHShvQ",
        "outputId": "9d2d00d8-ad2d-45f4-b944-b5fa2be6d58e"
      },
      "execution_count": null,
      "outputs": [
        {
          "output_type": "execute_result",
          "data": {
            "text/plain": [
              "0       [1235, 4422, 809, 8656, 732, 6106, 5144, 4437,...\n",
              "1       [5312, 5144, 3213, 33, 2443, 2599, 7362, 6631,...\n",
              "2       [3862, 5543, 131, 1680, 5144, 975, 6514, 3106,...\n",
              "3       [6871, 6736, 33, 8863, 6806, 4408, 8266, 8177,...\n",
              "4       [6018, 5144, 1764, 1235, 4224, 2379, 3591, 233...\n",
              "                              ...                        \n",
              "5171    [8177, 150, 1946, 7997, 6945, 800, 33, 4033, 9...\n",
              "5172    [33, 4825, 3742, 234, 5154, 6948, 1930, 7772, ...\n",
              "5173    [2054, 782, 3994, 7534, 6651, 2379, 6083, 3943...\n",
              "5174    [800, 2379, 7757, 4493, 5959, 8177, 6196, 6774...\n",
              "5175    [2480, 5144, 5886, 8177, 569, 2379, 6175, 3943...\n",
              "Name: description, Length: 5176, dtype: object"
            ]
          },
          "metadata": {},
          "execution_count": 21
        }
      ]
    },
    {
      "cell_type": "markdown",
      "metadata": {
        "id": "96f9FQdqc-eM"
      },
      "source": [
        "# 7- Convert text values to numerical values"
      ]
    },
    {
      "cell_type": "code",
      "metadata": {
        "id": "JV7L_x0hhftW"
      },
      "source": [
        "# Create function that return two dictionary word to index and the other index to word \n",
        "def string_to_numerics(column):\n",
        "  \n",
        "  word_index = {}\n",
        "  index_word = {}\n",
        "\n",
        "  # Get the unique words\n",
        "  for index, value in enumerate( column.unique()):\n",
        "    word_index[value]=index\n",
        "    index_word[index]=value\n",
        "\n",
        "\n",
        "  # Return word to index & index to word\n",
        "  return word_index, index_word"
      ],
      "execution_count": null,
      "outputs": []
    },
    {
      "cell_type": "code",
      "metadata": {
        "id": "jpUw0avFbDwX"
      },
      "source": [
        "# Create the string to numerics for the country col\n",
        "country_index, index_country = string_to_numerics(df.country)\n",
        "\n",
        "\n",
        "# Replace the string to numeric\n",
        "df.country.replace(country_index, inplace=True)\n",
        "\n"
      ],
      "execution_count": null,
      "outputs": []
    },
    {
      "cell_type": "code",
      "metadata": {
        "id": "ymKxmzLHtOeM"
      },
      "source": [
        "# Create the string to numerics for the variety col\n",
        "variety_index, index_variety = string_to_numerics(df.variety)\n",
        "\n",
        "\n",
        "# Replace the string to numeric \n",
        "df.variety.replace(variety_index, inplace=True)\n",
        "\n"
      ],
      "execution_count": null,
      "outputs": []
    },
    {
      "cell_type": "code",
      "metadata": {
        "id": "ABEKX0tOtprs"
      },
      "source": [
        "# Create the string to numerics for the winery col\n",
        "winery_index, index_winery = string_to_numerics(df.winery)\n",
        "\n",
        "\n",
        "# Replace the string to numeric \n",
        "df.winery.replace(winery_index, inplace=True)\n",
        "\n"
      ],
      "execution_count": null,
      "outputs": []
    },
    {
      "cell_type": "code",
      "metadata": {
        "id": "KnPwomHJbkU-"
      },
      "source": [
        "# Create the string to numerics for the region_1 col\n",
        "region_1_index, index_region_1 = string_to_numerics(df.region_1)\n",
        "\n",
        "\n",
        "# Replace the string to numeric \n",
        "df.region_1.replace(region_1_index, inplace=True)\n",
        "\n"
      ],
      "execution_count": null,
      "outputs": []
    },
    {
      "cell_type": "markdown",
      "metadata": {
        "id": "LzgRtR7BXkei"
      },
      "source": [
        "#Split tha Dataset to x,y "
      ]
    },
    {
      "cell_type": "markdown",
      "metadata": {
        "id": "QzuRkHd1doki"
      },
      "source": [
        "# 8- Split the data into inputs/features (x) and output/target ( y )."
      ]
    },
    {
      "cell_type": "code",
      "metadata": {
        "id": "slFKTxB1mVfF"
      },
      "source": [
        "# Create y\n",
        "y = df.price\n",
        "\n"
      ],
      "execution_count": null,
      "outputs": []
    },
    {
      "cell_type": "code",
      "metadata": {
        "id": "AgRS47ZXqdje",
        "colab": {
          "base_uri": "https://localhost:8080/"
        },
        "outputId": "3e198314-9903-410a-b8fa-067ca728c92a"
      },
      "source": [
        "# Convert the data type of y to int64\n",
        "\n",
        "y = y.astype(dtype=np.int64)\n",
        "\n",
        "\n",
        "y"
      ],
      "execution_count": null,
      "outputs": [
        {
          "output_type": "execute_result",
          "data": {
            "text/plain": [
              "0       34\n",
              "1       14\n",
              "2       13\n",
              "3       65\n",
              "4       15\n",
              "        ..\n",
              "5171    34\n",
              "5172    32\n",
              "5173    13\n",
              "5174    35\n",
              "5175    25\n",
              "Name: price, Length: 5176, dtype: int64"
            ]
          },
          "metadata": {},
          "execution_count": 29
        }
      ]
    },
    {
      "cell_type": "code",
      "metadata": {
        "id": "ytPpRplSrucm",
        "colab": {
          "base_uri": "https://localhost:8080/",
          "height": 423
        },
        "outputId": "68e15c06-c97f-46c5-9289-e80db3acd73f"
      },
      "source": [
        "# Create x \n",
        "x = df.copy()\n",
        "x.drop(labels=[y.name], axis=1, inplace=True)\n",
        "\n",
        "\n",
        "x"
      ],
      "execution_count": null,
      "outputs": [
        {
          "output_type": "execute_result",
          "data": {
            "text/html": [
              "\n",
              "  <div id=\"df-a49852c8-5102-4307-a119-13d80522bb03\">\n",
              "    <div class=\"colab-df-container\">\n",
              "      <div>\n",
              "<style scoped>\n",
              "    .dataframe tbody tr th:only-of-type {\n",
              "        vertical-align: middle;\n",
              "    }\n",
              "\n",
              "    .dataframe tbody tr th {\n",
              "        vertical-align: top;\n",
              "    }\n",
              "\n",
              "    .dataframe thead th {\n",
              "        text-align: right;\n",
              "    }\n",
              "</style>\n",
              "<table border=\"1\" class=\"dataframe\">\n",
              "  <thead>\n",
              "    <tr style=\"text-align: right;\">\n",
              "      <th></th>\n",
              "      <th>country</th>\n",
              "      <th>description</th>\n",
              "      <th>points</th>\n",
              "      <th>region_1</th>\n",
              "      <th>variety</th>\n",
              "      <th>winery</th>\n",
              "    </tr>\n",
              "  </thead>\n",
              "  <tbody>\n",
              "    <tr>\n",
              "      <th>0</th>\n",
              "      <td>0</td>\n",
              "      <td>[1235, 4422, 809, 8656, 732, 6106, 5144, 4437,...</td>\n",
              "      <td>87.0</td>\n",
              "      <td>0</td>\n",
              "      <td>0</td>\n",
              "      <td>0</td>\n",
              "    </tr>\n",
              "    <tr>\n",
              "      <th>1</th>\n",
              "      <td>1</td>\n",
              "      <td>[5312, 5144, 3213, 33, 2443, 2599, 7362, 6631,...</td>\n",
              "      <td>87.0</td>\n",
              "      <td>1</td>\n",
              "      <td>1</td>\n",
              "      <td>1</td>\n",
              "    </tr>\n",
              "    <tr>\n",
              "      <th>2</th>\n",
              "      <td>1</td>\n",
              "      <td>[3862, 5543, 131, 1680, 5144, 975, 6514, 3106,...</td>\n",
              "      <td>87.0</td>\n",
              "      <td>2</td>\n",
              "      <td>2</td>\n",
              "      <td>2</td>\n",
              "    </tr>\n",
              "    <tr>\n",
              "      <th>3</th>\n",
              "      <td>1</td>\n",
              "      <td>[6871, 6736, 33, 8863, 6806, 4408, 8266, 8177,...</td>\n",
              "      <td>87.0</td>\n",
              "      <td>1</td>\n",
              "      <td>3</td>\n",
              "      <td>3</td>\n",
              "    </tr>\n",
              "    <tr>\n",
              "      <th>4</th>\n",
              "      <td>2</td>\n",
              "      <td>[6018, 5144, 1764, 1235, 4224, 2379, 3591, 233...</td>\n",
              "      <td>87.0</td>\n",
              "      <td>3</td>\n",
              "      <td>4</td>\n",
              "      <td>4</td>\n",
              "    </tr>\n",
              "    <tr>\n",
              "      <th>...</th>\n",
              "      <td>...</td>\n",
              "      <td>...</td>\n",
              "      <td>...</td>\n",
              "      <td>...</td>\n",
              "      <td>...</td>\n",
              "      <td>...</td>\n",
              "    </tr>\n",
              "    <tr>\n",
              "      <th>5171</th>\n",
              "      <td>3</td>\n",
              "      <td>[8177, 150, 1946, 7997, 6945, 800, 33, 4033, 9...</td>\n",
              "      <td>89.0</td>\n",
              "      <td>34</td>\n",
              "      <td>9</td>\n",
              "      <td>3378</td>\n",
              "    </tr>\n",
              "    <tr>\n",
              "      <th>5172</th>\n",
              "      <td>5</td>\n",
              "      <td>[33, 4825, 3742, 234, 5154, 6948, 1930, 7772, ...</td>\n",
              "      <td>89.0</td>\n",
              "      <td>612</td>\n",
              "      <td>7</td>\n",
              "      <td>3035</td>\n",
              "    </tr>\n",
              "    <tr>\n",
              "      <th>5173</th>\n",
              "      <td>3</td>\n",
              "      <td>[2054, 782, 3994, 7534, 6651, 2379, 6083, 3943...</td>\n",
              "      <td>89.0</td>\n",
              "      <td>194</td>\n",
              "      <td>33</td>\n",
              "      <td>3379</td>\n",
              "    </tr>\n",
              "    <tr>\n",
              "      <th>5174</th>\n",
              "      <td>1</td>\n",
              "      <td>[800, 2379, 7757, 4493, 5959, 8177, 6196, 6774...</td>\n",
              "      <td>89.0</td>\n",
              "      <td>6</td>\n",
              "      <td>70</td>\n",
              "      <td>691</td>\n",
              "    </tr>\n",
              "    <tr>\n",
              "      <th>5175</th>\n",
              "      <td>1</td>\n",
              "      <td>[2480, 5144, 5886, 8177, 569, 2379, 6175, 3943...</td>\n",
              "      <td>89.0</td>\n",
              "      <td>7</td>\n",
              "      <td>34</td>\n",
              "      <td>2570</td>\n",
              "    </tr>\n",
              "  </tbody>\n",
              "</table>\n",
              "<p>5176 rows × 6 columns</p>\n",
              "</div>\n",
              "      <button class=\"colab-df-convert\" onclick=\"convertToInteractive('df-a49852c8-5102-4307-a119-13d80522bb03')\"\n",
              "              title=\"Convert this dataframe to an interactive table.\"\n",
              "              style=\"display:none;\">\n",
              "        \n",
              "  <svg xmlns=\"http://www.w3.org/2000/svg\" height=\"24px\"viewBox=\"0 0 24 24\"\n",
              "       width=\"24px\">\n",
              "    <path d=\"M0 0h24v24H0V0z\" fill=\"none\"/>\n",
              "    <path d=\"M18.56 5.44l.94 2.06.94-2.06 2.06-.94-2.06-.94-.94-2.06-.94 2.06-2.06.94zm-11 1L8.5 8.5l.94-2.06 2.06-.94-2.06-.94L8.5 2.5l-.94 2.06-2.06.94zm10 10l.94 2.06.94-2.06 2.06-.94-2.06-.94-.94-2.06-.94 2.06-2.06.94z\"/><path d=\"M17.41 7.96l-1.37-1.37c-.4-.4-.92-.59-1.43-.59-.52 0-1.04.2-1.43.59L10.3 9.45l-7.72 7.72c-.78.78-.78 2.05 0 2.83L4 21.41c.39.39.9.59 1.41.59.51 0 1.02-.2 1.41-.59l7.78-7.78 2.81-2.81c.8-.78.8-2.07 0-2.86zM5.41 20L4 18.59l7.72-7.72 1.47 1.35L5.41 20z\"/>\n",
              "  </svg>\n",
              "      </button>\n",
              "      \n",
              "  <style>\n",
              "    .colab-df-container {\n",
              "      display:flex;\n",
              "      flex-wrap:wrap;\n",
              "      gap: 12px;\n",
              "    }\n",
              "\n",
              "    .colab-df-convert {\n",
              "      background-color: #E8F0FE;\n",
              "      border: none;\n",
              "      border-radius: 50%;\n",
              "      cursor: pointer;\n",
              "      display: none;\n",
              "      fill: #1967D2;\n",
              "      height: 32px;\n",
              "      padding: 0 0 0 0;\n",
              "      width: 32px;\n",
              "    }\n",
              "\n",
              "    .colab-df-convert:hover {\n",
              "      background-color: #E2EBFA;\n",
              "      box-shadow: 0px 1px 2px rgba(60, 64, 67, 0.3), 0px 1px 3px 1px rgba(60, 64, 67, 0.15);\n",
              "      fill: #174EA6;\n",
              "    }\n",
              "\n",
              "    [theme=dark] .colab-df-convert {\n",
              "      background-color: #3B4455;\n",
              "      fill: #D2E3FC;\n",
              "    }\n",
              "\n",
              "    [theme=dark] .colab-df-convert:hover {\n",
              "      background-color: #434B5C;\n",
              "      box-shadow: 0px 1px 3px 1px rgba(0, 0, 0, 0.15);\n",
              "      filter: drop-shadow(0px 1px 2px rgba(0, 0, 0, 0.3));\n",
              "      fill: #FFFFFF;\n",
              "    }\n",
              "  </style>\n",
              "\n",
              "      <script>\n",
              "        const buttonEl =\n",
              "          document.querySelector('#df-a49852c8-5102-4307-a119-13d80522bb03 button.colab-df-convert');\n",
              "        buttonEl.style.display =\n",
              "          google.colab.kernel.accessAllowed ? 'block' : 'none';\n",
              "\n",
              "        async function convertToInteractive(key) {\n",
              "          const element = document.querySelector('#df-a49852c8-5102-4307-a119-13d80522bb03');\n",
              "          const dataTable =\n",
              "            await google.colab.kernel.invokeFunction('convertToInteractive',\n",
              "                                                     [key], {});\n",
              "          if (!dataTable) return;\n",
              "\n",
              "          const docLinkHtml = 'Like what you see? Visit the ' +\n",
              "            '<a target=\"_blank\" href=https://colab.research.google.com/notebooks/data_table.ipynb>data table notebook</a>'\n",
              "            + ' to learn more about interactive tables.';\n",
              "          element.innerHTML = '';\n",
              "          dataTable['output_type'] = 'display_data';\n",
              "          await google.colab.output.renderOutput(dataTable, element);\n",
              "          const docLink = document.createElement('div');\n",
              "          docLink.innerHTML = docLinkHtml;\n",
              "          element.appendChild(docLink);\n",
              "        }\n",
              "      </script>\n",
              "    </div>\n",
              "  </div>\n",
              "  "
            ],
            "text/plain": [
              "      country  ... winery\n",
              "0           0  ...      0\n",
              "1           1  ...      1\n",
              "2           1  ...      2\n",
              "3           1  ...      3\n",
              "4           2  ...      4\n",
              "...       ...  ...    ...\n",
              "5171        3  ...   3378\n",
              "5172        5  ...   3035\n",
              "5173        3  ...   3379\n",
              "5174        1  ...    691\n",
              "5175        1  ...   2570\n",
              "\n",
              "[5176 rows x 6 columns]"
            ]
          },
          "metadata": {},
          "execution_count": 30
        }
      ]
    },
    {
      "cell_type": "code",
      "metadata": {
        "id": "4WPbzlfTuHy7"
      },
      "source": [
        "# Convert the dtype of points to int64\n",
        "x = x.astype({'points': np.int64})\n",
        "\n"
      ],
      "execution_count": null,
      "outputs": []
    },
    {
      "cell_type": "code",
      "metadata": {
        "id": "GxPvKG2ZubIk",
        "colab": {
          "base_uri": "https://localhost:8080/"
        },
        "outputId": "5778f7b2-205d-4276-8157-c8998499cfec"
      },
      "source": [
        "x.info()"
      ],
      "execution_count": null,
      "outputs": [
        {
          "output_type": "stream",
          "name": "stdout",
          "text": [
            "<class 'pandas.core.frame.DataFrame'>\n",
            "RangeIndex: 5176 entries, 0 to 5175\n",
            "Data columns (total 6 columns):\n",
            " #   Column       Non-Null Count  Dtype \n",
            "---  ------       --------------  ----- \n",
            " 0   country      5176 non-null   int64 \n",
            " 1   description  5176 non-null   object\n",
            " 2   points       5176 non-null   int64 \n",
            " 3   region_1     5176 non-null   int64 \n",
            " 4   variety      5176 non-null   int64 \n",
            " 5   winery       5176 non-null   int64 \n",
            "dtypes: int64(5), object(1)\n",
            "memory usage: 242.8+ KB\n"
          ]
        }
      ]
    },
    {
      "cell_type": "markdown",
      "metadata": {
        "id": "2u9Lf11Pd7yy"
      },
      "source": [
        "# 9-Print the Describe  and info of the dataset."
      ]
    },
    {
      "cell_type": "code",
      "metadata": {
        "id": "1qfWXs7aWtLx",
        "colab": {
          "base_uri": "https://localhost:8080/"
        },
        "outputId": "f966e288-7392-42c8-c5d7-43648466c33a"
      },
      "source": [
        "# Print the description of the x data frame\n",
        "print(x.describe())\n",
        "\n"
      ],
      "execution_count": null,
      "outputs": [
        {
          "output_type": "stream",
          "name": "stdout",
          "text": [
            "           country       points     region_1      variety       winery\n",
            "count  5176.000000  5176.000000  5176.000000  5176.000000  5176.000000\n",
            "mean      1.471406    88.267388   137.561437    30.282264  1476.430835\n",
            "std       1.252304     2.924028   138.598838    35.096826   969.930336\n",
            "min       0.000000    80.000000     0.000000     0.000000     0.000000\n",
            "25%       1.000000    86.000000    32.000000     7.750000   608.000000\n",
            "50%       1.000000    88.000000    79.000000    18.000000  1387.000000\n",
            "75%       3.000000    90.000000   197.250000    40.000000  2284.250000\n",
            "max       6.000000   100.000000   612.000000   217.000000  3379.000000\n"
          ]
        }
      ]
    },
    {
      "cell_type": "code",
      "source": [
        "# Print the information of x \n",
        "print(x.info())\n",
        "\n"
      ],
      "metadata": {
        "id": "uvMX_YIeU8Kg",
        "colab": {
          "base_uri": "https://localhost:8080/"
        },
        "outputId": "70097a5d-dd9e-4c07-89a0-2a38211ea41d"
      },
      "execution_count": null,
      "outputs": [
        {
          "output_type": "stream",
          "name": "stdout",
          "text": [
            "<class 'pandas.core.frame.DataFrame'>\n",
            "RangeIndex: 5176 entries, 0 to 5175\n",
            "Data columns (total 6 columns):\n",
            " #   Column       Non-Null Count  Dtype \n",
            "---  ------       --------------  ----- \n",
            " 0   country      5176 non-null   int64 \n",
            " 1   description  5176 non-null   object\n",
            " 2   points       5176 non-null   int64 \n",
            " 3   region_1     5176 non-null   int64 \n",
            " 4   variety      5176 non-null   int64 \n",
            " 5   winery       5176 non-null   int64 \n",
            "dtypes: int64(5), object(1)\n",
            "memory usage: 242.8+ KB\n",
            "None\n"
          ]
        }
      ]
    },
    {
      "cell_type": "markdown",
      "metadata": {
        "id": "iUcL2zcWeWHj"
      },
      "source": [
        "# 10- Plot a (histogram) with set the size of the plots to (10,10)."
      ]
    },
    {
      "cell_type": "code",
      "metadata": {
        "id": "F-qBuEJc9S9a",
        "colab": {
          "base_uri": "https://localhost:8080/",
          "height": 734
        },
        "outputId": "89107538-c423-4d6c-d636-5a98416fe0ae"
      },
      "source": [
        "# Plot the histogram for the data frame\n",
        "new_df = x.copy()\n",
        "new_df[y.name] = y\n",
        "new_df.hist(figsize=(10,10))\n",
        "\n"
      ],
      "execution_count": null,
      "outputs": [
        {
          "output_type": "execute_result",
          "data": {
            "text/plain": [
              "array([[<matplotlib.axes._subplots.AxesSubplot object at 0x7f1da6c65c50>,\n",
              "        <matplotlib.axes._subplots.AxesSubplot object at 0x7f1da6c6e9d0>],\n",
              "       [<matplotlib.axes._subplots.AxesSubplot object at 0x7f1da6c92fd0>,\n",
              "        <matplotlib.axes._subplots.AxesSubplot object at 0x7f1da6c25c50>],\n",
              "       [<matplotlib.axes._subplots.AxesSubplot object at 0x7f1da6c2e350>,\n",
              "        <matplotlib.axes._subplots.AxesSubplot object at 0x7f1da6c37690>]],\n",
              "      dtype=object)"
            ]
          },
          "metadata": {},
          "execution_count": 35
        },
        {
          "output_type": "display_data",
          "data": {
            "image/png": "[encoded data removed]",
            "text/plain": [
              "<Figure size 720x720 with 6 Axes>"
            ]
          },
          "metadata": {
            "needs_background": "light"
          }
        }
      ]
    },
    {
      "cell_type": "markdown",
      "metadata": {
        "id": "B4r8frm8fIyj"
      },
      "source": [
        "# 11- Save the modified DataFrame to a CSV file.\n"
      ]
    },
    {
      "cell_type": "code",
      "metadata": {
        "id": "o5bjf83_tWSi"
      },
      "source": [
        "# Save the data frame plase make sure that the csv file saved without the index \n",
        "new_df.to_csv('Assigement_2.csv', index = False)\n",
        "\n"
      ],
      "execution_count": null,
      "outputs": []
    },
    {
      "cell_type": "code",
      "metadata": {
        "id": "rWSTFqCNtjAc",
        "colab": {
          "base_uri": "https://localhost:8080/",
          "height": 423
        },
        "outputId": "7ed19389-2151-4913-8381-b71b8148efc8"
      },
      "source": [
        "# Read the data frame that you saved to make sure everything is correct\n",
        "assigement_2 = pd.read_csv('/content/Assigement_2.csv')\n",
        "assigement_2"
      ],
      "execution_count": null,
      "outputs": [
        {
          "output_type": "execute_result",
          "data": {
            "text/html": [
              "\n",
              "  <div id=\"df-5a8bf296-3d2c-40c7-ae55-0db6b0b8a781\">\n",
              "    <div class=\"colab-df-container\">\n",
              "      <div>\n",
              "<style scoped>\n",
              "    .dataframe tbody tr th:only-of-type {\n",
              "        vertical-align: middle;\n",
              "    }\n",
              "\n",
              "    .dataframe tbody tr th {\n",
              "        vertical-align: top;\n",
              "    }\n",
              "\n",
              "    .dataframe thead th {\n",
              "        text-align: right;\n",
              "    }\n",
              "</style>\n",
              "<table border=\"1\" class=\"dataframe\">\n",
              "  <thead>\n",
              "    <tr style=\"text-align: right;\">\n",
              "      <th></th>\n",
              "      <th>country</th>\n",
              "      <th>description</th>\n",
              "      <th>points</th>\n",
              "      <th>region_1</th>\n",
              "      <th>variety</th>\n",
              "      <th>winery</th>\n",
              "      <th>price</th>\n",
              "    </tr>\n",
              "  </thead>\n",
              "  <tbody>\n",
              "    <tr>\n",
              "      <th>0</th>\n",
              "      <td>0</td>\n",
              "      <td>[1235, 4422, 809, 8656, 732, 6106, 5144, 4437,...</td>\n",
              "      <td>87</td>\n",
              "      <td>0</td>\n",
              "      <td>0</td>\n",
              "      <td>0</td>\n",
              "      <td>34</td>\n",
              "    </tr>\n",
              "    <tr>\n",
              "      <th>1</th>\n",
              "      <td>1</td>\n",
              "      <td>[5312, 5144, 3213, 33, 2443, 2599, 7362, 6631,...</td>\n",
              "      <td>87</td>\n",
              "      <td>1</td>\n",
              "      <td>1</td>\n",
              "      <td>1</td>\n",
              "      <td>14</td>\n",
              "    </tr>\n",
              "    <tr>\n",
              "      <th>2</th>\n",
              "      <td>1</td>\n",
              "      <td>[3862, 5543, 131, 1680, 5144, 975, 6514, 3106,...</td>\n",
              "      <td>87</td>\n",
              "      <td>2</td>\n",
              "      <td>2</td>\n",
              "      <td>2</td>\n",
              "      <td>13</td>\n",
              "    </tr>\n",
              "    <tr>\n",
              "      <th>3</th>\n",
              "      <td>1</td>\n",
              "      <td>[6871, 6736, 33, 8863, 6806, 4408, 8266, 8177,...</td>\n",
              "      <td>87</td>\n",
              "      <td>1</td>\n",
              "      <td>3</td>\n",
              "      <td>3</td>\n",
              "      <td>65</td>\n",
              "    </tr>\n",
              "    <tr>\n",
              "      <th>4</th>\n",
              "      <td>2</td>\n",
              "      <td>[6018, 5144, 1764, 1235, 4224, 2379, 3591, 233...</td>\n",
              "      <td>87</td>\n",
              "      <td>3</td>\n",
              "      <td>4</td>\n",
              "      <td>4</td>\n",
              "      <td>15</td>\n",
              "    </tr>\n",
              "    <tr>\n",
              "      <th>...</th>\n",
              "      <td>...</td>\n",
              "      <td>...</td>\n",
              "      <td>...</td>\n",
              "      <td>...</td>\n",
              "      <td>...</td>\n",
              "      <td>...</td>\n",
              "      <td>...</td>\n",
              "    </tr>\n",
              "    <tr>\n",
              "      <th>5171</th>\n",
              "      <td>3</td>\n",
              "      <td>[8177, 150, 1946, 7997, 6945, 800, 33, 4033, 9...</td>\n",
              "      <td>89</td>\n",
              "      <td>34</td>\n",
              "      <td>9</td>\n",
              "      <td>3378</td>\n",
              "      <td>34</td>\n",
              "    </tr>\n",
              "    <tr>\n",
              "      <th>5172</th>\n",
              "      <td>5</td>\n",
              "      <td>[33, 4825, 3742, 234, 5154, 6948, 1930, 7772, ...</td>\n",
              "      <td>89</td>\n",
              "      <td>612</td>\n",
              "      <td>7</td>\n",
              "      <td>3035</td>\n",
              "      <td>32</td>\n",
              "    </tr>\n",
              "    <tr>\n",
              "      <th>5173</th>\n",
              "      <td>3</td>\n",
              "      <td>[2054, 782, 3994, 7534, 6651, 2379, 6083, 3943...</td>\n",
              "      <td>89</td>\n",
              "      <td>194</td>\n",
              "      <td>33</td>\n",
              "      <td>3379</td>\n",
              "      <td>13</td>\n",
              "    </tr>\n",
              "    <tr>\n",
              "      <th>5174</th>\n",
              "      <td>1</td>\n",
              "      <td>[800, 2379, 7757, 4493, 5959, 8177, 6196, 6774...</td>\n",
              "      <td>89</td>\n",
              "      <td>6</td>\n",
              "      <td>70</td>\n",
              "      <td>691</td>\n",
              "      <td>35</td>\n",
              "    </tr>\n",
              "    <tr>\n",
              "      <th>5175</th>\n",
              "      <td>1</td>\n",
              "      <td>[2480, 5144, 5886, 8177, 569, 2379, 6175, 3943...</td>\n",
              "      <td>89</td>\n",
              "      <td>7</td>\n",
              "      <td>34</td>\n",
              "      <td>2570</td>\n",
              "      <td>25</td>\n",
              "    </tr>\n",
              "  </tbody>\n",
              "</table>\n",
              "<p>5176 rows × 7 columns</p>\n",
              "</div>\n",
              "      <button class=\"colab-df-convert\" onclick=\"convertToInteractive('df-5a8bf296-3d2c-40c7-ae55-0db6b0b8a781')\"\n",
              "              title=\"Convert this dataframe to an interactive table.\"\n",
              "              style=\"display:none;\">\n",
              "        \n",
              "  <svg xmlns=\"http://www.w3.org/2000/svg\" height=\"24px\"viewBox=\"0 0 24 24\"\n",
              "       width=\"24px\">\n",
              "    <path d=\"M0 0h24v24H0V0z\" fill=\"none\"/>\n",
              "    <path d=\"M18.56 5.44l.94 2.06.94-2.06 2.06-.94-2.06-.94-.94-2.06-.94 2.06-2.06.94zm-11 1L8.5 8.5l.94-2.06 2.06-.94-2.06-.94L8.5 2.5l-.94 2.06-2.06.94zm10 10l.94 2.06.94-2.06 2.06-.94-2.06-.94-.94-2.06-.94 2.06-2.06.94z\"/><path d=\"M17.41 7.96l-1.37-1.37c-.4-.4-.92-.59-1.43-.59-.52 0-1.04.2-1.43.59L10.3 9.45l-7.72 7.72c-.78.78-.78 2.05 0 2.83L4 21.41c.39.39.9.59 1.41.59.51 0 1.02-.2 1.41-.59l7.78-7.78 2.81-2.81c.8-.78.8-2.07 0-2.86zM5.41 20L4 18.59l7.72-7.72 1.47 1.35L5.41 20z\"/>\n",
              "  </svg>\n",
              "      </button>\n",
              "      \n",
              "  <style>\n",
              "    .colab-df-container {\n",
              "      display:flex;\n",
              "      flex-wrap:wrap;\n",
              "      gap: 12px;\n",
              "    }\n",
              "\n",
              "    .colab-df-convert {\n",
              "      background-color: #E8F0FE;\n",
              "      border: none;\n",
              "      border-radius: 50%;\n",
              "      cursor: pointer;\n",
              "      display: none;\n",
              "      fill: #1967D2;\n",
              "      height: 32px;\n",
              "      padding: 0 0 0 0;\n",
              "      width: 32px;\n",
              "    }\n",
              "\n",
              "    .colab-df-convert:hover {\n",
              "      background-color: #E2EBFA;\n",
              "      box-shadow: 0px 1px 2px rgba(60, 64, 67, 0.3), 0px 1px 3px 1px rgba(60, 64, 67, 0.15);\n",
              "      fill: #174EA6;\n",
              "    }\n",
              "\n",
              "    [theme=dark] .colab-df-convert {\n",
              "      background-color: #3B4455;\n",
              "      fill: #D2E3FC;\n",
              "    }\n",
              "\n",
              "    [theme=dark] .colab-df-convert:hover {\n",
              "      background-color: #434B5C;\n",
              "      box-shadow: 0px 1px 3px 1px rgba(0, 0, 0, 0.15);\n",
              "      filter: drop-shadow(0px 1px 2px rgba(0, 0, 0, 0.3));\n",
              "      fill: #FFFFFF;\n",
              "    }\n",
              "  </style>\n",
              "\n",
              "      <script>\n",
              "        const buttonEl =\n",
              "          document.querySelector('#df-5a8bf296-3d2c-40c7-ae55-0db6b0b8a781 button.colab-df-convert');\n",
              "        buttonEl.style.display =\n",
              "          google.colab.kernel.accessAllowed ? 'block' : 'none';\n",
              "\n",
              "        async function convertToInteractive(key) {\n",
              "          const element = document.querySelector('#df-5a8bf296-3d2c-40c7-ae55-0db6b0b8a781');\n",
              "          const dataTable =\n",
              "            await google.colab.kernel.invokeFunction('convertToInteractive',\n",
              "                                                     [key], {});\n",
              "          if (!dataTable) return;\n",
              "\n",
              "          const docLinkHtml = 'Like what you see? Visit the ' +\n",
              "            '<a target=\"_blank\" href=https://colab.research.google.com/notebooks/data_table.ipynb>data table notebook</a>'\n",
              "            + ' to learn more about interactive tables.';\n",
              "          element.innerHTML = '';\n",
              "          dataTable['output_type'] = 'display_data';\n",
              "          await google.colab.output.renderOutput(dataTable, element);\n",
              "          const docLink = document.createElement('div');\n",
              "          docLink.innerHTML = docLinkHtml;\n",
              "          element.appendChild(docLink);\n",
              "        }\n",
              "      </script>\n",
              "    </div>\n",
              "  </div>\n",
              "  "
            ],
            "text/plain": [
              "      country                                        description  ...  winery  price\n",
              "0           0  [1235, 4422, 809, 8656, 732, 6106, 5144, 4437,...  ...       0     34\n",
              "1           1  [5312, 5144, 3213, 33, 2443, 2599, 7362, 6631,...  ...       1     14\n",
              "2           1  [3862, 5543, 131, 1680, 5144, 975, 6514, 3106,...  ...       2     13\n",
              "3           1  [6871, 6736, 33, 8863, 6806, 4408, 8266, 8177,...  ...       3     65\n",
              "4           2  [6018, 5144, 1764, 1235, 4224, 2379, 3591, 233...  ...       4     15\n",
              "...       ...                                                ...  ...     ...    ...\n",
              "5171        3  [8177, 150, 1946, 7997, 6945, 800, 33, 4033, 9...  ...    3378     34\n",
              "5172        5  [33, 4825, 3742, 234, 5154, 6948, 1930, 7772, ...  ...    3035     32\n",
              "5173        3  [2054, 782, 3994, 7534, 6651, 2379, 6083, 3943...  ...    3379     13\n",
              "5174        1  [800, 2379, 7757, 4493, 5959, 8177, 6196, 6774...  ...     691     35\n",
              "5175        1  [2480, 5144, 5886, 8177, 569, 2379, 6175, 3943...  ...    2570     25\n",
              "\n",
              "[5176 rows x 7 columns]"
            ]
          },
          "metadata": {},
          "execution_count": 37
        }
      ]
    },
    {
      "cell_type": "code",
      "source": [
        ""
      ],
      "metadata": {
        "id": "pLKE_2kUjIIb"
      },
      "execution_count": null,
      "outputs": []
    }
  ]
}